{
 "cells": [
  {
   "cell_type": "code",
   "execution_count": 6,
   "metadata": {},
   "outputs": [],
   "source": [
    "import pandas as pd\n",
    "import os\n",
    "import re\n",
    "import sys\n",
    "\n",
    "#os.chdir('../')\n",
    "sys.path.insert(0, '/Users/alanliu99/Documents/GitHub/yelp-recommender-system/src')\n",
    "from tfidf import *"
   ]
  },
  {
   "cell_type": "code",
   "execution_count": 4,
   "metadata": {},
   "outputs": [],
   "source": [
    "#os.chdir('../')\n",
    "business = pd.read_csv('data/business.csv')\n",
    "#review = pd.read_csv('test/testdata/test_review.csv')\n",
    "las_vagas_test_reviews = pd.read_csv('test/testdata/las_vagas_test_reviews.csv')"
   ]
  },
  {
   "cell_type": "code",
   "execution_count": 7,
   "metadata": {},
   "outputs": [],
   "source": [
    "user_df = preprocess_group_user_review(las_vagas_test_reviews)\n",
    "rest_df = preprocess_group_restaurant_review(las_vagas_test_reviews, business)\n",
    "user_feature_matrix = generate_user_matrix(user_df, 'user_id')\n",
    "rest_feature_matrix = generate_user_matrix(rest_df, 'business_id')"
   ]
  },
  {
   "cell_type": "code",
   "execution_count": 35,
   "metadata": {},
   "outputs": [
    {
     "data": {
      "text/html": [
       "<div>\n",
       "<style scoped>\n",
       "    .dataframe tbody tr th:only-of-type {\n",
       "        vertical-align: middle;\n",
       "    }\n",
       "\n",
       "    .dataframe tbody tr th {\n",
       "        vertical-align: top;\n",
       "    }\n",
       "\n",
       "    .dataframe thead th {\n",
       "        text-align: right;\n",
       "    }\n",
       "</style>\n",
       "<table border=\"1\" class=\"dataframe\">\n",
       "  <thead>\n",
       "    <tr style=\"text-align: right;\">\n",
       "      <th></th>\n",
       "      <th>index</th>\n",
       "      <th>name</th>\n",
       "      <th>business_id</th>\n",
       "      <th>city</th>\n",
       "      <th>categories</th>\n",
       "    </tr>\n",
       "  </thead>\n",
       "  <tbody>\n",
       "    <tr>\n",
       "      <th>0</th>\n",
       "      <td>4373</td>\n",
       "      <td>Fresh Kabob</td>\n",
       "      <td>TspQ9jCczz436RiJHJQYZw</td>\n",
       "      <td>Las Vegas</td>\n",
       "      <td>Restaurants, Mediterranean</td>\n",
       "    </tr>\n",
       "  </tbody>\n",
       "</table>\n",
       "</div>"
      ],
      "text/plain": [
       "   index         name             business_id       city  \\\n",
       "0   4373  Fresh Kabob  TspQ9jCczz436RiJHJQYZw  Las Vegas   \n",
       "\n",
       "                   categories  \n",
       "0  Restaurants, Mediterranean  "
      ]
     },
     "execution_count": 35,
     "metadata": {},
     "output_type": "execute_result"
    }
   ],
   "source": [
    "las_vagas_test_reviews[las_vagas_test_reviews.business_id == random_rest][['name','business_id','city','categories']].head(1).reset_index(inplace = False)"
   ]
  },
  {
   "cell_type": "code",
   "execution_count": 10,
   "metadata": {},
   "outputs": [
    {
     "data": {
      "text/html": [
       "<div>\n",
       "<style scoped>\n",
       "    .dataframe tbody tr th:only-of-type {\n",
       "        vertical-align: middle;\n",
       "    }\n",
       "\n",
       "    .dataframe tbody tr th {\n",
       "        vertical-align: top;\n",
       "    }\n",
       "\n",
       "    .dataframe thead th {\n",
       "        text-align: right;\n",
       "    }\n",
       "</style>\n",
       "<table border=\"1\" class=\"dataframe\">\n",
       "  <thead>\n",
       "    <tr style=\"text-align: right;\">\n",
       "      <th></th>\n",
       "      <th>user_id</th>\n",
       "      <th>text</th>\n",
       "      <th>categories</th>\n",
       "    </tr>\n",
       "  </thead>\n",
       "  <tbody>\n",
       "    <tr>\n",
       "      <th>0</th>\n",
       "      <td>TScUbGDVH5aTAQ0lHSrB5Q</td>\n",
       "      <td>Absolutely loved it  Great service and exper...</td>\n",
       "      <td>Creperies, Restaurants, Event Planning &amp; Servi...</td>\n",
       "    </tr>\n",
       "    <tr>\n",
       "      <th>1</th>\n",
       "      <td>vwLV4TkRMoghs86tB1Ke8Q</td>\n",
       "      <td>Catherine was our server and she also is one...</td>\n",
       "      <td>Creperies, Restaurants, Event Planning &amp; Servi...</td>\n",
       "    </tr>\n",
       "    <tr>\n",
       "      <th>2</th>\n",
       "      <td>Ki6WiGwj7H6CyItdZTKjKg</td>\n",
       "      <td>This is a completely charming French lunch r...</td>\n",
       "      <td>Creperies, Restaurants, Event Planning &amp; Servi...</td>\n",
       "    </tr>\n",
       "    <tr>\n",
       "      <th>3</th>\n",
       "      <td>8SzKrRtsiHBqR7yupCaW5Q</td>\n",
       "      <td>This is the best place for the authentic Fre...</td>\n",
       "      <td>Creperies, Restaurants, Event Planning &amp; Servi...</td>\n",
       "    </tr>\n",
       "    <tr>\n",
       "      <th>4</th>\n",
       "      <td>e3cezqVRgQif8cyaZin1Tg</td>\n",
       "      <td>Yummy  authentic and exceptional service   T...</td>\n",
       "      <td>Creperies, Restaurants, Event Planning &amp; Servi...</td>\n",
       "    </tr>\n",
       "  </tbody>\n",
       "</table>\n",
       "</div>"
      ],
      "text/plain": [
       "                  user_id                                               text  \\\n",
       "0  TScUbGDVH5aTAQ0lHSrB5Q    Absolutely loved it  Great service and exper...   \n",
       "1  vwLV4TkRMoghs86tB1Ke8Q    Catherine was our server and she also is one...   \n",
       "2  Ki6WiGwj7H6CyItdZTKjKg    This is a completely charming French lunch r...   \n",
       "3  8SzKrRtsiHBqR7yupCaW5Q    This is the best place for the authentic Fre...   \n",
       "4  e3cezqVRgQif8cyaZin1Tg    Yummy  authentic and exceptional service   T...   \n",
       "\n",
       "                                          categories  \n",
       "0  Creperies, Restaurants, Event Planning & Servi...  \n",
       "1  Creperies, Restaurants, Event Planning & Servi...  \n",
       "2  Creperies, Restaurants, Event Planning & Servi...  \n",
       "3  Creperies, Restaurants, Event Planning & Servi...  \n",
       "4  Creperies, Restaurants, Event Planning & Servi...  "
      ]
     },
     "execution_count": 10,
     "metadata": {},
     "output_type": "execute_result"
    }
   ],
   "source": [
    "make_recommendations(random_user, user_feature_matrix, user_df[['user_id','text', 'categories']], k=5)"
   ]
  },
  {
   "cell_type": "code",
   "execution_count": null,
   "metadata": {},
   "outputs": [],
   "source": [
    "las_vegas = pd.read_csv('data/Las_Vegas_user_groupby_review.csv')\n",
    "#las_vegas_all_reviews = pd.read_csv('data/Las_Vegas_review.csv')\n",
    "#reviews = pd.read_csv('data/reviews.csv')\n",
    "business = pd.read_csv('data/business.csv')"
   ]
  },
  {
   "cell_type": "code",
   "execution_count": null,
   "metadata": {},
   "outputs": [],
   "source": [
    "cities = ['Las Vegas','Phoenix','Toronto']\n",
    "business.dropna(inplace = True)\n",
    "restaurants_business = business[business.categories.str.contains(\"Restaurants\")]\n",
    "business_city = restaurants_business[restaurants_business.city == 'Las Vegas']\n",
    "bus_rev_city = business_city.merge(reviews, on = 'business_id')\n",
    "bus_rev_city = bus_rev_city.drop(columns = ['Unnamed: 0'])"
   ]
  },
  {
   "cell_type": "code",
   "execution_count": null,
   "metadata": {},
   "outputs": [],
   "source": [
    "larger_than_5_review_user = las_vegas_all_reviews[las_vegas_all_reviews.user_id.isin(filtered_larger_5.index.values)]\n",
    "larger_than_5_review_user"
   ]
  },
  {
   "cell_type": "code",
   "execution_count": null,
   "metadata": {},
   "outputs": [],
   "source": [
    "larger_than_5_review_user.to_csv('5_more_review_Las_Vegas.csv', index = False)"
   ]
  },
  {
   "cell_type": "markdown",
   "metadata": {},
   "source": [
    "### Preprocess for TF-IDF"
   ]
  },
  {
   "cell_type": "code",
   "execution_count": null,
   "metadata": {},
   "outputs": [],
   "source": [
    "larger_than_5_review_user"
   ]
  },
  {
   "cell_type": "code",
   "execution_count": null,
   "metadata": {},
   "outputs": [],
   "source": [
    "def preprocess_group_user_review(review_df):\n",
    "    user_df = review_df[['text','categories','user_id']].groupby('user_id').agg({'text':list,\n",
    "                                                                            'categories':lambda column: ' '.join(column)}\n",
    "                                                                          ).reset_index()\n",
    "    user_df.text = user_df.text.apply(lambda t: \"\".join(re.sub(r'[^\\w\\s]',' ',str(t))).replace(\"\\n\",\" \"))\n",
    "    return user_df"
   ]
  },
  {
   "cell_type": "code",
   "execution_count": null,
   "metadata": {},
   "outputs": [],
   "source": [
    "def preprocess_group_restaurant_review(review_df, business_df):\n",
    "    restaurant_df = review_df[['text','stars','business_id']].groupby('business_id').agg({'text':list,\n",
    "                                                                                          'stars':np.mean}\n",
    "                                                                                        ).reset_index()\n",
    "    restaurant_df.text = restaurant_df.text.apply(lambda t: \"\".join(re.sub(r'[^\\w\\s]',' ',str(t))).replace(\"\\n\",\" \"))\n",
    "    return restaurant_df.merge(business_df[['name', 'business_id']], on = 'business_id')"
   ]
  },
  {
   "cell_type": "code",
   "execution_count": null,
   "metadata": {},
   "outputs": [],
   "source": [
    "joined_user = preprocess_group_user_review(larger_than_5_review_user)\n",
    "joined_user"
   ]
  },
  {
   "cell_type": "code",
   "execution_count": null,
   "metadata": {},
   "outputs": [],
   "source": [
    "joined_restaurant = preprocess_group_restaurant_review(larger_than_5_review_user, business)\n",
    "joined_restaurant"
   ]
  },
  {
   "cell_type": "markdown",
   "metadata": {},
   "source": [
    "### Convert the text review dataframe into the TF-IDF featue matrix"
   ]
  },
  {
   "cell_type": "code",
   "execution_count": null,
   "metadata": {},
   "outputs": [],
   "source": [
    "tf = TfidfVectorizer(analyzer='word', ngram_range=(1, 3), min_df=0, stop_words='english')\n",
    "tfidf_matrix = tf.fit_transform(joined_user.text.apply(lambda x: x.lower()))"
   ]
  },
  {
   "cell_type": "markdown",
   "metadata": {},
   "source": [
    "### User - User Simple TF-IDF and Cosine Similarity recommendation"
   ]
  },
  {
   "cell_type": "code",
   "execution_count": null,
   "metadata": {},
   "outputs": [],
   "source": [
    "def user_recommendations(ID, df, record, k=10):\n",
    "    \"\"\"\n",
    "    Recommends user based on a similarity dataframe\n",
    "    Parameters\n",
    "    ----------\n",
    "    ID : str\n",
    "        User ID (index of the similarity dataframe)\n",
    "    df : pd.DataFrame\n",
    "        Similarity dataframe, symmetric, with movies as indices and columns\n",
    "    record : pd.DataFrame\n",
    "        The record of original user and some other features used to define similarity\n",
    "    k : int\n",
    "        Amount of recommendations to return\n",
    "    \"\"\"\n",
    "    ix = df.loc[:,ID].to_numpy().argpartition(range(-1,-k,-1))\n",
    "    high_recomm = df.columns[ix[-1:-(k+2):-1]]\n",
    "    high_recomm = high_recomm.drop(ID, errors='ignore')\n",
    "    return pd.DataFrame(high_recomm).merge(record).head(k)"
   ]
  },
  {
   "cell_type": "code",
   "execution_count": null,
   "metadata": {},
   "outputs": [],
   "source": [
    "# direct calculate the cosine similarity and generate the dataframe\n",
    "cosine_sim = cosine_similarity(tfidf_matrix)"
   ]
  },
  {
   "cell_type": "code",
   "execution_count": null,
   "metadata": {},
   "outputs": [],
   "source": [
    "user_user_df = pd.DataFrame(cosine_sim, columns=t.user_id, index=t.user_id)"
   ]
  },
  {
   "cell_type": "code",
   "execution_count": null,
   "metadata": {},
   "outputs": [],
   "source": [
    "# given a user ID and the similarity matrix, recommend a list of similar user\n",
    "user_id = '---1lKK3aKOuomHnwAkAow' # input user id\n",
    "add_on = t[['user_id','text', 'categories']]\n",
    "\n",
    "user_recommendations(user_id, user_user_df, add_on, k=5)"
   ]
  },
  {
   "cell_type": "markdown",
   "metadata": {},
   "source": [
    "### Resraurant - Reataurant TF-IDF approach"
   ]
  },
  {
   "cell_type": "code",
   "execution_count": null,
   "metadata": {},
   "outputs": [],
   "source": [
    "def restaurant_recommendations(business_ID, df, record, k=10):\n",
    "    \"\"\"\n",
    "    Recommends user based on a similarity dataframe\n",
    "    Parameters\n",
    "    ----------\n",
    "    ID : str\n",
    "        Restaurant Business ID (index of the similarity dataframe)\n",
    "    df : pd.DataFrame\n",
    "        Similarity dataframe, symmetric, with movies as indices and columns\n",
    "    record : pd.DataFrame\n",
    "        The record of original user and some other features used to define similarity\n",
    "    k : int\n",
    "        Amount of recommendations to return\n",
    "    \"\"\"\n",
    "    ix = df.loc[:,business_ID].to_numpy().argpartition(range(-1,-k,-1))\n",
    "    high_recomm = df.columns[ix[-1:-(k+2):-1]]\n",
    "    high_recomm = high_recomm.drop(business_ID, errors='ignore')\n",
    "    return pd.DataFrame(high_recomm).merge(record).drop_duplicates().head(k)"
   ]
  },
  {
   "cell_type": "code",
   "execution_count": null,
   "metadata": {},
   "outputs": [],
   "source": [
    "# direct calculate the cosine similarity and generate the dataframe\n",
    "cosine_sim = cosine_similarity(tfidf_matrix)\n",
    "rest_rest_df = pd.DataFrame(cosine_sim, columns=joined_restaurant.business_id, index=joined_restaurant.business_id)"
   ]
  },
  {
   "cell_type": "code",
   "execution_count": null,
   "metadata": {},
   "outputs": [],
   "source": [
    "# given a user ID and the similarity matrix, recommend a list of similar user\n",
    "business_id = '4Nj2ktP2NjCbv2aKeH3ZBg' # input business id\n",
    "add_on = a[['business_id','categories']]\n",
    "\n",
    "restaurant_recommendations(business_id, rest_rest_df, add_on, k=5)"
   ]
  },
  {
   "cell_type": "markdown",
   "metadata": {},
   "source": [
    "### Other Try"
   ]
  },
  {
   "cell_type": "code",
   "execution_count": null,
   "metadata": {},
   "outputs": [],
   "source": [
    "for i in tqdm(range(len(cities))):\n",
    "    business_city = restaurants_business[restaurants_business.city == cities[i]]\n",
    "    bus_rev_city = business_city.merge(reviews, on = 'business_id')"
   ]
  },
  {
   "cell_type": "code",
   "execution_count": null,
   "metadata": {},
   "outputs": [],
   "source": [
    "def calc_sim_user_rating(target_user_id, target_business_id, groupby_df, original_df):\n",
    "    business_id_df = original_df[original_df.business_id == target_business_id].copy()\n",
    "    \n",
    "    target_user_tfidf = tfidf_matrix[groupby_df[groupby_df.user_id == target_user_id].index[0]].copy()\n",
    "    \n",
    "    dist_user = []\n",
    "    for user_id in business_id_df.user_id.values:\n",
    "        dist_user.append(cosine_similarity(tfidf_matrix[groupby_df[groupby_df.user_id==user_id].index[0]],\n",
    "                                           target_user_vector)[0][0])\n",
    "        \n",
    "    business_id_df['similarity'] = dist_user    \n",
    "    #Filtering technique = Calc percentile and filter percentiles > 80%\n",
    "    business_id_df = business_id_df[business_id_df.rank(pct=True).similarity > .8]\n",
    "     \n",
    "    rating_diff = []\n",
    "    for user_id in business_id_df.user_id.values:\n",
    "        rating_diff.append(test_rest_user_id.stars_review[test_rest_user_id.user_id==user_id].values[0]\n",
    "                            -np.average(city_train[city_train.user_id ==user_id].stars_review.values))\n",
    "    test_rest_user_id['rating_diff'] = rating_diff\n",
    "    \n",
    "    return np.average(test_rest_user_id.rating_diff)"
   ]
  },
  {
   "cell_type": "code",
   "execution_count": null,
   "metadata": {},
   "outputs": [],
   "source": [
    "cosine_similarities = linear_kernel(tfidf_matrix, tfidf_matrix)\n",
    "\n",
    "results = {}\n",
    "\n",
    "for idx, row in test.iterrows():\n",
    "    similar_indices = cosine_similarities[idx].argsort()[:-100:-1]\n",
    "    similar_items = [(cosine_similarities[idx][i], test['user_id'][i]) for i in similar_indices]\n",
    "\n",
    "    results[row['user_id']] = similar_items[1:]\n",
    "    \n",
    "print('done!')\n",
    "\n",
    "def item(id):\n",
    "    return test.loc[test['user_id'] == id]['text'].tolist()[0].split(' - ')[0]\n",
    "\n",
    "# Just reads the results out of the dictionary.\n",
    "def recommend(item_id, num):\n",
    "    print(\"Recommending \" + str(num) + \" products similar to \" + item(item_id) + \"...\")\n",
    "    print(\"-------\")\n",
    "    recs = results[item_id][:num]\n",
    "    for rec in recs:\n",
    "        print(\"Recommended: \" + item(rec[1]) + \" (score:\" + str(rec[0]) + \")\")"
   ]
  }
 ],
 "metadata": {
  "kernelspec": {
   "display_name": "Python 3",
   "language": "python",
   "name": "python3"
  },
  "language_info": {
   "codemirror_mode": {
    "name": "ipython",
    "version": 3
   },
   "file_extension": ".py",
   "mimetype": "text/x-python",
   "name": "python",
   "nbconvert_exporter": "python",
   "pygments_lexer": "ipython3",
   "version": "3.8.5"
  }
 },
 "nbformat": 4,
 "nbformat_minor": 4
}
