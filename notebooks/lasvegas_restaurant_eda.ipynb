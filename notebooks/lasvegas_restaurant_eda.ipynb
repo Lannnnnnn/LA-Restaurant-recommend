{
 "cells": [
  {
   "cell_type": "code",
   "execution_count": 86,
   "metadata": {},
   "outputs": [],
   "source": [
    "import pandas as pd\n",
    "import pyspark.ml as M\n",
    "import pyspark.sql.functions as F\n",
    "import pyspark.sql.types as T\n",
    "from pyspark.sql import SparkSession"
   ]
  },
  {
   "cell_type": "code",
   "execution_count": 3,
   "metadata": {},
   "outputs": [],
   "source": [
    "spark = SparkSession \\\n",
    "    .builder \\\n",
    "    .appName(\"yelp-reccomender\") \\\n",
    "    .getOrCreate()"
   ]
  },
  {
   "cell_type": "code",
   "execution_count": 3,
   "metadata": {},
   "outputs": [],
   "source": [
    "schema = T.StructType([\n",
    "    T.StructField(\"_c01\", T.IntegerType(), True),\n",
    "    T.StructField(\"name\", T.StringType(), True),\n",
    "    T.StructField(\"business_id\", T.StringType(), True),   \n",
    "    T.StructField(\"city\", T.StringType(), True),   \n",
    "    T.StructField(\"categories\", T.StringType(), True),\n",
    "    T.StructField(\"review_id\", T.StringType(), True),   \n",
    "    T.StructField(\"text\", T.StringType(), True),      \n",
    "    T.StructField(\"stars\", T.FloatType(), True)                    \n",
    "])"
   ]
  },
  {
   "cell_type": "code",
   "execution_count": 6,
   "metadata": {},
   "outputs": [],
   "source": [
    "lv = spark.read.csv(\"../data/raw/Las_Vegas_reviews.csv\", header=True, multiLine=True, schema=schema, quote=\"\\\"\", escape=\"\\\"\")\n",
    "# lv = spark.read.csv(\"../../../yelp_dataset/Phoenix_reviews_Cath.csv\", header=True, multiLine=True, schema=schema, quote=\"\\\"\", escape=\"\\\"\")"
   ]
  },
  {
   "cell_type": "code",
   "execution_count": 7,
   "metadata": {},
   "outputs": [],
   "source": [
    "# df = lv.filter(\n",
    "#     (F.col('categories').contains('Restaurants')) |\n",
    "#     (F.col('categories').contains('Food'))\n",
    "# )\n",
    "df = lv.withColumn('list_cat', F.split(lv.categories, ', ')) # string to list\n",
    "df = df.withColumn('list_cat', F.explode_outer('list_cat')) # list to rows\n",
    "indexer = M.feature.StringIndexer(inputCol=\"list_cat\", outputCol=\"cat_num\") # convert category to numerical indices\n",
    "indexed = indexer.fit(df).transform(df)\n",
    "encoder = M.feature.OneHotEncoder(inputCol=\"cat_num\", outputCol=\"cat_onehot\")\n",
    "# params = {encoder.dropLast: False}\n",
    "# encoded_df = encoder.transform(indexed, params)"
   ]
  },
  {
   "cell_type": "code",
   "execution_count": 8,
   "metadata": {},
   "outputs": [],
   "source": [
    "params = {encoder.dropLast: False}\n",
    "ohe = encoder.fit(indexed)\n",
    "encoded_df = ohe.transform(indexed, params)"
   ]
  },
  {
   "cell_type": "code",
   "execution_count": 9,
   "metadata": {},
   "outputs": [],
   "source": [
    "cat_group = indexed[['cat_num']].groupby(\"cat_num\").count()"
   ]
  },
  {
   "cell_type": "code",
   "execution_count": 10,
   "metadata": {},
   "outputs": [],
   "source": [
    "reverse_index = M.feature.IndexToString(inputCol='cat_num', outputCol='cat_names')"
   ]
  },
  {
   "cell_type": "code",
   "execution_count": 11,
   "metadata": {},
   "outputs": [],
   "source": [
    "names_df = reverse_index.transform(cat_group)"
   ]
  },
  {
   "cell_type": "code",
   "execution_count": 48,
   "metadata": {},
   "outputs": [],
   "source": [
    "a = names_df.orderBy(F.desc(\"count\")).take(12)"
   ]
  },
  {
   "cell_type": "code",
   "execution_count": 49,
   "metadata": {},
   "outputs": [],
   "source": [
    "df = pd.DataFrame(a[2:])[[2,1]]\n",
    "df = df.rename(columns={2:'Category', 1:'Count'})"
   ]
  },
  {
   "cell_type": "code",
   "execution_count": 50,
   "metadata": {},
   "outputs": [
    {
     "data": {
      "text/plain": [
       "<matplotlib.axes._subplots.AxesSubplot at 0x7fee28f6edd0>"
      ]
     },
     "execution_count": 50,
     "metadata": {},
     "output_type": "execute_result"
    },
    {
     "data": {
      "image/png": "[encoded data removed]",
      "text/plain": [
       "<Figure size 432x288 with 1 Axes>"
      ]
     },
     "metadata": {
      "needs_background": "light"
     },
     "output_type": "display_data"
    }
   ],
   "source": [
    "df.plot.barh(x=\"Category\", y=\"Count\")"
   ]
  },
  {
   "cell_type": "code",
   "execution_count": 4,
   "metadata": {},
   "outputs": [],
   "source": [
    "# lv = pd.read_csv(\"../../../yelp_dataset/Las_Vegas_reviews.csv\")\n",
    "lv = pd.read_csv(\"../data/raw/Las_Vegas_reviews.csv\")"
   ]
  },
  {
   "cell_type": "code",
   "execution_count": 5,
   "metadata": {},
   "outputs": [
    {
     "data": {
      "text/html": [
       "<div>\n",
       "<style scoped>\n",
       "    .dataframe tbody tr th:only-of-type {\n",
       "        vertical-align: middle;\n",
       "    }\n",
       "\n",
       "    .dataframe tbody tr th {\n",
       "        vertical-align: top;\n",
       "    }\n",
       "\n",
       "    .dataframe thead th {\n",
       "        text-align: right;\n",
       "    }\n",
       "</style>\n",
       "<table border=\"1\" class=\"dataframe\">\n",
       "  <thead>\n",
       "    <tr style=\"text-align: right;\">\n",
       "      <th></th>\n",
       "      <th>Unnamed: 0</th>\n",
       "      <th>name</th>\n",
       "      <th>business_id</th>\n",
       "      <th>city</th>\n",
       "      <th>categories</th>\n",
       "      <th>review_id</th>\n",
       "      <th>text</th>\n",
       "      <th>stars</th>\n",
       "    </tr>\n",
       "  </thead>\n",
       "  <tbody>\n",
       "    <tr>\n",
       "      <th>0</th>\n",
       "      <td>0</td>\n",
       "      <td>Carl's Jr</td>\n",
       "      <td>fnZrZlqW1Z8iWgTVDfv_MA</td>\n",
       "      <td>Las Vegas</td>\n",
       "      <td>Mexican, Restaurants, Fast Food</td>\n",
       "      <td>WUAt5-krh075Ie44np8Hew</td>\n",
       "      <td>So why would I be giving a Fast Food chain loc...</td>\n",
       "      <td>5.0</td>\n",
       "    </tr>\n",
       "    <tr>\n",
       "      <th>1</th>\n",
       "      <td>1</td>\n",
       "      <td>Carl's Jr</td>\n",
       "      <td>fnZrZlqW1Z8iWgTVDfv_MA</td>\n",
       "      <td>Las Vegas</td>\n",
       "      <td>Mexican, Restaurants, Fast Food</td>\n",
       "      <td>S9vIs-je49jqbhpWSQ8yHg</td>\n",
       "      <td>I come here bout 3x's a mo. &amp; I just can't do ...</td>\n",
       "      <td>2.0</td>\n",
       "    </tr>\n",
       "    <tr>\n",
       "      <th>2</th>\n",
       "      <td>2</td>\n",
       "      <td>Carl's Jr</td>\n",
       "      <td>fnZrZlqW1Z8iWgTVDfv_MA</td>\n",
       "      <td>Las Vegas</td>\n",
       "      <td>Mexican, Restaurants, Fast Food</td>\n",
       "      <td>i2Soid_X8XsSTyIrPOst6g</td>\n",
       "      <td>WORST experience EVER!!!!! never have i ate an...</td>\n",
       "      <td>1.0</td>\n",
       "    </tr>\n",
       "    <tr>\n",
       "      <th>3</th>\n",
       "      <td>3</td>\n",
       "      <td>Carl's Jr</td>\n",
       "      <td>fnZrZlqW1Z8iWgTVDfv_MA</td>\n",
       "      <td>Las Vegas</td>\n",
       "      <td>Mexican, Restaurants, Fast Food</td>\n",
       "      <td>uDYGaAOUgo7SLuH5nUZs3w</td>\n",
       "      <td>Hot fresh food usually.  Staff seems to turn o...</td>\n",
       "      <td>4.0</td>\n",
       "    </tr>\n",
       "    <tr>\n",
       "      <th>4</th>\n",
       "      <td>4</td>\n",
       "      <td>Carl's Jr</td>\n",
       "      <td>fnZrZlqW1Z8iWgTVDfv_MA</td>\n",
       "      <td>Las Vegas</td>\n",
       "      <td>Mexican, Restaurants, Fast Food</td>\n",
       "      <td>Xg7HuBvuZHTBog1G_2Wk0w</td>\n",
       "      <td>Beer battered cod fish seems really rubbery. I...</td>\n",
       "      <td>3.0</td>\n",
       "    </tr>\n",
       "  </tbody>\n",
       "</table>\n",
       "</div>"
      ],
      "text/plain": [
       "   Unnamed: 0       name             business_id       city  \\\n",
       "0           0  Carl's Jr  fnZrZlqW1Z8iWgTVDfv_MA  Las Vegas   \n",
       "1           1  Carl's Jr  fnZrZlqW1Z8iWgTVDfv_MA  Las Vegas   \n",
       "2           2  Carl's Jr  fnZrZlqW1Z8iWgTVDfv_MA  Las Vegas   \n",
       "3           3  Carl's Jr  fnZrZlqW1Z8iWgTVDfv_MA  Las Vegas   \n",
       "4           4  Carl's Jr  fnZrZlqW1Z8iWgTVDfv_MA  Las Vegas   \n",
       "\n",
       "                        categories               review_id  \\\n",
       "0  Mexican, Restaurants, Fast Food  WUAt5-krh075Ie44np8Hew   \n",
       "1  Mexican, Restaurants, Fast Food  S9vIs-je49jqbhpWSQ8yHg   \n",
       "2  Mexican, Restaurants, Fast Food  i2Soid_X8XsSTyIrPOst6g   \n",
       "3  Mexican, Restaurants, Fast Food  uDYGaAOUgo7SLuH5nUZs3w   \n",
       "4  Mexican, Restaurants, Fast Food  Xg7HuBvuZHTBog1G_2Wk0w   \n",
       "\n",
       "                                                text  stars  \n",
       "0  So why would I be giving a Fast Food chain loc...    5.0  \n",
       "1  I come here bout 3x's a mo. & I just can't do ...    2.0  \n",
       "2  WORST experience EVER!!!!! never have i ate an...    1.0  \n",
       "3  Hot fresh food usually.  Staff seems to turn o...    4.0  \n",
       "4  Beer battered cod fish seems really rubbery. I...    3.0  "
      ]
     },
     "execution_count": 5,
     "metadata": {},
     "output_type": "execute_result"
    }
   ],
   "source": [
    "lv.head()"
   ]
  },
  {
   "cell_type": "code",
   "execution_count": 42,
   "metadata": {},
   "outputs": [],
   "source": [
    "a = lv['text'].to_dict()"
   ]
  },
  {
   "cell_type": "code",
   "execution_count": 45,
   "metadata": {},
   "outputs": [
    {
     "data": {
      "text/plain": [
       "\"So why would I be giving a Fast Food chain location a 5 star rating? For some reason, THIS Carl's Jr. is one in a million. Yes, there is an In-and-Out across the street but this Carl's Jr is everything In-and-Out can't be. \\n\\nFirst of all, THEIR SHAKES!!! Carl's Jr. shakes are hand scooped, and mixed upon order unlike they're competitors across the street. The chocolate shake IS the best I've EVER had from a drive thru. Point for Carl's Jr.\\n\\nSecond, the hand battered chicken strips were literally hand battered, i watch the guy through the service window dip and fry. The single best chicken strips i've ever had (but they may need new sauces, tired of BBQ...but still outstanding nonetheless). Point 2 for Carl's Jr\\n\\nLastly, Hours. 24/7 on the weekends and midnight on the weekdays. Brilliant for my late night guru-ness.\\n\\nWorth the drive!\""
      ]
     },
     "execution_count": 45,
     "metadata": {},
     "output_type": "execute_result"
    }
   ],
   "source": [
    "a[0]"
   ]
  },
  {
   "cell_type": "code",
   "execution_count": 60,
   "metadata": {},
   "outputs": [],
   "source": [
    "import json\n",
    "with open('../data/autophrase_in/reviews.txt', 'w') as f:\n",
    "    i = 0\n",
    "    for i, review in enumerate(lv.text):\n",
    "        if i < 10:\n",
    "            f.write(json.dumps({i:review}))\n",
    "            f.write(\",\")\n",
    "        else:\n",
    "            break"
   ]
  },
  {
   "cell_type": "code",
   "execution_count": 174,
   "metadata": {},
   "outputs": [],
   "source": [
    "import json\n",
    "# with open('../data/autophrase_in/reviews.txt', 'w') as f:\n",
    "with open('../../DSC180A-Project/data/in/yelp_reviews1.txt', 'w') as f:\n",
    "    i = 0\n",
    "    for review in lv.text:\n",
    "#         i+=1\n",
    "#         if i < 10:\n",
    "        f.write(review)\n",
    "        f.write(\"\\n.\\n\")\n",
    "#         else:\n",
    "#             break\n",
    "#     f.write(json.dumps(lv.text.to_dict()))"
   ]
  },
  {
   "cell_type": "code",
   "execution_count": 1,
   "metadata": {},
   "outputs": [],
   "source": [
    "# with open('../data/autophrase_in/reviews.txt', 'w') as f:\n",
    "#     f.write('test')\n",
    "# with open('../data/autophrase_out/segmentation.txt', 'r') as f:\n",
    "with open('../../DSC180A-Project/data/out/segmentation.txt', 'r') as f:\n",
    "# with open('../../DSC180A-Project/data/in/yelp_reviews.txt', 'r') as f:\n",
    "# with open('../../DSC180A-Project/data/in/yelp_reviews1.txt', 'r') as f:\n",
    "    a = f.read()\n",
    "    b = a.split(\"\\n.\\n\")"
   ]
  },
  {
   "cell_type": "code",
   "execution_count": 7,
   "metadata": {},
   "outputs": [
    {
     "data": {
      "text/plain": [
       "\"I come here bout 3x's a mo. & I just can't do it anymore. The cook that works on <phrase>late shift</phrase> SUCKS. The <phrase>manager</phrase> is sweet. I always get <phrase>chicken</phrase> <phrase>Santa Fe</phrase> & I have to request <phrase>fresh lettuce</phrase>. The <phrase>chicken</phrase> is <phrase>rubber</phrase>, the <phrase>bread</phrase> hard on the outside. Tonight I received it the same way however my <phrase>cheese</phrase> wasn't even melted. \\nIM DONE!  I go after work arrive always bout 1130pm. I'm sooooo DONE!!! Let me know when u get a new night cook! \\nYes I do know <phrase>food</phrase> I've been in the <phrase>industry</phrase> 15 yrs.\""
      ]
     },
     "execution_count": 7,
     "metadata": {},
     "output_type": "execute_result"
    }
   ],
   "source": [
    "b[1]"
   ]
  },
  {
   "cell_type": "code",
   "execution_count": 3,
   "metadata": {},
   "outputs": [
    {
     "data": {
      "text/plain": [
       "\"So why would I be giving a <phrase>Fast Food chain</phrase> location a 5 <phrase>star</phrase> rating? For some reason, THIS <phrase>Carl's Jr</phrase>. is one in a million. Yes, there is an In-and-Out across the street but this <phrase>Carl's Jr</phrase> is everything In-and-Out can't be. \\n\\nFirst of all, THEIR SHAKES!!! <phrase>Carl's Jr</phrase>. shakes are <phrase>hand scooped</phrase>, and mixed upon <phrase>order</phrase> unlike they're competitors across the street. The <phrase>chocolate</phrase> shake IS the best I've EVER had from a <phrase>drive thru</phrase>. Point for <phrase>Carl's Jr</phrase>.\\n\\nSecond, the <phrase>hand battered</phrase> <phrase>chicken</phrase> <phrase>strips</phrase> were literally <phrase>hand battered</phrase>, i <phrase>watch</phrase> the guy through the service window dip and fry. The <phrase>single</phrase> best <phrase>chicken</phrase> <phrase>strips</phrase> i've ever had (but they may need new <phrase>sauces</phrase>, tired of BBQ...but still outstanding nonetheless). Point 2 for <phrase>Carl's Jr</phrase>\\n\\nLastly, Hours. 24/7 on the weekends and midnight on the weekdays. Brilliant for my <phrase>late night</phrase> <phrase>guru</phrase>-ness.\\n\\nWor\""
      ]
     },
     "execution_count": 3,
     "metadata": {},
     "output_type": "execute_result"
    }
   ],
   "source": [
    "a[:1205]"
   ]
  },
  {
   "cell_type": "code",
   "execution_count": 63,
   "metadata": {},
   "outputs": [],
   "source": [
    "with open('../data/autophrase_in/reviews.txt') as f:\n",
    "    data = json.load(f)"
   ]
  },
  {
   "cell_type": "code",
   "execution_count": 12,
   "metadata": {},
   "outputs": [
    {
     "ename": "TypeError",
     "evalue": "'GroupedData' object is not subscriptable",
     "output_type": "error",
     "traceback": [
      "\u001b[0;31m\u001b[0m",
      "\u001b[0;31mTypeError\u001b[0mTraceback (most recent call last)",
      "\u001b[0;32m<ipython-input-12-47278a0f22c3>\u001b[0m in \u001b[0;36m<module>\u001b[0;34m\u001b[0m\n\u001b[0;32m----> 1\u001b[0;31m \u001b[0ma\u001b[0m \u001b[0;34m=\u001b[0m \u001b[0mlv\u001b[0m\u001b[0;34m.\u001b[0m\u001b[0mgroupby\u001b[0m\u001b[0;34m(\u001b[0m\u001b[0;34m'review_id'\u001b[0m\u001b[0;34m)\u001b[0m\u001b[0;34m[\u001b[0m\u001b[0;34m'stars'\u001b[0m\u001b[0;34m]\u001b[0m\u001b[0;34m.\u001b[0m\u001b[0mcount\u001b[0m\u001b[0;34m(\u001b[0m\u001b[0;34m)\u001b[0m\u001b[0;34m\u001b[0m\u001b[0;34m\u001b[0m\u001b[0m\n\u001b[0m",
      "\u001b[0;31mTypeError\u001b[0m: 'GroupedData' object is not subscriptable"
     ]
    }
   ],
   "source": [
    "a = lv.groupby('review_id')['stars'].count()"
   ]
  },
  {
   "cell_type": "code",
   "execution_count": 32,
   "metadata": {},
   "outputs": [
    {
     "data": {
      "text/plain": [
       "DataFrame[_c01: int, name: string, business_id: string, city: string, categories: string, review_id: string, text: string, stars: float, list_cat: string, cat_num: double]"
      ]
     },
     "execution_count": 32,
     "metadata": {},
     "output_type": "execute_result"
    }
   ],
   "source": [
    "indexed"
   ]
  },
  {
   "cell_type": "code",
   "execution_count": 37,
   "metadata": {},
   "outputs": [
    {
     "data": {
      "text/plain": [
       "[Row(name='Chinese New Year Celebration', list_cat='Arts & Entertainment')]"
      ]
     },
     "execution_count": 37,
     "metadata": {},
     "output_type": "execute_result"
    }
   ],
   "source": [
    "indexed.select(\"name\", \"list_cat\").filter(F.col(\"list_cat\")==\"Arts & Entertainment\").take(1)"
   ]
  },
  {
   "cell_type": "code",
   "execution_count": null,
   "metadata": {},
   "outputs": [],
   "source": []
  }
 ],
 "metadata": {
  "kernelspec": {
   "display_name": "Python 3",
   "language": "python",
   "name": "python3"
  },
  "language_info": {
   "codemirror_mode": {
    "name": "ipython",
    "version": 3
   },
   "file_extension": ".py",
   "mimetype": "text/x-python",
   "name": "python",
   "nbconvert_exporter": "python",
   "pygments_lexer": "ipython3",
   "version": "3.7.6"
  }
 },
 "nbformat": 4,
 "nbformat_minor": 4
}
