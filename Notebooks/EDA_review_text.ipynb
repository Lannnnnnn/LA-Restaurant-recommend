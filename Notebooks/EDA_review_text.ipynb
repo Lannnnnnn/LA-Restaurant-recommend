{
 "cells": [
  {
   "cell_type": "code",
   "execution_count": 1,
   "metadata": {},
   "outputs": [],
   "source": [
    "import json\n",
    "import os\n",
    "import numpy as np\n",
    "import pandas as pd\n",
    "from datetime import datetime\n",
    "import seaborn as sns\n",
    "import random\n",
    "import matplotlib\n",
    "import matplotlib.pyplot as plt\n",
    "from scipy import sparse\n",
    "from sklearn.metrics.pairwise import cosine_similarity\n",
    "from sklearn.metrics import mean_squared_error\n",
    "import xgboost as xgb\n",
    "from tqdm import tqdm\n",
    "from nltk import tokenize\n"
   ]
  },
  {
   "cell_type": "code",
   "execution_count": 2,
   "metadata": {
    "scrolled": true
   },
   "outputs": [],
   "source": [
    "df = pd.read_csv('Phoenix_reviews.csv')"
   ]
  },
  {
   "cell_type": "code",
   "execution_count": 3,
   "metadata": {},
   "outputs": [
    {
     "data": {
      "text/html": [
       "<div>\n",
       "<style scoped>\n",
       "    .dataframe tbody tr th:only-of-type {\n",
       "        vertical-align: middle;\n",
       "    }\n",
       "\n",
       "    .dataframe tbody tr th {\n",
       "        vertical-align: top;\n",
       "    }\n",
       "\n",
       "    .dataframe thead th {\n",
       "        text-align: right;\n",
       "    }\n",
       "</style>\n",
       "<table border=\"1\" class=\"dataframe\">\n",
       "  <thead>\n",
       "    <tr style=\"text-align: right;\">\n",
       "      <th></th>\n",
       "      <th>name</th>\n",
       "      <th>business_id</th>\n",
       "      <th>city</th>\n",
       "      <th>categories</th>\n",
       "      <th>review_id</th>\n",
       "      <th>text</th>\n",
       "      <th>stars</th>\n",
       "      <th>user_id</th>\n",
       "    </tr>\n",
       "  </thead>\n",
       "  <tbody>\n",
       "    <tr>\n",
       "      <th>0</th>\n",
       "      <td>Wetzel's Pretzels</td>\n",
       "      <td>vjTVxnsQEZ34XjYNS-XUpA</td>\n",
       "      <td>Phoenix</td>\n",
       "      <td>Food, Pretzels, Bakeries, Fast Food, Restaurants</td>\n",
       "      <td>LyxX4jQXCj6p7ood9Y_ung</td>\n",
       "      <td>Love Wetzel's pretzels! I always get them when...</td>\n",
       "      <td>5.0</td>\n",
       "      <td>7C4B2Skmh4X9f8xJDo9O4w</td>\n",
       "    </tr>\n",
       "    <tr>\n",
       "      <th>2</th>\n",
       "      <td>Wetzel's Pretzels</td>\n",
       "      <td>vjTVxnsQEZ34XjYNS-XUpA</td>\n",
       "      <td>Phoenix</td>\n",
       "      <td>Food, Pretzels, Bakeries, Fast Food, Restaurants</td>\n",
       "      <td>WqQkmdfkcvQZNGpI6Xzfow</td>\n",
       "      <td>Wetzels's Pretzels is definitely amazing and v...</td>\n",
       "      <td>5.0</td>\n",
       "      <td>eavBO3KRzBf8sM6KGa_-NQ</td>\n",
       "    </tr>\n",
       "    <tr>\n",
       "      <th>3</th>\n",
       "      <td>Wetzel's Pretzels</td>\n",
       "      <td>vjTVxnsQEZ34XjYNS-XUpA</td>\n",
       "      <td>Phoenix</td>\n",
       "      <td>Food, Pretzels, Bakeries, Fast Food, Restaurants</td>\n",
       "      <td>lJsEaUqx_iS-IsPD3SHWlg</td>\n",
       "      <td>I love Wetzel's Pretzels. And I can't imagine ...</td>\n",
       "      <td>5.0</td>\n",
       "      <td>sYQyXDjGaJj7wfaqz5u8KQ</td>\n",
       "    </tr>\n",
       "    <tr>\n",
       "      <th>4</th>\n",
       "      <td>Wetzel's Pretzels</td>\n",
       "      <td>vjTVxnsQEZ34XjYNS-XUpA</td>\n",
       "      <td>Phoenix</td>\n",
       "      <td>Food, Pretzels, Bakeries, Fast Food, Restaurants</td>\n",
       "      <td>PfyDflR_hCtMsqR19KkNsg</td>\n",
       "      <td>Never heard of the cheese meltdown pretzel, bu...</td>\n",
       "      <td>4.0</td>\n",
       "      <td>ELcQDlf69kb-ihJfxZyL0A</td>\n",
       "    </tr>\n",
       "    <tr>\n",
       "      <th>5</th>\n",
       "      <td>Wetzel's Pretzels</td>\n",
       "      <td>vjTVxnsQEZ34XjYNS-XUpA</td>\n",
       "      <td>Phoenix</td>\n",
       "      <td>Food, Pretzels, Bakeries, Fast Food, Restaurants</td>\n",
       "      <td>RcsBd87ZxdI6h9A-E80X1A</td>\n",
       "      <td>PV Mall's food court needs updating, but that ...</td>\n",
       "      <td>4.0</td>\n",
       "      <td>y9yLaWKlT2aXLBs50FGvaw</td>\n",
       "    </tr>\n",
       "    <tr>\n",
       "      <th>...</th>\n",
       "      <td>...</td>\n",
       "      <td>...</td>\n",
       "      <td>...</td>\n",
       "      <td>...</td>\n",
       "      <td>...</td>\n",
       "      <td>...</td>\n",
       "      <td>...</td>\n",
       "      <td>...</td>\n",
       "    </tr>\n",
       "    <tr>\n",
       "      <th>517599</th>\n",
       "      <td>Hooters</td>\n",
       "      <td>YZeUH6zYS0dq5QHLYZhUnQ</td>\n",
       "      <td>Phoenix</td>\n",
       "      <td>Nightlife, American (Traditional), Chicken Win...</td>\n",
       "      <td>UHxh8cceuZ1epEsoaMqG_w</td>\n",
       "      <td>Only reason I'm rating a 1 star is because I o...</td>\n",
       "      <td>1.0</td>\n",
       "      <td>4nLvVz0SQ3SoW-IDROOl2g</td>\n",
       "    </tr>\n",
       "    <tr>\n",
       "      <th>517600</th>\n",
       "      <td>Hooters</td>\n",
       "      <td>YZeUH6zYS0dq5QHLYZhUnQ</td>\n",
       "      <td>Phoenix</td>\n",
       "      <td>Nightlife, American (Traditional), Chicken Win...</td>\n",
       "      <td>3ycxbjfTL-cPq_Fj0SxhyQ</td>\n",
       "      <td>Always good customer service if nikkei is work...</td>\n",
       "      <td>5.0</td>\n",
       "      <td>G6U4pyPsg3rkcIZBE0HGpw</td>\n",
       "    </tr>\n",
       "    <tr>\n",
       "      <th>517601</th>\n",
       "      <td>Hooters</td>\n",
       "      <td>YZeUH6zYS0dq5QHLYZhUnQ</td>\n",
       "      <td>Phoenix</td>\n",
       "      <td>Nightlife, American (Traditional), Chicken Win...</td>\n",
       "      <td>Lv86RrB9wZxq7LFbo8mokQ</td>\n",
       "      <td>I hate to give a one star, but this place need...</td>\n",
       "      <td>1.0</td>\n",
       "      <td>zY4RR6kG0AgioqbgpXCsFg</td>\n",
       "    </tr>\n",
       "    <tr>\n",
       "      <th>517602</th>\n",
       "      <td>Hooters</td>\n",
       "      <td>YZeUH6zYS0dq5QHLYZhUnQ</td>\n",
       "      <td>Phoenix</td>\n",
       "      <td>Nightlife, American (Traditional), Chicken Win...</td>\n",
       "      <td>6BA1Y6t4PIPg7RQthc6v8w</td>\n",
       "      <td>I LOVE HOOTERS! When I came to this particular...</td>\n",
       "      <td>1.0</td>\n",
       "      <td>Tc4lyLReAvMm0Q3uzuSY7Q</td>\n",
       "    </tr>\n",
       "    <tr>\n",
       "      <th>517603</th>\n",
       "      <td>Hooters</td>\n",
       "      <td>YZeUH6zYS0dq5QHLYZhUnQ</td>\n",
       "      <td>Phoenix</td>\n",
       "      <td>Nightlife, American (Traditional), Chicken Win...</td>\n",
       "      <td>U7kHdEaG1Ht5F5cAAHnLOw</td>\n",
       "      <td>It would be nice if they would update their ju...</td>\n",
       "      <td>3.0</td>\n",
       "      <td>_2HT951XwN7YlyWfdMXYNw</td>\n",
       "    </tr>\n",
       "  </tbody>\n",
       "</table>\n",
       "<p>510982 rows × 8 columns</p>\n",
       "</div>"
      ],
      "text/plain": [
       "                     name             business_id     city  \\\n",
       "0       Wetzel's Pretzels  vjTVxnsQEZ34XjYNS-XUpA  Phoenix   \n",
       "2       Wetzel's Pretzels  vjTVxnsQEZ34XjYNS-XUpA  Phoenix   \n",
       "3       Wetzel's Pretzels  vjTVxnsQEZ34XjYNS-XUpA  Phoenix   \n",
       "4       Wetzel's Pretzels  vjTVxnsQEZ34XjYNS-XUpA  Phoenix   \n",
       "5       Wetzel's Pretzels  vjTVxnsQEZ34XjYNS-XUpA  Phoenix   \n",
       "...                   ...                     ...      ...   \n",
       "517599            Hooters  YZeUH6zYS0dq5QHLYZhUnQ  Phoenix   \n",
       "517600            Hooters  YZeUH6zYS0dq5QHLYZhUnQ  Phoenix   \n",
       "517601            Hooters  YZeUH6zYS0dq5QHLYZhUnQ  Phoenix   \n",
       "517602            Hooters  YZeUH6zYS0dq5QHLYZhUnQ  Phoenix   \n",
       "517603            Hooters  YZeUH6zYS0dq5QHLYZhUnQ  Phoenix   \n",
       "\n",
       "                                               categories  \\\n",
       "0        Food, Pretzels, Bakeries, Fast Food, Restaurants   \n",
       "2        Food, Pretzels, Bakeries, Fast Food, Restaurants   \n",
       "3        Food, Pretzels, Bakeries, Fast Food, Restaurants   \n",
       "4        Food, Pretzels, Bakeries, Fast Food, Restaurants   \n",
       "5        Food, Pretzels, Bakeries, Fast Food, Restaurants   \n",
       "...                                                   ...   \n",
       "517599  Nightlife, American (Traditional), Chicken Win...   \n",
       "517600  Nightlife, American (Traditional), Chicken Win...   \n",
       "517601  Nightlife, American (Traditional), Chicken Win...   \n",
       "517602  Nightlife, American (Traditional), Chicken Win...   \n",
       "517603  Nightlife, American (Traditional), Chicken Win...   \n",
       "\n",
       "                     review_id  \\\n",
       "0       LyxX4jQXCj6p7ood9Y_ung   \n",
       "2       WqQkmdfkcvQZNGpI6Xzfow   \n",
       "3       lJsEaUqx_iS-IsPD3SHWlg   \n",
       "4       PfyDflR_hCtMsqR19KkNsg   \n",
       "5       RcsBd87ZxdI6h9A-E80X1A   \n",
       "...                        ...   \n",
       "517599  UHxh8cceuZ1epEsoaMqG_w   \n",
       "517600  3ycxbjfTL-cPq_Fj0SxhyQ   \n",
       "517601  Lv86RrB9wZxq7LFbo8mokQ   \n",
       "517602  6BA1Y6t4PIPg7RQthc6v8w   \n",
       "517603  U7kHdEaG1Ht5F5cAAHnLOw   \n",
       "\n",
       "                                                     text  stars  \\\n",
       "0       Love Wetzel's pretzels! I always get them when...    5.0   \n",
       "2       Wetzels's Pretzels is definitely amazing and v...    5.0   \n",
       "3       I love Wetzel's Pretzels. And I can't imagine ...    5.0   \n",
       "4       Never heard of the cheese meltdown pretzel, bu...    4.0   \n",
       "5       PV Mall's food court needs updating, but that ...    4.0   \n",
       "...                                                   ...    ...   \n",
       "517599  Only reason I'm rating a 1 star is because I o...    1.0   \n",
       "517600  Always good customer service if nikkei is work...    5.0   \n",
       "517601  I hate to give a one star, but this place need...    1.0   \n",
       "517602  I LOVE HOOTERS! When I came to this particular...    1.0   \n",
       "517603  It would be nice if they would update their ju...    3.0   \n",
       "\n",
       "                       user_id  \n",
       "0       7C4B2Skmh4X9f8xJDo9O4w  \n",
       "2       eavBO3KRzBf8sM6KGa_-NQ  \n",
       "3       sYQyXDjGaJj7wfaqz5u8KQ  \n",
       "4       ELcQDlf69kb-ihJfxZyL0A  \n",
       "5       y9yLaWKlT2aXLBs50FGvaw  \n",
       "...                        ...  \n",
       "517599  4nLvVz0SQ3SoW-IDROOl2g  \n",
       "517600  G6U4pyPsg3rkcIZBE0HGpw  \n",
       "517601  zY4RR6kG0AgioqbgpXCsFg  \n",
       "517602  Tc4lyLReAvMm0Q3uzuSY7Q  \n",
       "517603  _2HT951XwN7YlyWfdMXYNw  \n",
       "\n",
       "[510982 rows x 8 columns]"
      ]
     },
     "execution_count": 3,
     "metadata": {},
     "output_type": "execute_result"
    }
   ],
   "source": [
    "df = df.drop(['Unnamed: 0'], axis=1)\n",
    "df = df.drop_duplicates()\n",
    "df"
   ]
  },
  {
   "cell_type": "code",
   "execution_count": 4,
   "metadata": {},
   "outputs": [
    {
     "data": {
      "text/plain": [
       "[\"Love Wetzel's pretzels!\",\n",
       " \"I always get them when I'm at the mall!\",\n",
       " 'If you download their app you get rewards for a free pretzel.',\n",
       " \"I love the Wetzel's bites either salty or cinnamon.\",\n",
       " \"The Wetzel's dog bites are okay, they taste like hot dogs.\"]"
      ]
     },
     "execution_count": 4,
     "metadata": {},
     "output_type": "execute_result"
    }
   ],
   "source": [
    "tokenize.sent_tokenize(df['text'][0])"
   ]
  },
  {
   "cell_type": "code",
   "execution_count": 5,
   "metadata": {},
   "outputs": [],
   "source": [
    "def num_sent(p):\n",
    "    sentences = tokenize.sent_tokenize(p)\n",
    "    return len(sentences)\n",
    "df['num_sentences'] = df['text'].apply(num_sent)"
   ]
  },
  {
   "cell_type": "code",
   "execution_count": 6,
   "metadata": {},
   "outputs": [],
   "source": [
    "def num_words(p):\n",
    "    sentences = tokenize.sent_tokenize(p)\n",
    "    num_words = 0\n",
    "    for sent in sentences:\n",
    "        num_words+=len(sent.split())\n",
    "    return num_words\n",
    "df['num_words'] = df['text'].apply(num_words)"
   ]
  },
  {
   "cell_type": "code",
   "execution_count": 23,
   "metadata": {},
   "outputs": [
    {
     "data": {
      "text/plain": [
       "\"Ugh.  I have so much to say about this place.  Hot wings. Hot wings.  Hot wings. Hot wings.  Hot wings. Hot wings.  Hot wings. Hot wings.  Hot wings. Hot wings.  Hot wings. Hot wings.  Hot wings. Hot wings.  Hot wings.  Hot wings. Hot wings.  Hot wings. Hot wings.  Hot wings. Hot wings.  Hot wings. Hot wings.  Hot wings.  Hot wings. Hot wings.  Hot wings. Hot wings.  Hot wings. Hot wings.  Hot wings. Hot wings.  Hot wings. Hot wings.  Hot wings. Hot wings.  Hot wings. Hot wings.  Hot wings.  Hot wings. Hot wings.  Hot wings. Hot wings.  Hot wings. Hot wings.  Hot wings. Hot wings.  Hot wings.  Hot wings. Hot wings.  Hot wings. Hot wings.  Hot wings. Hot wings.  Hot wings. Hot wings.  Hot wings. Hot wings.  Hot wings. Hot wings.  Hot wings. Hot wings.  Hot wings.  Hot wings. Hot wings.  Hot wings. Hot wings.  Hot wings. Hot wings.  Hot wings. Hot wings.  Hot wings.  Hot wings. Hot wings.  Hot wings. Hot wings.  Hot wings. Hot wings.  Hot wings. Hot wings.  Hot wings. Hot wings.  Hot wings. Hot wings.  Hot wings. Hot wings.  Hot wings.  Hot wings. Hot wings.  Hot wings. Hot wings.  Hot wings. Hot wings.  Hot wings. Hot wings.  Hot wings.  Hot wings. Hot wings.  Hot wings. Hot wings.  Hot wings. Hot wings.  Hot wings. Hot wings.  Hot wings. Hot wings.  Hot wings. Hot wings.  Hot wings. Hot wings.  Hot wings.  Hot wings. Hot wings.  Hot wings. Hot wings.  Hot wings. Hot wings.  Hot wings. Hot wings.  Hot wings.  Hot wings. Hot wings.  Hot wings. Hot wings.  Hot wings. Hot wings.  Hot wings. Hot wings.  Hot wings. Hot wings.  Hot wings. Hot wings.  Hot wings. Hot wings.  Hot wings.  Hot wings. Hot wings.  Hot wings. Hot wings.  Hot wings. Hot wings.  Hot wings. Hot wings.  Hot wings.  Hot wings. Hot wings.  Hot wings. Hot wings.  Hot wings. Hot wings.  Hot wings. Hot wings.  Hot wings. Hot wings.  Hot wings.  Hot wings. Hot wings.  Hot wings. Hot wings.  Hot wings. Hot wings.  Hot wings. Hot wings.  Hot wings. Hot wings.  Hot wings. Hot wings.  Hot wings. Hot wings.  Hot wings.  Hot wings. Hot wings.  Hot wings. Hot wings.  Hot wings. Hot wings.  Hot wings. Hot wings.  Hot wings.  Hot wings. Hot wings.  Hot wings. Hot wings.  Hot wings. Hot wings.  Hot wings. Hot wings.  Hot wings. Hot wings.  Hot wings. Hot wings.  Hot wings. Hot wings.  Hot wings.  Hot wings. Hot wings.  Hot wings. Hot wings.  Hot wings. Hot wings.  Hot wings. Hot wings.  Hot wings.  Hot wings. Hot wings.  Hot wings. Hot wings.  Hot wings. Hot wings.  Hot wings. Hot wings.  Hot wings. Hot wings.  Hot wings.  Hot wings. Hot wings.  Hot wings. Hot wings.  Hot wings. Hot wings.  Hot wings. Hot wings.  Hot wings. Hot wings.  Hot wings. Hot wings.  Hot wings. Hot wings.  Hot wings.  Hot wings. Hot wings.  Hot wings. Hot wings.  Hot wings. Hot wings.  Hot wings. Hot wings.  Hot wings.  Hot wings. Hot wings.  Hot wings. Hot wings.  Hot wings. Hot wings.  Hot wings. Hot wings.  Hot wings. Hot wings.  Hot wings. Hot wings.  Hot wings. Hot wings.  Hot wings.  Hot wings. Hot wings.  Hot wings. Hot wings.  Hot wings. Hot wings.  Hot wings. Hot wings.  Hot wings.  Hot wings. Hot wings.  Hot wings. Hot wings.  Hot wings. Hot wings.  Hot wings. Hot wings.    They have other stuff that's really good.  But the hot wings are amaaaaaaazing. (I like this place)\""
      ]
     },
     "execution_count": 23,
     "metadata": {},
     "output_type": "execute_result"
    }
   ],
   "source": [
    "df[df['num_sentences'] == df['num_sentences'].max()]['text'].iloc[0]"
   ]
  },
  {
   "cell_type": "code",
   "execution_count": 8,
   "metadata": {},
   "outputs": [
    {
     "data": {
      "text/html": [
       "<div>\n",
       "<style scoped>\n",
       "    .dataframe tbody tr th:only-of-type {\n",
       "        vertical-align: middle;\n",
       "    }\n",
       "\n",
       "    .dataframe tbody tr th {\n",
       "        vertical-align: top;\n",
       "    }\n",
       "\n",
       "    .dataframe thead th {\n",
       "        text-align: right;\n",
       "    }\n",
       "</style>\n",
       "<table border=\"1\" class=\"dataframe\">\n",
       "  <thead>\n",
       "    <tr style=\"text-align: right;\">\n",
       "      <th></th>\n",
       "      <th>name</th>\n",
       "      <th>business_id</th>\n",
       "      <th>city</th>\n",
       "      <th>categories</th>\n",
       "      <th>review_id</th>\n",
       "      <th>text</th>\n",
       "      <th>stars</th>\n",
       "      <th>user_id</th>\n",
       "      <th>num_sentences</th>\n",
       "      <th>num_words</th>\n",
       "    </tr>\n",
       "  </thead>\n",
       "  <tbody>\n",
       "    <tr>\n",
       "      <th>0</th>\n",
       "      <td>Wetzel's Pretzels</td>\n",
       "      <td>vjTVxnsQEZ34XjYNS-XUpA</td>\n",
       "      <td>Phoenix</td>\n",
       "      <td>Food, Pretzels, Bakeries, Fast Food, Restaurants</td>\n",
       "      <td>LyxX4jQXCj6p7ood9Y_ung</td>\n",
       "      <td>Love Wetzel's pretzels! I always get them when...</td>\n",
       "      <td>5.0</td>\n",
       "      <td>7C4B2Skmh4X9f8xJDo9O4w</td>\n",
       "      <td>5</td>\n",
       "      <td>44</td>\n",
       "    </tr>\n",
       "    <tr>\n",
       "      <th>2</th>\n",
       "      <td>Wetzel's Pretzels</td>\n",
       "      <td>vjTVxnsQEZ34XjYNS-XUpA</td>\n",
       "      <td>Phoenix</td>\n",
       "      <td>Food, Pretzels, Bakeries, Fast Food, Restaurants</td>\n",
       "      <td>WqQkmdfkcvQZNGpI6Xzfow</td>\n",
       "      <td>Wetzels's Pretzels is definitely amazing and v...</td>\n",
       "      <td>5.0</td>\n",
       "      <td>eavBO3KRzBf8sM6KGa_-NQ</td>\n",
       "      <td>8</td>\n",
       "      <td>78</td>\n",
       "    </tr>\n",
       "    <tr>\n",
       "      <th>3</th>\n",
       "      <td>Wetzel's Pretzels</td>\n",
       "      <td>vjTVxnsQEZ34XjYNS-XUpA</td>\n",
       "      <td>Phoenix</td>\n",
       "      <td>Food, Pretzels, Bakeries, Fast Food, Restaurants</td>\n",
       "      <td>lJsEaUqx_iS-IsPD3SHWlg</td>\n",
       "      <td>I love Wetzel's Pretzels. And I can't imagine ...</td>\n",
       "      <td>5.0</td>\n",
       "      <td>sYQyXDjGaJj7wfaqz5u8KQ</td>\n",
       "      <td>6</td>\n",
       "      <td>64</td>\n",
       "    </tr>\n",
       "    <tr>\n",
       "      <th>4</th>\n",
       "      <td>Wetzel's Pretzels</td>\n",
       "      <td>vjTVxnsQEZ34XjYNS-XUpA</td>\n",
       "      <td>Phoenix</td>\n",
       "      <td>Food, Pretzels, Bakeries, Fast Food, Restaurants</td>\n",
       "      <td>PfyDflR_hCtMsqR19KkNsg</td>\n",
       "      <td>Never heard of the cheese meltdown pretzel, bu...</td>\n",
       "      <td>4.0</td>\n",
       "      <td>ELcQDlf69kb-ihJfxZyL0A</td>\n",
       "      <td>3</td>\n",
       "      <td>65</td>\n",
       "    </tr>\n",
       "    <tr>\n",
       "      <th>5</th>\n",
       "      <td>Wetzel's Pretzels</td>\n",
       "      <td>vjTVxnsQEZ34XjYNS-XUpA</td>\n",
       "      <td>Phoenix</td>\n",
       "      <td>Food, Pretzels, Bakeries, Fast Food, Restaurants</td>\n",
       "      <td>RcsBd87ZxdI6h9A-E80X1A</td>\n",
       "      <td>PV Mall's food court needs updating, but that ...</td>\n",
       "      <td>4.0</td>\n",
       "      <td>y9yLaWKlT2aXLBs50FGvaw</td>\n",
       "      <td>8</td>\n",
       "      <td>69</td>\n",
       "    </tr>\n",
       "    <tr>\n",
       "      <th>...</th>\n",
       "      <td>...</td>\n",
       "      <td>...</td>\n",
       "      <td>...</td>\n",
       "      <td>...</td>\n",
       "      <td>...</td>\n",
       "      <td>...</td>\n",
       "      <td>...</td>\n",
       "      <td>...</td>\n",
       "      <td>...</td>\n",
       "      <td>...</td>\n",
       "    </tr>\n",
       "    <tr>\n",
       "      <th>517599</th>\n",
       "      <td>Hooters</td>\n",
       "      <td>YZeUH6zYS0dq5QHLYZhUnQ</td>\n",
       "      <td>Phoenix</td>\n",
       "      <td>Nightlife, American (Traditional), Chicken Win...</td>\n",
       "      <td>UHxh8cceuZ1epEsoaMqG_w</td>\n",
       "      <td>Only reason I'm rating a 1 star is because I o...</td>\n",
       "      <td>1.0</td>\n",
       "      <td>4nLvVz0SQ3SoW-IDROOl2g</td>\n",
       "      <td>4</td>\n",
       "      <td>101</td>\n",
       "    </tr>\n",
       "    <tr>\n",
       "      <th>517600</th>\n",
       "      <td>Hooters</td>\n",
       "      <td>YZeUH6zYS0dq5QHLYZhUnQ</td>\n",
       "      <td>Phoenix</td>\n",
       "      <td>Nightlife, American (Traditional), Chicken Win...</td>\n",
       "      <td>3ycxbjfTL-cPq_Fj0SxhyQ</td>\n",
       "      <td>Always good customer service if nikkei is work...</td>\n",
       "      <td>5.0</td>\n",
       "      <td>G6U4pyPsg3rkcIZBE0HGpw</td>\n",
       "      <td>2</td>\n",
       "      <td>26</td>\n",
       "    </tr>\n",
       "    <tr>\n",
       "      <th>517601</th>\n",
       "      <td>Hooters</td>\n",
       "      <td>YZeUH6zYS0dq5QHLYZhUnQ</td>\n",
       "      <td>Phoenix</td>\n",
       "      <td>Nightlife, American (Traditional), Chicken Win...</td>\n",
       "      <td>Lv86RrB9wZxq7LFbo8mokQ</td>\n",
       "      <td>I hate to give a one star, but this place need...</td>\n",
       "      <td>1.0</td>\n",
       "      <td>zY4RR6kG0AgioqbgpXCsFg</td>\n",
       "      <td>5</td>\n",
       "      <td>76</td>\n",
       "    </tr>\n",
       "    <tr>\n",
       "      <th>517602</th>\n",
       "      <td>Hooters</td>\n",
       "      <td>YZeUH6zYS0dq5QHLYZhUnQ</td>\n",
       "      <td>Phoenix</td>\n",
       "      <td>Nightlife, American (Traditional), Chicken Win...</td>\n",
       "      <td>6BA1Y6t4PIPg7RQthc6v8w</td>\n",
       "      <td>I LOVE HOOTERS! When I came to this particular...</td>\n",
       "      <td>1.0</td>\n",
       "      <td>Tc4lyLReAvMm0Q3uzuSY7Q</td>\n",
       "      <td>11</td>\n",
       "      <td>194</td>\n",
       "    </tr>\n",
       "    <tr>\n",
       "      <th>517603</th>\n",
       "      <td>Hooters</td>\n",
       "      <td>YZeUH6zYS0dq5QHLYZhUnQ</td>\n",
       "      <td>Phoenix</td>\n",
       "      <td>Nightlife, American (Traditional), Chicken Win...</td>\n",
       "      <td>U7kHdEaG1Ht5F5cAAHnLOw</td>\n",
       "      <td>It would be nice if they would update their ju...</td>\n",
       "      <td>3.0</td>\n",
       "      <td>_2HT951XwN7YlyWfdMXYNw</td>\n",
       "      <td>2</td>\n",
       "      <td>49</td>\n",
       "    </tr>\n",
       "  </tbody>\n",
       "</table>\n",
       "<p>510982 rows × 10 columns</p>\n",
       "</div>"
      ],
      "text/plain": [
       "                     name             business_id     city  \\\n",
       "0       Wetzel's Pretzels  vjTVxnsQEZ34XjYNS-XUpA  Phoenix   \n",
       "2       Wetzel's Pretzels  vjTVxnsQEZ34XjYNS-XUpA  Phoenix   \n",
       "3       Wetzel's Pretzels  vjTVxnsQEZ34XjYNS-XUpA  Phoenix   \n",
       "4       Wetzel's Pretzels  vjTVxnsQEZ34XjYNS-XUpA  Phoenix   \n",
       "5       Wetzel's Pretzels  vjTVxnsQEZ34XjYNS-XUpA  Phoenix   \n",
       "...                   ...                     ...      ...   \n",
       "517599            Hooters  YZeUH6zYS0dq5QHLYZhUnQ  Phoenix   \n",
       "517600            Hooters  YZeUH6zYS0dq5QHLYZhUnQ  Phoenix   \n",
       "517601            Hooters  YZeUH6zYS0dq5QHLYZhUnQ  Phoenix   \n",
       "517602            Hooters  YZeUH6zYS0dq5QHLYZhUnQ  Phoenix   \n",
       "517603            Hooters  YZeUH6zYS0dq5QHLYZhUnQ  Phoenix   \n",
       "\n",
       "                                               categories  \\\n",
       "0        Food, Pretzels, Bakeries, Fast Food, Restaurants   \n",
       "2        Food, Pretzels, Bakeries, Fast Food, Restaurants   \n",
       "3        Food, Pretzels, Bakeries, Fast Food, Restaurants   \n",
       "4        Food, Pretzels, Bakeries, Fast Food, Restaurants   \n",
       "5        Food, Pretzels, Bakeries, Fast Food, Restaurants   \n",
       "...                                                   ...   \n",
       "517599  Nightlife, American (Traditional), Chicken Win...   \n",
       "517600  Nightlife, American (Traditional), Chicken Win...   \n",
       "517601  Nightlife, American (Traditional), Chicken Win...   \n",
       "517602  Nightlife, American (Traditional), Chicken Win...   \n",
       "517603  Nightlife, American (Traditional), Chicken Win...   \n",
       "\n",
       "                     review_id  \\\n",
       "0       LyxX4jQXCj6p7ood9Y_ung   \n",
       "2       WqQkmdfkcvQZNGpI6Xzfow   \n",
       "3       lJsEaUqx_iS-IsPD3SHWlg   \n",
       "4       PfyDflR_hCtMsqR19KkNsg   \n",
       "5       RcsBd87ZxdI6h9A-E80X1A   \n",
       "...                        ...   \n",
       "517599  UHxh8cceuZ1epEsoaMqG_w   \n",
       "517600  3ycxbjfTL-cPq_Fj0SxhyQ   \n",
       "517601  Lv86RrB9wZxq7LFbo8mokQ   \n",
       "517602  6BA1Y6t4PIPg7RQthc6v8w   \n",
       "517603  U7kHdEaG1Ht5F5cAAHnLOw   \n",
       "\n",
       "                                                     text  stars  \\\n",
       "0       Love Wetzel's pretzels! I always get them when...    5.0   \n",
       "2       Wetzels's Pretzels is definitely amazing and v...    5.0   \n",
       "3       I love Wetzel's Pretzels. And I can't imagine ...    5.0   \n",
       "4       Never heard of the cheese meltdown pretzel, bu...    4.0   \n",
       "5       PV Mall's food court needs updating, but that ...    4.0   \n",
       "...                                                   ...    ...   \n",
       "517599  Only reason I'm rating a 1 star is because I o...    1.0   \n",
       "517600  Always good customer service if nikkei is work...    5.0   \n",
       "517601  I hate to give a one star, but this place need...    1.0   \n",
       "517602  I LOVE HOOTERS! When I came to this particular...    1.0   \n",
       "517603  It would be nice if they would update their ju...    3.0   \n",
       "\n",
       "                       user_id  num_sentences  num_words  \n",
       "0       7C4B2Skmh4X9f8xJDo9O4w              5         44  \n",
       "2       eavBO3KRzBf8sM6KGa_-NQ              8         78  \n",
       "3       sYQyXDjGaJj7wfaqz5u8KQ              6         64  \n",
       "4       ELcQDlf69kb-ihJfxZyL0A              3         65  \n",
       "5       y9yLaWKlT2aXLBs50FGvaw              8         69  \n",
       "...                        ...            ...        ...  \n",
       "517599  4nLvVz0SQ3SoW-IDROOl2g              4        101  \n",
       "517600  G6U4pyPsg3rkcIZBE0HGpw              2         26  \n",
       "517601  zY4RR6kG0AgioqbgpXCsFg              5         76  \n",
       "517602  Tc4lyLReAvMm0Q3uzuSY7Q             11        194  \n",
       "517603  _2HT951XwN7YlyWfdMXYNw              2         49  \n",
       "\n",
       "[510982 rows x 10 columns]"
      ]
     },
     "execution_count": 8,
     "metadata": {},
     "output_type": "execute_result"
    }
   ],
   "source": [
    "df"
   ]
  },
  {
   "cell_type": "code",
   "execution_count": 17,
   "metadata": {},
   "outputs": [
    {
     "data": {
      "text/plain": [
       "<AxesSubplot:xlabel='num_sentences', ylabel='stars'>"
      ]
     },
     "execution_count": 17,
     "metadata": {},
     "output_type": "execute_result"
    },
    {
     "data": {
      "image/png": "[encoded data removed]",
      "text/plain": [
       "<Figure size 432x288 with 1 Axes>"
      ]
     },
     "metadata": {
      "needs_background": "light"
     },
     "output_type": "display_data"
    }
   ],
   "source": [
    "#df['num_words'].hist(bins=100)\n",
    "#df.boxplot(column=['num_words'])\n",
    "df.plot.scatter(y='stars', x='num_sentences')"
   ]
  },
  {
   "cell_type": "code",
   "execution_count": 18,
   "metadata": {},
   "outputs": [
    {
     "data": {
      "text/plain": [
       "<AxesSubplot:xlabel='num_words', ylabel='stars'>"
      ]
     },
     "execution_count": 18,
     "metadata": {},
     "output_type": "execute_result"
    },
    {
     "data": {
      "image/png": "[encoded data removed]",
      "text/plain": [
       "<Figure size 432x288 with 1 Axes>"
      ]
     },
     "metadata": {
      "needs_background": "light"
     },
     "output_type": "display_data"
    }
   ],
   "source": [
    "df.plot.scatter(y='stars', x='num_words')"
   ]
  },
  {
   "cell_type": "code",
   "execution_count": 53,
   "metadata": {},
   "outputs": [
    {
     "data": {
      "text/plain": [
       "<AxesSubplot:>"
      ]
     },
     "execution_count": 53,
     "metadata": {},
     "output_type": "execute_result"
    },
    {
     "data": {
      "image/png": "[encoded data removed]",
      "text/plain": [
       "<Figure size 432x288 with 1 Axes>"
      ]
     },
     "metadata": {
      "needs_background": "light"
     },
     "output_type": "display_data"
    }
   ],
   "source": [
    "df['num_sentences'].hist(bins=50)"
   ]
  },
  {
   "cell_type": "code",
   "execution_count": 58,
   "metadata": {},
   "outputs": [],
   "source": [
    "test = df['num_words'].value_counts(normalize=True)"
   ]
  },
  {
   "cell_type": "code",
   "execution_count": 62,
   "metadata": {},
   "outputs": [
    {
     "data": {
      "text/plain": [
       "<AxesSubplot:>"
      ]
     },
     "execution_count": 62,
     "metadata": {},
     "output_type": "execute_result"
    },
    {
     "data": {
      "image/png": "[encoded data removed]",
      "text/plain": [
       "<Figure size 432x288 with 1 Axes>"
      ]
     },
     "metadata": {
      "needs_background": "light"
     },
     "output_type": "display_data"
    }
   ],
   "source": [
    "test.hist(bins=20)"
   ]
  },
  {
   "cell_type": "code",
   "execution_count": null,
   "metadata": {},
   "outputs": [],
   "source": []
  }
 ],
 "metadata": {
  "kernelspec": {
   "display_name": "Python 3",
   "language": "python",
   "name": "python3"
  },
  "language_info": {
   "codemirror_mode": {
    "name": "ipython",
    "version": 3
   },
   "file_extension": ".py",
   "mimetype": "text/x-python",
   "name": "python",
   "nbconvert_exporter": "python",
   "pygments_lexer": "ipython3",
   "version": "3.9.1"
  }
 },
 "nbformat": 4,
 "nbformat_minor": 4
}
