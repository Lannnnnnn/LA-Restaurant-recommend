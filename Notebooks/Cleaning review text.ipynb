{
 "cells": [
  {
   "cell_type": "code",
   "execution_count": 1,
   "metadata": {},
   "outputs": [],
   "source": [
    "import json\n",
    "import os\n",
    "import numpy as np\n",
    "import pandas as pd"
   ]
  },
  {
   "cell_type": "code",
   "execution_count": 2,
   "metadata": {},
   "outputs": [],
   "source": [
    "#Keep Json Format\n",
    "#Removes newlines from the json file\n",
    "with open('yelp_academic_dataset_review.json', encoding=\"utf-8\") as f, open(\"yelp_academic_dataset_review_no_newline.json\", \"a\", encoding=\"utf-8\") as out:\n",
    "    #i = 0\n",
    "    for line in f:\n",
    "        #i += 1\n",
    "        json_line = json.loads(line)\n",
    "        json_line['text'] = json_line['text'].replace(\"\\n\\n\", \"\\n\").replace(\"\\n\", \" \")\n",
    "        json.dump(json_line, out)\n",
    "        out.write('\\n')\n",
    "        #Limits the output file to 100,000 lines\n",
    "        #if i == 100000:\n",
    "        #    break"
   ]
  },
  {
   "cell_type": "code",
   "execution_count": 2,
   "metadata": {},
   "outputs": [],
   "source": [
    "data = {\"review_id\":[],\"business_id\":[],\"text\":[],\"stars\":[]}\n",
    "with open('yelp_academic_dataset_review_no_newline.json', encoding=\"utf-8\") as f:   \n",
    "    for line in f:\n",
    "        review = json.loads(line)\n",
    "        data['review_id'].append(review['review_id'])\n",
    "        data['business_id'].append(review['business_id'])\n",
    "        data['text'].append(review['text'])\n",
    "        data['stars'].append(review['stars'])\n",
    "df = pd.DataFrame(data)"
   ]
  },
  {
   "cell_type": "code",
   "execution_count": 3,
   "metadata": {},
   "outputs": [
    {
     "data": {
      "text/html": [
       "<div>\n",
       "<style scoped>\n",
       "    .dataframe tbody tr th:only-of-type {\n",
       "        vertical-align: middle;\n",
       "    }\n",
       "\n",
       "    .dataframe tbody tr th {\n",
       "        vertical-align: top;\n",
       "    }\n",
       "\n",
       "    .dataframe thead th {\n",
       "        text-align: right;\n",
       "    }\n",
       "</style>\n",
       "<table border=\"1\" class=\"dataframe\">\n",
       "  <thead>\n",
       "    <tr style=\"text-align: right;\">\n",
       "      <th></th>\n",
       "      <th>review_id</th>\n",
       "      <th>business_id</th>\n",
       "      <th>text</th>\n",
       "      <th>stars</th>\n",
       "    </tr>\n",
       "  </thead>\n",
       "  <tbody>\n",
       "    <tr>\n",
       "      <th>0</th>\n",
       "      <td>xQY8N_XvtGbearJ5X4QryQ</td>\n",
       "      <td>-MhfebM0QIsKt87iDN-FNw</td>\n",
       "      <td>As someone who has worked with many museums, I...</td>\n",
       "      <td>2.0</td>\n",
       "    </tr>\n",
       "    <tr>\n",
       "      <th>1</th>\n",
       "      <td>UmFMZ8PyXZTY2QcwzsfQYA</td>\n",
       "      <td>lbrU8StCq3yDfr-QMnGrmQ</td>\n",
       "      <td>I am actually horrified this place is still in...</td>\n",
       "      <td>1.0</td>\n",
       "    </tr>\n",
       "    <tr>\n",
       "      <th>2</th>\n",
       "      <td>LG2ZaYiOgpr2DK_90pYjNw</td>\n",
       "      <td>HQl28KMwrEKHqhFrrDqVNQ</td>\n",
       "      <td>I love Deagan's. I do. I really do. The atmosp...</td>\n",
       "      <td>5.0</td>\n",
       "    </tr>\n",
       "    <tr>\n",
       "      <th>3</th>\n",
       "      <td>i6g_oA9Yf9Y31qt0wibXpw</td>\n",
       "      <td>5JxlZaqCnk1MnbgRirs40Q</td>\n",
       "      <td>Dismal, lukewarm, defrosted-tasting \"TexMex\" g...</td>\n",
       "      <td>1.0</td>\n",
       "    </tr>\n",
       "    <tr>\n",
       "      <th>4</th>\n",
       "      <td>6TdNDKywdbjoTkizeMce8A</td>\n",
       "      <td>IS4cv902ykd8wj1TR0N3-A</td>\n",
       "      <td>Oh happy day, finally have a Canes near my cas...</td>\n",
       "      <td>4.0</td>\n",
       "    </tr>\n",
       "    <tr>\n",
       "      <th>...</th>\n",
       "      <td>...</td>\n",
       "      <td>...</td>\n",
       "      <td>...</td>\n",
       "      <td>...</td>\n",
       "    </tr>\n",
       "    <tr>\n",
       "      <th>8121117</th>\n",
       "      <td>LAzw2u1ucY722ryLEXHdgg</td>\n",
       "      <td>XW2kaXdahICaJ27A0dhGHg</td>\n",
       "      <td>Fricken unbelievable, I ordered 2 space heater...</td>\n",
       "      <td>1.0</td>\n",
       "    </tr>\n",
       "    <tr>\n",
       "      <th>8121118</th>\n",
       "      <td>gMDU14Fa_DVIcPvsKtubJA</td>\n",
       "      <td>IsoLzudHC50oJLiEWpwV-w</td>\n",
       "      <td>Solid American food with a southern comfort fl...</td>\n",
       "      <td>3.0</td>\n",
       "    </tr>\n",
       "    <tr>\n",
       "      <th>8121119</th>\n",
       "      <td>EcY_p50zPIQ2R6rf6-5CjA</td>\n",
       "      <td>kDCyqlYcstqnoqnfBRS5Og</td>\n",
       "      <td>I'm honestly not sure how I have never been to...</td>\n",
       "      <td>5.0</td>\n",
       "    </tr>\n",
       "    <tr>\n",
       "      <th>8121120</th>\n",
       "      <td>-z_MM0pAf9RtZbyPlphTlA</td>\n",
       "      <td>VKVDDHKtsdrnigeIf9S8RA</td>\n",
       "      <td>Food was decent but I will say the service too...</td>\n",
       "      <td>3.0</td>\n",
       "    </tr>\n",
       "    <tr>\n",
       "      <th>8121121</th>\n",
       "      <td>nK0JGgr8aO4mcFPU4pDOEA</td>\n",
       "      <td>2SbyRgHWuWNlq18eHAx95Q</td>\n",
       "      <td>Oh yeah! Not only that the service was good, t...</td>\n",
       "      <td>5.0</td>\n",
       "    </tr>\n",
       "  </tbody>\n",
       "</table>\n",
       "<p>8121122 rows × 4 columns</p>\n",
       "</div>"
      ],
      "text/plain": [
       "                      review_id             business_id  \\\n",
       "0        xQY8N_XvtGbearJ5X4QryQ  -MhfebM0QIsKt87iDN-FNw   \n",
       "1        UmFMZ8PyXZTY2QcwzsfQYA  lbrU8StCq3yDfr-QMnGrmQ   \n",
       "2        LG2ZaYiOgpr2DK_90pYjNw  HQl28KMwrEKHqhFrrDqVNQ   \n",
       "3        i6g_oA9Yf9Y31qt0wibXpw  5JxlZaqCnk1MnbgRirs40Q   \n",
       "4        6TdNDKywdbjoTkizeMce8A  IS4cv902ykd8wj1TR0N3-A   \n",
       "...                         ...                     ...   \n",
       "8121117  LAzw2u1ucY722ryLEXHdgg  XW2kaXdahICaJ27A0dhGHg   \n",
       "8121118  gMDU14Fa_DVIcPvsKtubJA  IsoLzudHC50oJLiEWpwV-w   \n",
       "8121119  EcY_p50zPIQ2R6rf6-5CjA  kDCyqlYcstqnoqnfBRS5Og   \n",
       "8121120  -z_MM0pAf9RtZbyPlphTlA  VKVDDHKtsdrnigeIf9S8RA   \n",
       "8121121  nK0JGgr8aO4mcFPU4pDOEA  2SbyRgHWuWNlq18eHAx95Q   \n",
       "\n",
       "                                                      text  stars  \n",
       "0        As someone who has worked with many museums, I...    2.0  \n",
       "1        I am actually horrified this place is still in...    1.0  \n",
       "2        I love Deagan's. I do. I really do. The atmosp...    5.0  \n",
       "3        Dismal, lukewarm, defrosted-tasting \"TexMex\" g...    1.0  \n",
       "4        Oh happy day, finally have a Canes near my cas...    4.0  \n",
       "...                                                    ...    ...  \n",
       "8121117  Fricken unbelievable, I ordered 2 space heater...    1.0  \n",
       "8121118  Solid American food with a southern comfort fl...    3.0  \n",
       "8121119  I'm honestly not sure how I have never been to...    5.0  \n",
       "8121120  Food was decent but I will say the service too...    3.0  \n",
       "8121121  Oh yeah! Not only that the service was good, t...    5.0  \n",
       "\n",
       "[8121122 rows x 4 columns]"
      ]
     },
     "execution_count": 3,
     "metadata": {},
     "output_type": "execute_result"
    }
   ],
   "source": [
    "df"
   ]
  },
  {
   "cell_type": "code",
   "execution_count": 4,
   "metadata": {},
   "outputs": [
    {
     "data": {
      "text/plain": [
       "0          As someone who has worked with many museums, I...\n",
       "1          I am actually horrified this place is still in...\n",
       "3          Dismal, lukewarm, defrosted-tasting \"TexMex\" g...\n",
       "15         If I could give less than one star, that would...\n",
       "16         10pm on a super bowl Sunday and they're alread...\n",
       "                                 ...                        \n",
       "8121110    Just closed my account at MIDFIRST Bank COOPER...\n",
       "8121111    I was looking for to eating here for quite som...\n",
       "8121114    Greedy monks. All I can say Requires a minimum...\n",
       "8121116    I'm still reminded of my move every time I see...\n",
       "8121117    Fricken unbelievable, I ordered 2 space heater...\n",
       "Name: text, Length: 1940897, dtype: object"
      ]
     },
     "execution_count": 4,
     "metadata": {},
     "output_type": "execute_result"
    }
   ],
   "source": [
    "df2 = df[df['stars'] <= 2.0]['text']\n",
    "df2"
   ]
  },
  {
   "cell_type": "code",
   "execution_count": 5,
   "metadata": {},
   "outputs": [
    {
     "data": {
      "text/plain": [
       "'As someone who has worked with many museums, I was eager to visit this gallery on my most recent trip to Las Vegas. When I saw they would be showing infamous eggs of the House of Faberge from the Virginia Museum of Fine Arts (VMFA), I knew I had to go! Tucked away near the gelateria and the garden, the Gallery is pretty much hidden from view. It\\'s what real estate agents would call \"cozy\" or \"charming\" - basically any euphemism for small. That being said, you can still see wonderful art at a gallery of any size, so why the two *s you ask? Let me tell you: * pricing for this, while relatively inexpensive for a Las Vegas attraction, is completely over the top. For the space and the amount of art you can fit in there, it is a bit much. * it\\'s not kid friendly at all. Seriously, don\\'t bring them. * the security is not trained properly for the show. When the curating and design teams collaborate for exhibitions, there is a definite flow. That means visitors should view the art in a certain sequence, whether it be by historical period or cultural significance (this is how audio guides are usually developed). When I arrived in the gallery I could not tell where to start, and security was certainly not helpful. I was told to \"just look around\" and \"do whatever.\"  At such a *fine* institution, I find the lack of knowledge and respect for the art appalling.'"
      ]
     },
     "execution_count": 5,
     "metadata": {},
     "output_type": "execute_result"
    }
   ],
   "source": [
    "df2[0]"
   ]
  },
  {
   "cell_type": "code",
   "execution_count": 12,
   "metadata": {},
   "outputs": [
    {
     "name": "stdout",
     "output_type": "stream",
     "text": [
      "As someone who has worked with many museums, I was eager to visit this gallery on my most recent trip to Las Vegas. When I saw they would be showing infamous eggs of the House of Faberge from the Virginia Museum of Fine Arts (VMFA), I knew I had to go! Tucked away near the gelateria and the garden, the Gallery is pretty much hidden from view. It's what real estate agents would call \"cozy\" or \"charming\" - basically any euphemism for small. That being said, you can still see wonderful art at a gallery of any size, so why the two *s you ask? Let me tell you: * pricing for this, while relatively inexpensive for a Las Vegas attraction, is completely over the top. For the space and the amount of art you can fit in there, it is a bit much. * it's not kid friendly at all. Seriously, don't bring them. * the security is not trained properly for the show. When the curating and design teams collaborate for exhibitions, there is a definite flow. That means visitors should view the art in a certain sequence, whether it be by historical period or cultural significance (this is how audio guides are usually developed). When I arrived in the gallery I could not tell where to start, and security was certainly not helpful. I was told to \"just look around\" and \"do whatever.\"  At such a *fine* institution, I find the lack of knowledge and respect for the art appalling.\n",
      "I am actually horrified this place is still in business. My 3 year old son needed a haircut this past summer and the lure of the $7 kids cut signs got me in the door. We had to wait a few minutes as both stylists were working on people. The decor in this place is total garbage. It is so tacky. The sofa they had at the time was a pleather sofa with giant holes in it. And my son noticed ants crawling all over the floor and the furniture. It was disgusting and I should have walked out then. Actually, I should have turned around and walked out upon entering but I didn't. So the older black male stylist finishes the haircut he was doing and it's our turn. I tell him I want a #2 clipper around the back and sides and then hand cut the top into a standard boys cut. Really freaking simple, right? WRONG! Rather than use the clippers and go up to actually cut the hair, he went down. Using it moving downward doesn't cut hair, it just rubs against it. How does this man who has an alleged cosmetology license not know how to use a set of freaking clippers??? I realized almost immediately that he had no idea what he was doing. No idea at all. After about 10 minutes of watching this guy stumble through it, I said \"you know what? That's fine.\", paid and left. All I wanted to do was get out of that scummy joint and take my son to a real haircut place. Bottom line: DO NOT GO HERE. RUN THE OTHER WAY!!!!!\n",
      "Dismal, lukewarm, defrosted-tasting \"TexMex\" glop; Mumbly, unengaged waiter; Clueless manager, who seeing us with barely nibbled entrees on plates shoved forward for pickup, thanked us perfunctorily for our patronage; We're from the Texas Hill Country; down there, we jail critters  who serve up grub this bad, for their own protection. Never, never, NEVER again (Back to Yard House for real food)\n",
      "If I could give less than one star, that would have been my choice.  I rent a home and Per my lease agreement it is MY responsibility to pay their Pool Service company.  Within the last year they changed to PoolServ.  I have had  major issues with new techs every week, never checking PH balances, cleaning the filter, and not showing up at all 2 weeks in the past 2 months. I have had 4 different techs in the past 4 weeks.   I have emailed and called them and they never respond back nor even acknowledged my concerns or requests.  I cannot change companies but I'm required to still pay for lousy or no service.  Attached are a couple pictures of my pool recently due to one tech just didn't put any chlorine in it at all according to the tech who came the following week to attempt to clean it up.  Please think twice before working with these people.  No one wants to work with a business that doesn't return phone calls or emails.\n",
      "10pm on a super bowl Sunday and they're already closed?? Weak, no wonder the hard Rock is dying off...\n",
      "Tried to have my car repaired.  Even made an appointment.  I was told that all my appointment was for is to meet the service advisor, not get any work completed on my car.  Such a waste of time.  Even talked to the Service Manager, he didn't care.  Since that was the attitude of the service department, I can only expect that from the mechanics that would have worked on my car.  Went to another dealership, made an appointment and my car went in to be repaired.  Not told to come back later and they might get to my car. Very poor service.\n",
      "Just... not good.  We want it to be - we have been several times hoping, but the experience is always at best, lackluster.  The food is not great, very run-of the mill on a good day and the serve staff though very nice is always - and I have never had the same person twice - always totally lost and under-trained.  It blows my mind because they can't possibly know alcohol laws if they don't know anything about the menu - going to bite that company one day.  I am not sure but I think someone I know told me they do the shared tip thing and I thought maybe that may be why but I know another place that does that and the service is excellent.  I don't know what the problem is - I have worked in the industry before while in college and I would say front of the house training needs big overhaul.  At any rate, they have lots of TV's and it is closer to us but just plain not good.  I wish they would switch locations with Wild Wing Cafe - also chain-y but much better food and service.\n",
      "This actually used to be one of my favorite hotel/casinos back in the day.  Oh, how things have changed. There are some goods, however.  If you are a conventioneer, you have instant and direct walking access to the main convention center.  But don't think about parking here for said conventions.  $30 a day for parking, Hilton?  Seriously?  That's robbery.  And greed. The biggest disappointment is the killing off of Star Trek: The Experience over two years ago.  Despite this place being off-Strip, I made it a point to go here because they had such a fun and unique attraction here.  It would be one thing if they had something in mind to replace it, but either poor planning or the economy.... It's dead, Jim.  The \"Space Lounge\" is still there.  An entire casino area with a heavy sci-fi theme to it.  Except there's no casino here.  It's a huge space themed area with a ghost town bar, no slots, a few couches, a makeshift stage, beer signs, and a few remnants of Star Trek themes.  All of this space, and nothing.  No life to it.  Couches and beer signs only make the emptiness and waste of the area seem more empty and pathetic. With their main draw gone, what has replaced it as the headliner?  Benihana's.  Nothing wrong with the restaurant, but it's hardly unique or exclusive, even in Vegas.  The Hilton has a Pizza Hut Express here too.  Maybe they should promote that as their \"big draw\" on the marquee as well.  A huge Benihana sign covers up the old entrance to Star Trek.  With couches pushed in front of the entryway.  Again, just sad, and I'll be a big man in saying that they kind of broke my heart getting rid of one of my most beloved hang-outs here. The arcade is dead as well.  Another blanketed off space that sits and collects dust.  Again, with two-plus years, no suitable replacement has been found for anything in this section.  A few shops that fluctuate, but that's it.  This is a lot of dead space to go unused.   There's also the issue of the Men's bathroom in the main casino area.  Above every urinal is a picture of a lust-crazed girl staring over your bits with a camera, magnifying glass, tape measure, etc, while you pee.  The first time I saw this, it was \"ha ha\" funny, then when the laughter died, it just turned creepy and weird for me.  I actually selected a urinal based off which girl creeped me out the least.  She merely looked like she was casting spells at my nethers.  I could live with that. Ladies: I must know.  Is there something like this in the girl's restroom?  When you close the stall door to do your business, is there a picture of some crazed guy making grabbing motions where your boobs would be?  Please message me and let me know.  I'd really like to know what the Hell you get in your bathroom after my gender's discovery. As critical as I am being, there looks to be some sort of steampunk-themed club called \"Triumph\" there.  I want to check this out.  Atonement for the death of my beloved Warp Core Breach booze bowl?  We'll see, but it's going to have to be pretty good to replace the hole in my heart from that much booze for so cheap a price. The sad part is, Hilton's one of those \"history rich\" casinos here.  Look up the history on this place.  A lot of awesome stars and vintage Vegas stuff happened here, which makes you wonder why this isn't represented more. This place is great for convention visitors to stay, but that's about it as far as I can see.  They need to figure themselves out for everything else.\n",
      "Horrible- Unclean, rancid, foul odors, unkempt, and poor service. The restaurant was nearly empty, and the cashier didn't even look up to say hello as my husband stood hungrily grinning at the counter. Needless to say, I talked him into driving up the road to the other location. This one is unacceptable.\n",
      "There wasn't one specific thing that made this buffet so horrible... It's just the accumulation of everything being less than average quality. There are plenty of options, but none of them were flavorful, hot, or worth filling up on. Some others have commented on the dessert section being worthwhile, but to us everything tasted unthawed and on the stale side. The Asian section had probably the best offerings but all were still fairly bland. The worst part is that when I was going to grab a slice from the pizza station, someone had placed the tongs directly on TOP of the pizza... So all the hand germs were in direct contact with the food! There were two workers right there who didn't think this was disgusting.. I would have discarded the slices. My husband and I both left with unsatisfied stomachs and looked forward to the second dinner we would have a few hours later at a much better establishment.\n",
      "A margarita in clear plastic dickie cup??? Wtf?? The drunkin shrimp plate should of been called the goldfish feeder shrimp platter..\n",
      "The tables and floor were dirty. I was the only customer on a Saturday nite and  the person working the counter ignored me I had a corned beef sandwich. I took three bites  and threw it in the trash\n",
      "Passed by here after we went to raijin ramen and thought everything looked super cute. Bought 3 bread, the charcoal salted egg, an almond croissant and a coffee walnut bread. All three, after discount came to almost 20$. I was quite excited but upon trying them all, the croissant was pretty good (but I've had better, ie nadege, etc) but the other two were very mediocre. The salted egg bread was very one dimensional as the bread itself wasn't very flavourful. I thought it would be closer to a moon cake concept where bread is a bit sweet and counterbalanced the salty egg yolk but instead the egg yolk overpowered everything else. The walnut bread was also very weird as the coffee had a weird after taste.  For the price I would def not come back.\n",
      "I can't tell you how angry I am right now.  I went to Huntersville Ford yesterday to get an oil change on my commuter car.  Paid my $41.00 and was given back my car just over an hour later. Today I had to go to work (40 mile round trip commute).  As I was getting off of I-85, I noticed the smell of burning oil.  I thought maybe the tech just spilled a little on the exhaust manifold since it's right there, and maybe it's burning off.  I didn't hit a stop light until I was almost at my office.  When I stopped and was waiting for the light, my cabin started to fill with smoke, and I had smoke pouring out from under the hood and the wheel wells as well. I pulled over into the parking area of a gas station (because they have accessible fire extinguishers) and parked.  I popped the hood only to find THE TECHNICIAN DID NOT PUT THE OIL FILLER CAP BACK ON!!!  Now my engine is covered in potentially flammable oil, and of course Huntersville Ford is closed today!!!! I have my car sitting outside in the parking lot with the hood open, just in case it decides to ignite, because my engine is pretty hot after a 20 mile drive. I called and left a voicemail, and now I have to find a way to degrease my engine at work, just so I can drive it home in a less-flammable state.  I WILL HOLD HUNTERSVILLE FORD RESPONSIBLE FOR ANY COMPONENTS THAT FAIL AS OF A RESULT OF THIS.  Most electronics don't like being slathered in motor oil.  In fact, I'm pretty sure they aren't designed for that. And NO, I did not have other work done... Just the oil change.  You had 1 job.... oil change.  No transmission service, no brake service, no rotation, no cooling flush... just an oil change.  I hope he remembered to tighten the filter, but I am skeptical at this point. I can assure you, I will NOT be taking my car back to that dealership, even though it is right around the corner from my house.  MAKE IT RIGHT, HUNTERSVILLE FORD.\n",
      "Worst pedicure ever. First, waited over a half hour even though we had appointments. Then, the girl rushed throughout, made rude comments and talked and laughed with her other coworkers in a different language. Pedicure is chipped not even one week later. Will NEVER go back here. Worse experience.\n",
      "Decent food. Fishermen lobster or even congee queen can do better than this. Nice decor but that is it. I don't expect too much service from a Chinese restaurant but I gotta say that the hostess and waitress weren't welcoming at all. Won't recommend this place to anyone.\n",
      "We drive by Fruits and Roots almost daily and we finally decided to give it a try. Unfortunately the only good thing I have to say about the place is it has nice decor. We walked in and was greeted by one of the girls and as we were looking at the menu she asked if it was our first time and we told her yes. We assumed she would explain the menu but nope! My daughter's go to is a strawberry banana smoothie and the menu had a few smoothies that had strawberry and banana mixed with other stuff and I asked if they would be able to make one with just strawberry and banana and she had said they couldn't because it was already pre made. So we continued to look at the menu and a different girl came and said she would be able to make the smoothie so thank you to her. My husband and I knew we wanted to get an acai bowl so as we looked at the different options we found one we wanted to try but on the menu it had a pitaya and we asked if we could get it with acai instead but again was told that it was already pre made. So we went with one that was made with acai but it had blueberries which we don't like and we weee hesistant to ask if they would be able to leave them out since everything seemed to be pre made but my husband did ask and luckily she said they could leave it out. Whew! It wasn't a long wait to get our order. My daughter drank her smoothie saying it was okay and our acai bowl was okay as well. To me the best part was the granola and that's about it. At least we can say we finally tried this place and we definitely won't be back. We will be sticking to our usual spot Bowlology!\n",
      "I had an oil change at the 15515 N Scottsdale Road location.  When the car was delivered to me, there were two engine warning lights on that had not been on when I drove the car in.  The technician said that the lights were on when he got in the car, which was not true.  I took the car to the dealer who said that a sensor light had been left unplugged when they removed the air filter.  I should have read the many bad Yelp reviews prior to going to this facility.\n",
      "The absolute WORST apartment complex I have ever lived in. Moved here from out of state. Hoped to find a decently priced apartment until I got myself settled in. Wow this place has been trash. Landlord is only here half the time, so those of you with a full time job, forget ever trying to communicate with her! Doesn't answer the phone or call back. Place can't even get with the 21st century and splurge on email communication. Rent past due? Noise complaint on an animal? Anything, Don't worry, you'll be singled out with a cheap ass piece of paper taped to your door for the whole complex to see. As far as CAM Properties as a whole, also trash! They also refuse to give callbacks. After hours \"emergency?\" ha, yeah right! Scottsdale PD had to be called when I had troubles after hours because CAM's \"emergency after hours hotline\" didn't answer the phone! I will never ever recommend anyone live here. The bugs invade the units like crazy - cockroaches, spiders, lizards, you name it. They say they spray before you move in, but do not perform any follow up procedures. They tell you if there's bugs in you apartment, that's all YOUR fault. Ha! I cannot get out of this place fast enough. The only upside is the utilities are included, however the price is still absurd for the less than average amenities and the horrible customer service.\n",
      "I ordered a pizza at 4:49. Got an email that said my pizza would be delivered at 5:18 to5:28. 5:38 still no pizza. Called the store. They said it was out for delivery. I said I knew that it was suppose to be delivered 10 minutes ago. 5:48. Still no pizza. Called the store back. Again, I was told it was out for delivery. 5:48 called the store again. When I was on the phone the pizza came. When it arrived it was COLD.\n",
      "I went into this store yesterday and it was horrible!!! It was sooooo dirty. I'm talking there was trash everywhere!!!  Not only that but it smelled like trash! It was 5 o'clock on a Friday afternoon so I completely understand it being a little messy but the store just looked horrible!!! Not to mention the were out of pretty much everything on the store. I honestly will probably start going down the road to the next Smith's.\n",
      "Pros: Fun atmosphere, great for people watching, mechanical bull is unique in my experience Cons: I had the chicken tenders and fries and while the tenders were alright, the fries were pretty terrible. I've had fries that didn't taste good before, but these were the first fries I've experienced that actually tasted bad. After dinner, I felt sick and had to drink lots of water to get the taste out of my mouth. Would not go again!\n",
      "I love bookstores, and I love to spend some time browsing and flipping through the books and having a generally pleasant time.  I would have enjoyed it more, though, if this store were organized better. It was nothing but an exercise in frustration going through the fiction section. I am not sure if it was a matter of the store being in transition, or what was going on, but the \"General Non Fiction\" shelves included a number of books that should have been filed in the fantasy or science fiction shelves, which were incredibly tiny as it was. It make finding anything incredibly difficult, as it was hard to tell if they just didn't carry a particular author, or if it was mistakenly shelved elsewhere. Service was perfectly polite, the Starbucks inside is pretty comfortable and a good place to relax. However, if a bookstore wants to compete with Amazon, they really need to have their stuff together and not annoy the customer.\n",
      "I passed Five Guys, In-N-Out, Carl's Jr, and Sonic to get to The Habit.  It won't happen again. I don't know where all these five stars are coming... but their burger tasted like an unseasoned Sonic burger... and more overpriced than Five Guys. I WILL SAY THAT THE CUSTOMER SERVICE WAS GREAT!\n",
      "I just want to note that I am all about eating quality sushi. I have been to many sushi places  and I know when the sushi is worth the money. Unfortunately, this is not one of them.  The presentation of the sushi is clean and organized but the quality of taste was not there.  We ordered the Godzilla and  10 orders of sake nigiri and 10 order of shrimp nigiri. I was disappointed. It was not fresh enough for my taste and not good enough for the money I spent there. The fresh sushi was flavorless and the rolls did not have a correct balance of flavor.  If you guys are big sushi fans and know the difference between great sushi, good sushi and poor sushi, then this is place in not for you. But if you do like spending $5 on one piece of Nigiri/sashimi (not even a set of two) cause you won big in the casino or something, then be my guest.\n",
      "The reviews for this place on Facebook are great so despite not having a presence on Yelp, I made an appointment.  I won't deny my dog needed some serious grooming.  We'd brushed him out the night before but he could still use more combing, his hind legs/butt trimmed up and he had some matts behind his ear.  There are 4 doors at this place, I believe. If you just pull in to the drive way it's not terribly clear until you get closer to the doors and see signs directing you which to go into.  The lobby is cute. I was quickly greeted and I was given a form to complete. The woman doing the grooming introduced herself and I asked that his hind legs and butt get trimmed up and asked that she cut out any matts.  She said it would probably take about 3 hours.  I received a text about 3 1/2 hours later stating the price would be $80 and if I returned within 8 weeks it would be $65.  I went to pick him up and I was shocked that they shaved him.  His hair was NOT that bad.  Not to mention the hair that was left was not soft as it has been after visiting other groomers.  I didn't say anything because I was so shocked in the moment so I took him home.  We saw our dog paying particular attention to his private area...more so than he usually does.  My husband looked closer and found that he had been nicked a couple of times.  We found a large cut behind one of his ears.  We won't be returning.\n",
      "3 stars for food, but the service was awful. Appetizers were ordered and all the food was brought out at once after wondering where the food was. Saw multiple tables served while we sat around waiting for the check. Won't be back!\n",
      "I went up too my storage unit at the Uhaul facility on 1/9/16 and when I opened my unit door I noticed that there was boxes pushed too the side ... I noticed that three pieces of furniture was gone out of my unit and I notified the manager of that facility about the missing items... And the manager told me I had too file a claim with the Uhaul company ... I couldn't believe that the manager wouldn't look into it making me feel suspicious... I will never use their facility ever again can't trust their company....I called and they have never returned my calls\n",
      "There are good things, and bad things about this tiny airport. The bad things are, no food, no bar, just vending machines a couch and a big screen TV.  The good thing is that this airport is so small, only American Eagle flies here, that when you show up for your flight, you can sit on the couch or an easy chair and watch TV while you wait for the security guys to show up. Then everyone on your flight (~32 people) go through security and get on the plane.\n",
      "This place is clean and a great price the other places around is are horrible and have undesirable types (I.e. hookers) not here safe and quiet no bedbugs a huge plus would recommend it to anyone unless you are from the Phoenix area they will not rent to you unless you live more than 30 miles away after our 3rd stay we were informed of this policy such is stupid and discrimination of Phoenix and surrounding area residents so I'm going to file a complaint with corporate and talk to my lawyer!\n",
      "The worst hotel experience I have had...we came here tonight, and the bathroom shower is visible to he whole room. Then we needed extra blankets and called down, they said they were all out. Then we asked for water botlles, and they said they were all out! Then to too it off, we asked a cot, and to no surprise....they were all out! What bull is that?? The next two nights better be better...\n",
      "this place is lame! my boyfriend and i decided to check it out because it was their very first 80s night and some dude working for the club gave us a free pass. so we waited in line about a half an hour, dealt with the rude doorman, got in and um. not much else to be said.  \"80s night\" was going on outside on the patio, and they were playing the worst of the 80s. bad 80s/hip hop mash ups were going on inside with trashy mid-westerners dancing on tables. we chugged our drinks and were in and out in about 10 minutes.\n",
      "I went to a Spring Training game here on Monday 3/17/14.  The stadium is just off the freeway so I arrived in the area about 75 minutes before the game.  The traffic was backed up on the freeway and the main street was a mess.  I waited almost an hour to get to what I thought was the parking lot only to find out it was the parking for the local Marriott.  People were very frustrated cutting others off in traffic, being aggressive and I witnessed a road rage incident while sitting in the line.  By the time I made it to the Marriott lot, they had been out of spaces for 15 minutes but they did not have a method to notify people.  I blame the Marriot for most of the mess but the City of Tempe need to plan better for events. Inside the stadium I found the place to be less than average for Spring Training games.  The food was not good, the customer service was average and we could not hear the speakers very well.  I will stick to other Spring Training facilities to see some games in the future.\n",
      "We got there by 5:30pm and most of the dishes were cold, as if they been sitting there since noon.  They never refilled our drinks and tried to rush us out.  I would never eat at this place again.\n",
      "I purchased the Groupon and I honestly shouldn't have. I could've painted my nails better at home and saved $30. It was a rush job. The nail polish isn't even covering the full nail on some nails and other nails, the polish covers the entire nail and a lot of skin too. I had to ask her to clean up the nail polish on both my hands and feet. A customer should never have to ask that question, the nail tech should be able to see that themselves and fix it. Well, she cleaned it up... and there is still polish on my skin surrounding my nails. Needless to say, I won't go back.\n",
      "I used to go this office, but as other reviewers have noted, they made a pair of glasses wrong (one lens blurred, could not read with that eye), and then told me, well, your other eye will compensate so you can still read. Really???? What a great way to handle an error in the production of the glasses.  When I objected to being relegated to reading with one eye with my new glasses, the reply was...\"Well, then you'll have to see the Dr. again, and no, he is not available now.\"  No offer to look up his schedule and see when I could see him again, or see if another Dr. could see me then to resolve it.  After the poor response to the problem (you would think they would have some professional way to deal with when glasses come back from the mfr/lens maker and there is an unexpected issue).  I told them I'm not a patient here any longer and took my useless glasses home and resolved to find a quality optometry office and start over.  I did call back and spoke with an Office Mgr, who stated she would look into the matter and get back to me, but never did.  So I called again and toild them to toss my file out and not contact me again for any future appts.   Another thing about their exams.....as part of your exam, they offer to take optional (extra cost) retina photos so you can also have a look at your retinas on a computer screen with the Dr., using a clumsy cube-shaped camera. You sit there and they have you smush your face up against a flat glass panel on the front while they take repeated attempts to get a good photo of your retina. They charge extra if you want this option. Then they raised the price, and I declined due to raising the price. They were charging plenty for that option already.  I moved to a different office that does not charge anything extra at all for the retina photos, and uses a better camera than the camera cube, so no more smushing my face against a flat glass window. (Note: using fake name here for privacy protection from internet identity thieves.)\n",
      "After being a regular at Veggie House i thought it be cool to try Chef Kenny's. We went there a couple times and usually had a great experience until most recently we ordered spicy crispy beef and it came out cold and we told the waitress. All they do is bring you hotter rice but pretend not to hear you about your request. I called back to share my experience and was in shock. They actually put Chef Kenny on the phone which At first I thought was cool. Completely different than I expected, instead of being understanding the owner himself was very rude and told me next time I come in and of this happens to let him know but that's there's nothing more he can do because we already left. I'm sorry but there will not be a next time because I'm going back to Veggie house where they treat customers with respect. I also unfollowed Chef Kenny on Instagram as well.\n",
      "Some really great produce prices, which are what pulled us in.  We got a newspaper flyer from them last week and decided to check it out, based on that.  Still, I kept thinking, isn't this the place [friends of ours] went to and said wasn't that great?? The produce is priced well but it seems like everything else is on the high side.  Bulk food section was small-ish, I though.  I meant to bring a pen and paper to write down prices of items I usually buy, to compare RBN, WF, TJ's, and EEFCO - but forgot.  But long grain brown rice was $1.99 here, which is same as EEFCO.  I think walnuts are more at RBN, though.  Basically - don't believe the low price claims! I think we may go back for produce and that may be it.  Free parking is nice, though - they cover 2 hours, which would give you a little time to wander, too.  Parking is covered which is oh so nice. One negative for families is no changing table in the bathrooms.   I had to change a diaper  on the floor of the bathroom on my husband's coat.  Yeah, the floor was pretty clean, but still.  Ugh.  Not a good thing for families! update - they did eventually add a changing table, but I guess their low priced produce and high priced everything else model didn't make many people happy.  Defunct!\n",
      "$28 for a 15 minutes pedicure with used tools? I would never come back. The place seems new and having 50% back so my friend asked me to join her for a pedicure day treat. As soon as my friend and I got colors and sat down, there were three other customers came. There are not too many technicians working at this salon so they started rushing through my pedicure to get to the next customer. I did not say anything because my friend was beside me so I don't want to make her feel bad . The technician finished my pedicure in 15 minutes. After that, she got her small basket and ran to the next customer using the same tools that she used on me. The tools did not get washed. I was thinking the tools she used on me was already used on someone else. I hope I won's have any infections. I would never come here or let my friend come here again !!!\n",
      "I've been to almost every cigar store worth going to in Phoenix and I have to say that the Tinder box has a lot of potential and that's about it. The store itself is nice but once you enter the huge humidor you quickly realize that somethings not quite right. the humidor is only 30 to 40%  full and of that 30 to 40% of cigars it's a lot of off brands, bundles and empty boxes of cigars on the shelves. When the cigar inventory improves the tinder box will warrant another look and probably 4 stars but for now it's 2 stars, you can't call yourself a legitimate cigar store without legitimate cigars.\n",
      "I was excited to try this place after seeing the reviews. Unfortunately this place was a real let down. The best thing about this place was the corn tortillas for the street tacos. Service was friendly. Ordered the tinga, viniargretta, and carnitas. All bland and nothing special. Salsa's ranged from very hot to hot. Most were hot without any flavor. We won't be back as there are better options with more flavorful protein and salsas to choose from.\n",
      "Hey, I love the Vig Arcadia. I would go there all the time if it was closer. Great food, cool place, good atmosphere, and the best band on Sunday. I even had my birthday party there, with people driving all the way from Gilbert and Queen Creek.  I like the Vig McCormick ranch, same great food and cool atmosphere but still a bit of a drive.  I was so excited there was a Vig being built right in my neighborhood. I watched the construction progress on my way to and fro work. I told my friends who didn't know about the Vig how awesome it was and how excited I was to have one close. It was going to be my number one go to place.  I have been going to Local Bistro, Modern Sports Grill in DC ranch and Isabell's. Now there would e a Vig which is closer and better. I went to the Vig and it was ok, I figured they had just opened and they were still hiring and getting organized.  I went  again. Food was great, bummer no band due to Scottsdale rules but DJ is nice. Service ok but its busy on a Friday. I went again, food great as always but service still lacking. I figured its just busy. At this point I had gone 4 Friday nights in a row. Its close great food and I have always loved the Vig.  I don't get why I have to wait so long to get a drink at the bar. I don't understand why once I get a drink, I'm not offered a refill or second round. I'm trying to unwind on a Friday night, I don't want to have to work to get the bartenders attention to get a drink.  Ok had my cocktails, now time for dinner. The food has always been great. Good taste, good variety on the menu, priced fair. Why does it take so long to put in my dinner order? If I have been there 5-7 times, I have had to wait to order too long maybe 5 times. The food comes out quickly enough and luckily its good since the wait staff doesn't check back.  My friends and coworkers know I go out to eat quite a bit. I am often asked for recommendations, I had said to go to the Vig but I feel I can't recommend it anymore. If anything I would say to go somewhere else. I fell like the McDowell Mountain Ranch location has been open long enough to be running smoothly but its not apparent in the bartenders and wait staff.   Please get better with your service. I want to love this Vig as much as the others but its getting hard.  I work hard for the money I spend at the Vig and don't like feeling unappreciated as a customer.\n",
      "I was so excited to try this place after many people recommend this place. When we arrived we had to wait in the entrance for couple minutes.  Than we were placed at a table and the server came 5 good minutes later.  When he arrived we ordered drink and food.  We had time to visit all the shop and after wait at the table. The food arrived  and all our meats were dry and hard. The tabooli tasted like the presley was old... we all left more than the half of our plates and very disappointed..\n",
      "the most low quality catering in persian catagory. we had party on persian new year and every one paid for the food to be cater through this place. the food was not even enough for everybody and the quality was bad. I feel so bad for this business,\n",
      "Table of 3 on Saturday March 25 around 8pm.. Well the service was terrible. . the host this night took us to a dirty table. . that waitress brung one glass of water when clearly all 3 were empty. Her hair was too damn long and should have been pinned up.. She reaching all over the table and my food.. I couldn't enjoy my meal i was pissed... First time at this location and will not be returning\n",
      "While Cox maybe overprice and give crappy customer service; they are HEAVEN sent compared to these jokers. I called to get a quote, I made sure to ask him that no service will be started. I didnt agree on a price or speed. They started the services anyway. I called to cancel after I got notified of a pending bill. $151 still. If you like your a$$ , stay away. If I could give negative stars I would. I think they paid someone to write the 5 stars reviews.\n",
      "I would have given this place 1 star if not for the service from the front desk.  I checked in on Saturday during memorial day weekend, waited 30 minutes to try to valet park my car and failed to get on the porte cochere due to mismanagement and understaffed valet crew.  There is no excuse for that kind of thing at a hotel especially where there is no self park option.  Ended up parking across the street at the mall to check in, ridonkulous. The service at the front desk was good to great, they were apologetic about the valet and whenever I called down for my car (once I was able to valet my car), they fought to have my car ready by the time I got down.  Accommodations are decent, nice big jet tubs, good sized rooms and a mini kitchenette in the studios to boot because these are condotel units.  The location, despite being off strip, is workable because you're walking distance to the Wynn and directly across the street from Fashion Show.  If you're staying here, you probably don't want a casino and so being next to fashion show is a plus.   I can't stress how understaffed this hotel seemed to be and so I probably won't stay here again if I'm paying the same price as a on-strip 4star hotel.  I was able to book at a $100 discount to other comparable hotels with a casino though so something to keep in mind.\n",
      "Last night we had a take out of Butter Chicken. I ordered it as medium spice. The butter chicken sauce tasted like sweet tomato sauce. It reminded me of panera bread tomato soup. It was that sweet. Tamarind used to have good delicious food. I don't mind paying more for delicious food but their quality has gone down. It's more expensive than other local establishment and food quality has degraded as well.\n",
      "This is not the place for Italian food.  It is a pretty generic Americanized Italian food chain joint but if you ever want Beignets, come here and order the zappolis... They call them Italian doughnuts but they are basically just beignets with chocolate dipping sauce and are great!  Other than that... I sat at the bar and the bartender was super sweet and nice, his name?? but the check said \"khutso C.\"  Sooo, I think his name may have been Chris?? He was great, the staff at the bar were very friendly and cool but there were two guys at the door when I came in that had an attitude problem... I walked in and said I was going to the bar and they stood there looking at me like \"whatever!\"?? I mean... Come on, they didn't even have to seat me, thus do their job, so what was up with the shitty looks?  While I was waiting I tried the crispy asparagus app and it was good except it came with this heavy sauce.. I asked for balsamic instead and it was much better!! Also I have to say they had no problem with me using my small vaporizer at the bar and Chris and the other bartender even complimented me on it;) love a vape friendly bar!! All in all, for a chain the bar is great but if you want Italian food this isn't the place... It's like any other national chain, pretty Americanized!  Chris and the other cool bartender should be working somewhere high-end, they were the best part of the visit!;)\n",
      "I've always appreciated how fun this place is. Great food and drinks, but dining here during the day is another experience. A little too laid-back for those of us who have a limited lunch hour. Why is it always the \"other table\" has the fun waiter that is attentive to service?  Food was delicious (when it finally arrived), and as always, the fish tacos were great. Be careful of filling up on the fresh, warm bread and cinnamon butter while you wait for the main course.  Obviously this practically became our meal while we waited for our waiter to stroll over with our lunch. If you truly want to experience this place at its best, try the late afternoon, early evening when the sun dips and people are darting in and out of the various stores close by. Great place to meet with friends and sip mojitos.\n"
     ]
    }
   ],
   "source": [
    "i = 0\n",
    "for line in df2:\n",
    "    i += 1\n",
    "    print(line)\n",
    "    if i == 50:\n",
    "        break"
   ]
  },
  {
   "cell_type": "code",
   "execution_count": 7,
   "metadata": {},
   "outputs": [],
   "source": [
    "with open('1to2starsv3.txt', 'a', encoding=\"utf-8\") as f1:\n",
    "    i = 0\n",
    "    for line in df2:\n",
    "        i+=1\n",
    "        f1.write(line)\n",
    "        f1.write('\\n')\n",
    "        if i == 100000:\n",
    "            break"
   ]
  },
  {
   "cell_type": "code",
   "execution_count": 16,
   "metadata": {},
   "outputs": [
    {
     "name": "stdout",
     "output_type": "stream",
     "text": [
      "As someone who has worked with many museums, I was eager to visit this gallery on my most recent trip to Las Vegas. When I saw they would be showing infamous eggs of the House of Faberge from the Virginia Museum of Fine Arts (VMFA), I knew I had to go! Tucked away near the gelateria and the garden, the Gallery is pretty much hidden from view. It's what real estate agents would call \"cozy\" or \"charming\" - basically any euphemism for small. That being said, you can still see wonderful art at a gallery of any size, so why the two *s you ask? Let me tell you: * pricing for this, while relatively inexpensive for a Las Vegas attraction, is completely over the top. For the space and the amount of art you can fit in there, it is a bit much. * it's not kid friendly at all. Seriously, don't bring them. * the security is not trained properly for the show. When the curating and design teams collaborate for exhibitions, there is a definite flow. That means visitors should view the art in a certain sequence, whether it be by historical period or cultural significance (this is how audio guides are usually developed). When I arrived in the gallery I could not tell where to start, and security was certainly not helpful. I was told to \"just look around\" and \"do whatever.\"  At such a *fine* institution, I find the lack of knowledge and respect for the art appalling.\n",
      "\n",
      "I am actually horrified this place is still in business. My 3 year old son needed a haircut this past summer and the lure of the $7 kids cut signs got me in the door. We had to wait a few minutes as both stylists were working on people. The decor in this place is total garbage. It is so tacky. The sofa they had at the time was a pleather sofa with giant holes in it. And my son noticed ants crawling all over the floor and the furniture. It was disgusting and I should have walked out then. Actually, I should have turned around and walked out upon entering but I didn't. So the older black male stylist finishes the haircut he was doing and it's our turn. I tell him I want a #2 clipper around the back and sides and then hand cut the top into a standard boys cut. Really freaking simple, right? WRONG! Rather than use the clippers and go up to actually cut the hair, he went down. Using it moving downward doesn't cut hair, it just rubs against it. How does this man who has an alleged cosmetology license not know how to use a set of freaking clippers??? I realized almost immediately that he had no idea what he was doing. No idea at all. After about 10 minutes of watching this guy stumble through it, I said \"you know what? That's fine.\", paid and left. All I wanted to do was get out of that scummy joint and take my son to a real haircut place. Bottom line: DO NOT GO HERE. RUN THE OTHER WAY!!!!!\n",
      "\n",
      "Dismal, lukewarm, defrosted-tasting \"TexMex\" glop; Mumbly, unengaged waiter; Clueless manager, who seeing us with barely nibbled entrees on plates shoved forward for pickup, thanked us perfunctorily for our patronage; We're from the Texas Hill Country; down there, we jail critters  who serve up grub this bad, for their own protection. Never, never, NEVER again (Back to Yard House for real food)\n",
      "\n",
      "If I could give less than one star, that would have been my choice.  I rent a home and Per my lease agreement it is MY responsibility to pay their Pool Service company.  Within the last year they changed to PoolServ.  I have had  major issues with new techs every week, never checking PH balances, cleaning the filter, and not showing up at all 2 weeks in the past 2 months. I have had 4 different techs in the past 4 weeks.   I have emailed and called them and they never respond back nor even acknowledged my concerns or requests.  I cannot change companies but I'm required to still pay for lousy or no service.  Attached are a couple pictures of my pool recently due to one tech just didn't put any chlorine in it at all according to the tech who came the following week to attempt to clean it up.  Please think twice before working with these people.  No one wants to work with a business that doesn't return phone calls or emails.\n",
      "\n",
      "10pm on a super bowl Sunday and they're already closed?? Weak, no wonder the hard Rock is dying off...\n",
      "\n",
      "Tried to have my car repaired.  Even made an appointment.  I was told that all my appointment was for is to meet the service advisor, not get any work completed on my car.  Such a waste of time.  Even talked to the Service Manager, he didn't care.  Since that was the attitude of the service department, I can only expect that from the mechanics that would have worked on my car.  Went to another dealership, made an appointment and my car went in to be repaired.  Not told to come back later and they might get to my car. Very poor service.\n",
      "\n",
      "Just... not good.  We want it to be - we have been several times hoping, but the experience is always at best, lackluster.  The food is not great, very run-of the mill on a good day and the serve staff though very nice is always - and I have never had the same person twice - always totally lost and under-trained.  It blows my mind because they can't possibly know alcohol laws if they don't know anything about the menu - going to bite that company one day.  I am not sure but I think someone I know told me they do the shared tip thing and I thought maybe that may be why but I know another place that does that and the service is excellent.  I don't know what the problem is - I have worked in the industry before while in college and I would say front of the house training needs big overhaul.  At any rate, they have lots of TV's and it is closer to us but just plain not good.  I wish they would switch locations with Wild Wing Cafe - also chain-y but much better food and service.\n",
      "\n",
      "This actually used to be one of my favorite hotel/casinos back in the day.  Oh, how things have changed. There are some goods, however.  If you are a conventioneer, you have instant and direct walking access to the main convention center.  But don't think about parking here for said conventions.  $30 a day for parking, Hilton?  Seriously?  That's robbery.  And greed. The biggest disappointment is the killing off of Star Trek: The Experience over two years ago.  Despite this place being off-Strip, I made it a point to go here because they had such a fun and unique attraction here.  It would be one thing if they had something in mind to replace it, but either poor planning or the economy.... It's dead, Jim.  The \"Space Lounge\" is still there.  An entire casino area with a heavy sci-fi theme to it.  Except there's no casino here.  It's a huge space themed area with a ghost town bar, no slots, a few couches, a makeshift stage, beer signs, and a few remnants of Star Trek themes.  All of this space, and nothing.  No life to it.  Couches and beer signs only make the emptiness and waste of the area seem more empty and pathetic. With their main draw gone, what has replaced it as the headliner?  Benihana's.  Nothing wrong with the restaurant, but it's hardly unique or exclusive, even in Vegas.  The Hilton has a Pizza Hut Express here too.  Maybe they should promote that as their \"big draw\" on the marquee as well.  A huge Benihana sign covers up the old entrance to Star Trek.  With couches pushed in front of the entryway.  Again, just sad, and I'll be a big man in saying that they kind of broke my heart getting rid of one of my most beloved hang-outs here. The arcade is dead as well.  Another blanketed off space that sits and collects dust.  Again, with two-plus years, no suitable replacement has been found for anything in this section.  A few shops that fluctuate, but that's it.  This is a lot of dead space to go unused.   There's also the issue of the Men's bathroom in the main casino area.  Above every urinal is a picture of a lust-crazed girl staring over your bits with a camera, magnifying glass, tape measure, etc, while you pee.  The first time I saw this, it was \"ha ha\" funny, then when the laughter died, it just turned creepy and weird for me.  I actually selected a urinal based off which girl creeped me out the least.  She merely looked like she was casting spells at my nethers.  I could live with that. Ladies: I must know.  Is there something like this in the girl's restroom?  When you close the stall door to do your business, is there a picture of some crazed guy making grabbing motions where your boobs would be?  Please message me and let me know.  I'd really like to know what the Hell you get in your bathroom after my gender's discovery. As critical as I am being, there looks to be some sort of steampunk-themed club called \"Triumph\" there.  I want to check this out.  Atonement for the death of my beloved Warp Core Breach booze bowl?  We'll see, but it's going to have to be pretty good to replace the hole in my heart from that much booze for so cheap a price. The sad part is, Hilton's one of those \"history rich\" casinos here.  Look up the history on this place.  A lot of awesome stars and vintage Vegas stuff happened here, which makes you wonder why this isn't represented more. This place is great for convention visitors to stay, but that's about it as far as I can see.  They need to figure themselves out for everything else.\n",
      "\n",
      "Horrible- Unclean, rancid, foul odors, unkempt, and poor service. The restaurant was nearly empty, and the cashier didn't even look up to say hello as my husband stood hungrily grinning at the counter. Needless to say, I talked him into driving up the road to the other location. This one is unacceptable.\n",
      "\n",
      "There wasn't one specific thing that made this buffet so horrible... It's just the accumulation of everything being less than average quality. There are plenty of options, but none of them were flavorful, hot, or worth filling up on. Some others have commented on the dessert section being worthwhile, but to us everything tasted unthawed and on the stale side. The Asian section had probably the best offerings but all were still fairly bland. The worst part is that when I was going to grab a slice from the pizza station, someone had placed the tongs directly on TOP of the pizza... So all the hand germs were in direct contact with the food! There were two workers right there who didn't think this was disgusting.. I would have discarded the slices. My husband and I both left with unsatisfied stomachs and looked forward to the second dinner we would have a few hours later at a much better establishment.\n",
      "\n",
      "A margarita in clear plastic dickie cup??? Wtf?? The drunkin shrimp plate should of been called the goldfish feeder shrimp platter..\n",
      "\n",
      "The tables and floor were dirty. I was the only customer on a Saturday nite and  the person working the counter ignored me I had a corned beef sandwich. I took three bites  and threw it in the trash\n",
      "\n",
      "Passed by here after we went to raijin ramen and thought everything looked super cute. Bought 3 bread, the charcoal salted egg, an almond croissant and a coffee walnut bread. All three, after discount came to almost 20$. I was quite excited but upon trying them all, the croissant was pretty good (but I've had better, ie nadege, etc) but the other two were very mediocre. The salted egg bread was very one dimensional as the bread itself wasn't very flavourful. I thought it would be closer to a moon cake concept where bread is a bit sweet and counterbalanced the salty egg yolk but instead the egg yolk overpowered everything else. The walnut bread was also very weird as the coffee had a weird after taste.  For the price I would def not come back.\n",
      "\n",
      "I can't tell you how angry I am right now.  I went to Huntersville Ford yesterday to get an oil change on my commuter car.  Paid my $41.00 and was given back my car just over an hour later. Today I had to go to work (40 mile round trip commute).  As I was getting off of I-85, I noticed the smell of burning oil.  I thought maybe the tech just spilled a little on the exhaust manifold since it's right there, and maybe it's burning off.  I didn't hit a stop light until I was almost at my office.  When I stopped and was waiting for the light, my cabin started to fill with smoke, and I had smoke pouring out from under the hood and the wheel wells as well. I pulled over into the parking area of a gas station (because they have accessible fire extinguishers) and parked.  I popped the hood only to find THE TECHNICIAN DID NOT PUT THE OIL FILLER CAP BACK ON!!!  Now my engine is covered in potentially flammable oil, and of course Huntersville Ford is closed today!!!! I have my car sitting outside in the parking lot with the hood open, just in case it decides to ignite, because my engine is pretty hot after a 20 mile drive. I called and left a voicemail, and now I have to find a way to degrease my engine at work, just so I can drive it home in a less-flammable state.  I WILL HOLD HUNTERSVILLE FORD RESPONSIBLE FOR ANY COMPONENTS THAT FAIL AS OF A RESULT OF THIS.  Most electronics don't like being slathered in motor oil.  In fact, I'm pretty sure they aren't designed for that. And NO, I did not have other work done... Just the oil change.  You had 1 job.... oil change.  No transmission service, no brake service, no rotation, no cooling flush... just an oil change.  I hope he remembered to tighten the filter, but I am skeptical at this point. I can assure you, I will NOT be taking my car back to that dealership, even though it is right around the corner from my house.  MAKE IT RIGHT, HUNTERSVILLE FORD.\n",
      "\n",
      "Worst pedicure ever. First, waited over a half hour even though we had appointments. Then, the girl rushed throughout, made rude comments and talked and laughed with her other coworkers in a different language. Pedicure is chipped not even one week later. Will NEVER go back here. Worse experience.\n",
      "\n",
      "Decent food. Fishermen lobster or even congee queen can do better than this. Nice decor but that is it. I don't expect too much service from a Chinese restaurant but I gotta say that the hostess and waitress weren't welcoming at all. Won't recommend this place to anyone.\n",
      "\n",
      "We drive by Fruits and Roots almost daily and we finally decided to give it a try. Unfortunately the only good thing I have to say about the place is it has nice decor. We walked in and was greeted by one of the girls and as we were looking at the menu she asked if it was our first time and we told her yes. We assumed she would explain the menu but nope! My daughter's go to is a strawberry banana smoothie and the menu had a few smoothies that had strawberry and banana mixed with other stuff and I asked if they would be able to make one with just strawberry and banana and she had said they couldn't because it was already pre made. So we continued to look at the menu and a different girl came and said she would be able to make the smoothie so thank you to her. My husband and I knew we wanted to get an acai bowl so as we looked at the different options we found one we wanted to try but on the menu it had a pitaya and we asked if we could get it with acai instead but again was told that it was already pre made. So we went with one that was made with acai but it had blueberries which we don't like and we weee hesistant to ask if they would be able to leave them out since everything seemed to be pre made but my husband did ask and luckily she said they could leave it out. Whew! It wasn't a long wait to get our order. My daughter drank her smoothie saying it was okay and our acai bowl was okay as well. To me the best part was the granola and that's about it. At least we can say we finally tried this place and we definitely won't be back. We will be sticking to our usual spot Bowlology!\n",
      "\n",
      "I had an oil change at the 15515 N Scottsdale Road location.  When the car was delivered to me, there were two engine warning lights on that had not been on when I drove the car in.  The technician said that the lights were on when he got in the car, which was not true.  I took the car to the dealer who said that a sensor light had been left unplugged when they removed the air filter.  I should have read the many bad Yelp reviews prior to going to this facility.\n",
      "\n",
      "The absolute WORST apartment complex I have ever lived in. Moved here from out of state. Hoped to find a decently priced apartment until I got myself settled in. Wow this place has been trash. Landlord is only here half the time, so those of you with a full time job, forget ever trying to communicate with her! Doesn't answer the phone or call back. Place can't even get with the 21st century and splurge on email communication. Rent past due? Noise complaint on an animal? Anything, Don't worry, you'll be singled out with a cheap ass piece of paper taped to your door for the whole complex to see. As far as CAM Properties as a whole, also trash! They also refuse to give callbacks. After hours \"emergency?\" ha, yeah right! Scottsdale PD had to be called when I had troubles after hours because CAM's \"emergency after hours hotline\" didn't answer the phone! I will never ever recommend anyone live here. The bugs invade the units like crazy - cockroaches, spiders, lizards, you name it. They say they spray before you move in, but do not perform any follow up procedures. They tell you if there's bugs in you apartment, that's all YOUR fault. Ha! I cannot get out of this place fast enough. The only upside is the utilities are included, however the price is still absurd for the less than average amenities and the horrible customer service.\n",
      "\n",
      "I ordered a pizza at 4:49. Got an email that said my pizza would be delivered at 5:18 to5:28. 5:38 still no pizza. Called the store. They said it was out for delivery. I said I knew that it was suppose to be delivered 10 minutes ago. 5:48. Still no pizza. Called the store back. Again, I was told it was out for delivery. 5:48 called the store again. When I was on the phone the pizza came. When it arrived it was COLD.\n",
      "\n"
     ]
    }
   ],
   "source": [
    "with open('1to2stars.txt', 'r', encoding=\"utf-8\") as f2:\n",
    "    lines = f2.readlines()\n",
    "i=0\n",
    "for line in lines:\n",
    "    i+=1\n",
    "    print(line)\n",
    "    if i == 20:\n",
    "        break"
   ]
  },
  {
   "cell_type": "code",
   "execution_count": 2,
   "metadata": {},
   "outputs": [
    {
     "data": {
      "text/plain": [
       "1941426"
      ]
     },
     "execution_count": 2,
     "metadata": {},
     "output_type": "execute_result"
    }
   ],
   "source": [
    "len(lines)"
   ]
  },
  {
   "cell_type": "code",
   "execution_count": 5,
   "metadata": {},
   "outputs": [
    {
     "data": {
      "text/plain": [
       "'As someone who has worked with many museums, I was eager to visit this gallery on my most recent trip to Las Vegas. When I saw they would be showing infamous eggs of the House of Faberge from the Virginia Museum of Fine Arts (VMFA), I knew I had to go! Tucked away near the gelateria and the garden, the Gallery is pretty much hidden from view. It\\'s what real estate agents would call \"cozy\" or \"charming\" - basically any euphemism for small. That being said, you can still see wonderful art at a gallery of any size, so why the two *s you ask? Let me tell you: * pricing for this, while relatively inexpensive for a Las Vegas attraction, is completely over the top. For the space and the amount of art you can fit in there, it is a bit much. * it\\'s not kid friendly at all. Seriously, don\\'t bring them. * the security is not trained properly for the show. When the curating and design teams collaborate for exhibitions, there is a definite flow. That means visitors should view the art in a certain sequence, whether it be by historical period or cultural significance (this is how audio guides are usually developed). When I arrived in the gallery I could not tell where to start, and security was certainly not helpful. I was told to \"just look around\" and \"do whatever.\"  At such a *fine* institution, I find the lack of knowledge and respect for the art appalling.\\n'"
      ]
     },
     "execution_count": 5,
     "metadata": {},
     "output_type": "execute_result"
    }
   ],
   "source": [
    "lines[0]"
   ]
  },
  {
   "cell_type": "code",
   "execution_count": null,
   "metadata": {},
   "outputs": [],
   "source": []
  }
 ],
 "metadata": {
  "kernelspec": {
   "display_name": "Python 3",
   "language": "python",
   "name": "python3"
  },
  "language_info": {
   "codemirror_mode": {
    "name": "ipython",
    "version": 3
   },
   "file_extension": ".py",
   "mimetype": "text/x-python",
   "name": "python",
   "nbconvert_exporter": "python",
   "pygments_lexer": "ipython3",
   "version": "3.9.1"
  }
 },
 "nbformat": 4,
 "nbformat_minor": 4
}
