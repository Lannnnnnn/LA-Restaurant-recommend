{
 "cells": [
  {
   "cell_type": "code",
   "execution_count": 1,
   "metadata": {},
   "outputs": [],
   "source": [
    "import pandas as pd\n",
    "from sklearn.feature_extraction.text import TfidfVectorizer\n",
    "from sklearn.metrics.pairwise import linear_kernel\n",
    "from sklearn.metrics.pairwise import cosine_similarity\n",
    "import numpy as np\n",
    "import re\n",
    "import os"
   ]
  },
  {
   "cell_type": "code",
   "execution_count": 25,
   "metadata": {},
   "outputs": [
    {
     "name": "stderr",
     "output_type": "stream",
     "text": [
      "[nltk_data] Downloading package wordnet to\n",
      "[nltk_data]     /Users/alanliu99/nltk_data...\n",
      "[nltk_data]   Unzipping corpora/wordnet.zip.\n"
     ]
    }
   ],
   "source": [
    "from sklearn.decomposition import NMF, LatentDirichletAllocation\n",
    "from sklearn.preprocessing import normalize\n",
    "from tqdm import tqdm, tqdm_pandas\n",
    "\n",
    "import nltk\n",
    "from nltk.corpus import stopwords\n",
    "from sklearn.metrics import accuracy_score, precision_score, recall_score\n",
    "from nltk.stem import WordNetLemmatizer\n",
    "from nltk.tokenize import TweetTokenizer\n",
    "nltk.download('wordnet')\n",
    "\n",
    "import re"
   ]
  },
  {
   "cell_type": "code",
   "execution_count": 2,
   "metadata": {},
   "outputs": [],
   "source": [
    "#os.chdir('../')\n",
    "business = pd.read_csv('data/business.csv')\n",
    "#review = pd.read_csv('test/testdata/test_review.csv')\n",
    "las_vagas_reviews = pd.read_csv('data/Las_Vegas_review.csv')"
   ]
  },
  {
   "cell_type": "code",
   "execution_count": 4,
   "metadata": {},
   "outputs": [],
   "source": [
    "reviews = pd.read_csv('data/reviews.csv')"
   ]
  },
  {
   "cell_type": "code",
   "execution_count": 15,
   "metadata": {},
   "outputs": [],
   "source": [
    "las_vagas_reviews.text= las_vagas_reviews.text.fillna(\"\")"
   ]
  },
  {
   "cell_type": "code",
   "execution_count": 16,
   "metadata": {},
   "outputs": [
    {
     "data": {
      "text/html": [
       "<div>\n",
       "<style scoped>\n",
       "    .dataframe tbody tr th:only-of-type {\n",
       "        vertical-align: middle;\n",
       "    }\n",
       "\n",
       "    .dataframe tbody tr th {\n",
       "        vertical-align: top;\n",
       "    }\n",
       "\n",
       "    .dataframe thead th {\n",
       "        text-align: right;\n",
       "    }\n",
       "</style>\n",
       "<table border=\"1\" class=\"dataframe\">\n",
       "  <thead>\n",
       "    <tr style=\"text-align: right;\">\n",
       "      <th></th>\n",
       "      <th>name</th>\n",
       "      <th>business_id</th>\n",
       "      <th>city</th>\n",
       "      <th>categories</th>\n",
       "      <th>review_id</th>\n",
       "      <th>text</th>\n",
       "      <th>stars</th>\n",
       "      <th>user_id</th>\n",
       "    </tr>\n",
       "  </thead>\n",
       "  <tbody>\n",
       "    <tr>\n",
       "      <th>0</th>\n",
       "      <td>Carl's Jr</td>\n",
       "      <td>fnZrZlqW1Z8iWgTVDfv_MA</td>\n",
       "      <td>Las Vegas</td>\n",
       "      <td>Mexican, Restaurants, Fast Food</td>\n",
       "      <td>WUAt5-krh075Ie44np8Hew</td>\n",
       "      <td>So why would I be giving a Fast Food chain loc...</td>\n",
       "      <td>5.0</td>\n",
       "      <td>YDkC5VVT8s9NlIZtAr8NUA</td>\n",
       "    </tr>\n",
       "    <tr>\n",
       "      <th>1</th>\n",
       "      <td>Carl's Jr</td>\n",
       "      <td>fnZrZlqW1Z8iWgTVDfv_MA</td>\n",
       "      <td>Las Vegas</td>\n",
       "      <td>Mexican, Restaurants, Fast Food</td>\n",
       "      <td>S9vIs-je49jqbhpWSQ8yHg</td>\n",
       "      <td>I come here bout 3x's a mo. &amp; I just can't do ...</td>\n",
       "      <td>2.0</td>\n",
       "      <td>mxtalrN7VHVQwGjv8ln5yg</td>\n",
       "    </tr>\n",
       "    <tr>\n",
       "      <th>2</th>\n",
       "      <td>Carl's Jr</td>\n",
       "      <td>fnZrZlqW1Z8iWgTVDfv_MA</td>\n",
       "      <td>Las Vegas</td>\n",
       "      <td>Mexican, Restaurants, Fast Food</td>\n",
       "      <td>i2Soid_X8XsSTyIrPOst6g</td>\n",
       "      <td>WORST experience EVER!!!!! never have i ate an...</td>\n",
       "      <td>1.0</td>\n",
       "      <td>xammeA3ftpFoAN13v5Blyg</td>\n",
       "    </tr>\n",
       "    <tr>\n",
       "      <th>3</th>\n",
       "      <td>Carl's Jr</td>\n",
       "      <td>fnZrZlqW1Z8iWgTVDfv_MA</td>\n",
       "      <td>Las Vegas</td>\n",
       "      <td>Mexican, Restaurants, Fast Food</td>\n",
       "      <td>uDYGaAOUgo7SLuH5nUZs3w</td>\n",
       "      <td>Hot fresh food usually.  Staff seems to turn o...</td>\n",
       "      <td>4.0</td>\n",
       "      <td>gQhFacMGI41mfVXqw1E7bQ</td>\n",
       "    </tr>\n",
       "    <tr>\n",
       "      <th>7</th>\n",
       "      <td>Carl's Jr</td>\n",
       "      <td>fnZrZlqW1Z8iWgTVDfv_MA</td>\n",
       "      <td>Las Vegas</td>\n",
       "      <td>Mexican, Restaurants, Fast Food</td>\n",
       "      <td>eDqCFNQyAv74NID-BcT5KA</td>\n",
       "      <td>Food was alright, but with only 1 person ahead...</td>\n",
       "      <td>2.0</td>\n",
       "      <td>CMMlQQxJXr6f4Jop_ozZKA</td>\n",
       "    </tr>\n",
       "    <tr>\n",
       "      <th>...</th>\n",
       "      <td>...</td>\n",
       "      <td>...</td>\n",
       "      <td>...</td>\n",
       "      <td>...</td>\n",
       "      <td>...</td>\n",
       "      <td>...</td>\n",
       "      <td>...</td>\n",
       "      <td>...</td>\n",
       "    </tr>\n",
       "    <tr>\n",
       "      <th>1503838</th>\n",
       "      <td>Island Buffet</td>\n",
       "      <td>wjZ12shpUWAy4Boy0G5z1g</td>\n",
       "      <td>Las Vegas</td>\n",
       "      <td>Restaurants, Buffets</td>\n",
       "      <td>reGRBX3twj8OJnYbtje1SA</td>\n",
       "      <td>Stay away, far, far, far away from here! We so...</td>\n",
       "      <td>1.0</td>\n",
       "      <td>iCos25g_O3Z5Am9K4383WA</td>\n",
       "    </tr>\n",
       "    <tr>\n",
       "      <th>1503840</th>\n",
       "      <td>Island Buffet</td>\n",
       "      <td>wjZ12shpUWAy4Boy0G5z1g</td>\n",
       "      <td>Las Vegas</td>\n",
       "      <td>Restaurants, Buffets</td>\n",
       "      <td>IeowybrKAmmf9njf7pa1rA</td>\n",
       "      <td>So there are alot of pretty bad reviews but I ...</td>\n",
       "      <td>3.0</td>\n",
       "      <td>F5YcdVMqhDAfhGZsMCXDTA</td>\n",
       "    </tr>\n",
       "    <tr>\n",
       "      <th>1503841</th>\n",
       "      <td>Island Buffet</td>\n",
       "      <td>wjZ12shpUWAy4Boy0G5z1g</td>\n",
       "      <td>Las Vegas</td>\n",
       "      <td>Restaurants, Buffets</td>\n",
       "      <td>r7maiBTmlfFRcaLAmwY0Aw</td>\n",
       "      <td>All the buffets are pretty much the same.  Ove...</td>\n",
       "      <td>2.0</td>\n",
       "      <td>CPLndzPfGfJzjqjzXCr9_g</td>\n",
       "    </tr>\n",
       "    <tr>\n",
       "      <th>1503842</th>\n",
       "      <td>Island Buffet</td>\n",
       "      <td>wjZ12shpUWAy4Boy0G5z1g</td>\n",
       "      <td>Las Vegas</td>\n",
       "      <td>Restaurants, Buffets</td>\n",
       "      <td>UPn6fAXxo7SEaQL4xkUgFA</td>\n",
       "      <td>Don't come here for dinner.  You can see the b...</td>\n",
       "      <td>1.0</td>\n",
       "      <td>pSoe4XBftnJiTgG1fPw52g</td>\n",
       "    </tr>\n",
       "    <tr>\n",
       "      <th>1503843</th>\n",
       "      <td>Island Buffet</td>\n",
       "      <td>wjZ12shpUWAy4Boy0G5z1g</td>\n",
       "      <td>Las Vegas</td>\n",
       "      <td>Restaurants, Buffets</td>\n",
       "      <td>O9WrzMllsBeDckeMLNzS-g</td>\n",
       "      <td>This place is horrible. I've waited for probab...</td>\n",
       "      <td>1.0</td>\n",
       "      <td>bnPpoAsVbULVN8EsUYGGCA</td>\n",
       "    </tr>\n",
       "  </tbody>\n",
       "</table>\n",
       "<p>998042 rows × 8 columns</p>\n",
       "</div>"
      ],
      "text/plain": [
       "                  name             business_id       city  \\\n",
       "0            Carl's Jr  fnZrZlqW1Z8iWgTVDfv_MA  Las Vegas   \n",
       "1            Carl's Jr  fnZrZlqW1Z8iWgTVDfv_MA  Las Vegas   \n",
       "2            Carl's Jr  fnZrZlqW1Z8iWgTVDfv_MA  Las Vegas   \n",
       "3            Carl's Jr  fnZrZlqW1Z8iWgTVDfv_MA  Las Vegas   \n",
       "7            Carl's Jr  fnZrZlqW1Z8iWgTVDfv_MA  Las Vegas   \n",
       "...                ...                     ...        ...   \n",
       "1503838  Island Buffet  wjZ12shpUWAy4Boy0G5z1g  Las Vegas   \n",
       "1503840  Island Buffet  wjZ12shpUWAy4Boy0G5z1g  Las Vegas   \n",
       "1503841  Island Buffet  wjZ12shpUWAy4Boy0G5z1g  Las Vegas   \n",
       "1503842  Island Buffet  wjZ12shpUWAy4Boy0G5z1g  Las Vegas   \n",
       "1503843  Island Buffet  wjZ12shpUWAy4Boy0G5z1g  Las Vegas   \n",
       "\n",
       "                              categories               review_id  \\\n",
       "0        Mexican, Restaurants, Fast Food  WUAt5-krh075Ie44np8Hew   \n",
       "1        Mexican, Restaurants, Fast Food  S9vIs-je49jqbhpWSQ8yHg   \n",
       "2        Mexican, Restaurants, Fast Food  i2Soid_X8XsSTyIrPOst6g   \n",
       "3        Mexican, Restaurants, Fast Food  uDYGaAOUgo7SLuH5nUZs3w   \n",
       "7        Mexican, Restaurants, Fast Food  eDqCFNQyAv74NID-BcT5KA   \n",
       "...                                  ...                     ...   \n",
       "1503838             Restaurants, Buffets  reGRBX3twj8OJnYbtje1SA   \n",
       "1503840             Restaurants, Buffets  IeowybrKAmmf9njf7pa1rA   \n",
       "1503841             Restaurants, Buffets  r7maiBTmlfFRcaLAmwY0Aw   \n",
       "1503842             Restaurants, Buffets  UPn6fAXxo7SEaQL4xkUgFA   \n",
       "1503843             Restaurants, Buffets  O9WrzMllsBeDckeMLNzS-g   \n",
       "\n",
       "                                                      text  stars  \\\n",
       "0        So why would I be giving a Fast Food chain loc...    5.0   \n",
       "1        I come here bout 3x's a mo. & I just can't do ...    2.0   \n",
       "2        WORST experience EVER!!!!! never have i ate an...    1.0   \n",
       "3        Hot fresh food usually.  Staff seems to turn o...    4.0   \n",
       "7        Food was alright, but with only 1 person ahead...    2.0   \n",
       "...                                                    ...    ...   \n",
       "1503838  Stay away, far, far, far away from here! We so...    1.0   \n",
       "1503840  So there are alot of pretty bad reviews but I ...    3.0   \n",
       "1503841  All the buffets are pretty much the same.  Ove...    2.0   \n",
       "1503842  Don't come here for dinner.  You can see the b...    1.0   \n",
       "1503843  This place is horrible. I've waited for probab...    1.0   \n",
       "\n",
       "                        user_id  \n",
       "0        YDkC5VVT8s9NlIZtAr8NUA  \n",
       "1        mxtalrN7VHVQwGjv8ln5yg  \n",
       "2        xammeA3ftpFoAN13v5Blyg  \n",
       "3        gQhFacMGI41mfVXqw1E7bQ  \n",
       "7        CMMlQQxJXr6f4Jop_ozZKA  \n",
       "...                         ...  \n",
       "1503838  iCos25g_O3Z5Am9K4383WA  \n",
       "1503840  F5YcdVMqhDAfhGZsMCXDTA  \n",
       "1503841  CPLndzPfGfJzjqjzXCr9_g  \n",
       "1503842  pSoe4XBftnJiTgG1fPw52g  \n",
       "1503843  bnPpoAsVbULVN8EsUYGGCA  \n",
       "\n",
       "[998042 rows x 8 columns]"
      ]
     },
     "execution_count": 16,
     "metadata": {},
     "output_type": "execute_result"
    }
   ],
   "source": [
    "rest = las_vagas_reviews[las_vagas_reviews.text.apply(lambda x: len(x.split())) > 50]\n",
    "rest"
   ]
  },
  {
   "cell_type": "code",
   "execution_count": 18,
   "metadata": {},
   "outputs": [],
   "source": [
    "test_1000_id = np.unique(rest.business_id)[0:1000]\n",
    "test_df = rest[rest.business_id.isin(test_1000_id)].copy()"
   ]
  },
  {
   "cell_type": "code",
   "execution_count": 26,
   "metadata": {},
   "outputs": [
    {
     "name": "stdout",
     "output_type": "stream",
     "text": [
      "CPU times: user 3min 6s, sys: 3.43 s, total: 3min 9s\n",
      "Wall time: 3min 24s\n"
     ]
    }
   ],
   "source": [
    "%%time\n",
    "#Lemmatize, remove punctuations and symbols\n",
    "lmtzr = WordNetLemmatizer()\n",
    "tokenizer = TweetTokenizer()\n",
    "sent_pre1 = test_df['text'].apply(lambda a: [lmtzr.lemmatize(word) for word in tokenizer.tokenize(a.lower())]) "
   ]
  },
  {
   "cell_type": "code",
   "execution_count": 27,
   "metadata": {},
   "outputs": [
    {
     "data": {
      "text/plain": [
       "4786       [this, little, hidden, gem, of, dtlv, is, my, ...\n",
       "4787       [i, wish, there, were, more, place, like, ogde...\n",
       "4788       [my, favorite, place, for, sandwich, &, the, o...\n",
       "4789       [i, really, appreciate, that, there, is, a, co...\n",
       "4790       [this, place, is, the, best, ., i, work, right...\n",
       "                                 ...                        \n",
       "1503829    [i'm, a, bit, annoyed, by, the, yelp, rating, ...\n",
       "1503831    [wow, ,, if, i, could, give, this, place, no, ...\n",
       "1503832    [i, love, noodle, and, saw, this, restaurant, ...\n",
       "1503833    [one, thing, i, noticed, while, walking, in, /...\n",
       "1503834    [i've, only, had, the, sushi, ..., but, it, wa...\n",
       "Name: text, Length: 144207, dtype: object"
      ]
     },
     "execution_count": 27,
     "metadata": {},
     "output_type": "execute_result"
    }
   ],
   "source": [
    "sent_pre1"
   ]
  },
  {
   "cell_type": "code",
   "execution_count": 28,
   "metadata": {},
   "outputs": [],
   "source": [
    "sent_pre2 = sent_pre1.apply(lambda a:[word for word in a if ((re.search(r'[^\\w\\s]', word) is None)|(len(word)>1))])"
   ]
  },
  {
   "cell_type": "code",
   "execution_count": null,
   "metadata": {},
   "outputs": [],
   "source": [
    "st_W = set([lmtzr.lemmatize(word) for word in stopwords.words('english')])\n",
    "tokenised_sentences =  sent_pre2  "
   ]
  }
 ],
 "metadata": {
  "kernelspec": {
   "display_name": "Python 3",
   "language": "python",
   "name": "python3"
  },
  "language_info": {
   "codemirror_mode": {
    "name": "ipython",
    "version": 3
   },
   "file_extension": ".py",
   "mimetype": "text/x-python",
   "name": "python",
   "nbconvert_exporter": "python",
   "pygments_lexer": "ipython3",
   "version": "3.8.5"
  }
 },
 "nbformat": 4,
 "nbformat_minor": 4
}
