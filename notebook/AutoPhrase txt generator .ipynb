{
 "cells": [
  {
   "cell_type": "code",
   "execution_count": 1,
   "metadata": {},
   "outputs": [],
   "source": [
    "import numpy as np\n",
    "import pandas as pd\n",
    "import os\n",
    "import matplotlib.pyplot as plt\n",
    "import seaborn as sns "
   ]
  },
  {
   "cell_type": "code",
   "execution_count": 8,
   "metadata": {},
   "outputs": [],
   "source": [
    "os.chdir('../')"
   ]
  },
  {
   "cell_type": "code",
   "execution_count": 9,
   "metadata": {},
   "outputs": [
    {
     "data": {
      "text/plain": [
       "'/Users/alanliu99/Documents/GitHub/yelp-recommender-system'"
      ]
     },
     "execution_count": 9,
     "metadata": {},
     "output_type": "execute_result"
    }
   ],
   "source": [
    "os.getcwd()"
   ]
  },
  {
   "cell_type": "code",
   "execution_count": 11,
   "metadata": {},
   "outputs": [
    {
     "data": {
      "text/html": [
       "<div>\n",
       "<style scoped>\n",
       "    .dataframe tbody tr th:only-of-type {\n",
       "        vertical-align: middle;\n",
       "    }\n",
       "\n",
       "    .dataframe tbody tr th {\n",
       "        vertical-align: top;\n",
       "    }\n",
       "\n",
       "    .dataframe thead th {\n",
       "        text-align: right;\n",
       "    }\n",
       "</style>\n",
       "<table border=\"1\" class=\"dataframe\">\n",
       "  <thead>\n",
       "    <tr style=\"text-align: right;\">\n",
       "      <th></th>\n",
       "      <th>review_id</th>\n",
       "      <th>business_id</th>\n",
       "      <th>text</th>\n",
       "      <th>stars</th>\n",
       "      <th>user_id</th>\n",
       "    </tr>\n",
       "  </thead>\n",
       "  <tbody>\n",
       "    <tr>\n",
       "      <th>0</th>\n",
       "      <td>xQY8N_XvtGbearJ5X4QryQ</td>\n",
       "      <td>-MhfebM0QIsKt87iDN-FNw</td>\n",
       "      <td>As someone who has worked with many museums, I...</td>\n",
       "      <td>2.0</td>\n",
       "      <td>OwjRMXRC0KyPrIlcjaXeFQ</td>\n",
       "    </tr>\n",
       "    <tr>\n",
       "      <th>1</th>\n",
       "      <td>UmFMZ8PyXZTY2QcwzsfQYA</td>\n",
       "      <td>lbrU8StCq3yDfr-QMnGrmQ</td>\n",
       "      <td>I am actually horrified this place is still in...</td>\n",
       "      <td>1.0</td>\n",
       "      <td>nIJD_7ZXHq-FX8byPMOkMQ</td>\n",
       "    </tr>\n",
       "    <tr>\n",
       "      <th>2</th>\n",
       "      <td>LG2ZaYiOgpr2DK_90pYjNw</td>\n",
       "      <td>HQl28KMwrEKHqhFrrDqVNQ</td>\n",
       "      <td>I love Deagan's. I do. I really do. The atmosp...</td>\n",
       "      <td>5.0</td>\n",
       "      <td>V34qejxNsCbcgD8C0HVk-Q</td>\n",
       "    </tr>\n",
       "    <tr>\n",
       "      <th>3</th>\n",
       "      <td>i6g_oA9Yf9Y31qt0wibXpw</td>\n",
       "      <td>5JxlZaqCnk1MnbgRirs40Q</td>\n",
       "      <td>Dismal, lukewarm, defrosted-tasting \"TexMex\" g...</td>\n",
       "      <td>1.0</td>\n",
       "      <td>ofKDkJKXSKZXu5xJNGiiBQ</td>\n",
       "    </tr>\n",
       "    <tr>\n",
       "      <th>4</th>\n",
       "      <td>6TdNDKywdbjoTkizeMce8A</td>\n",
       "      <td>IS4cv902ykd8wj1TR0N3-A</td>\n",
       "      <td>Oh happy day, finally have a Canes near my cas...</td>\n",
       "      <td>4.0</td>\n",
       "      <td>UgMW8bLE0QMJDCkQ1Ax5Mg</td>\n",
       "    </tr>\n",
       "  </tbody>\n",
       "</table>\n",
       "</div>"
      ],
      "text/plain": [
       "                review_id             business_id  \\\n",
       "0  xQY8N_XvtGbearJ5X4QryQ  -MhfebM0QIsKt87iDN-FNw   \n",
       "1  UmFMZ8PyXZTY2QcwzsfQYA  lbrU8StCq3yDfr-QMnGrmQ   \n",
       "2  LG2ZaYiOgpr2DK_90pYjNw  HQl28KMwrEKHqhFrrDqVNQ   \n",
       "3  i6g_oA9Yf9Y31qt0wibXpw  5JxlZaqCnk1MnbgRirs40Q   \n",
       "4  6TdNDKywdbjoTkizeMce8A  IS4cv902ykd8wj1TR0N3-A   \n",
       "\n",
       "                                                text  stars  \\\n",
       "0  As someone who has worked with many museums, I...    2.0   \n",
       "1  I am actually horrified this place is still in...    1.0   \n",
       "2  I love Deagan's. I do. I really do. The atmosp...    5.0   \n",
       "3  Dismal, lukewarm, defrosted-tasting \"TexMex\" g...    1.0   \n",
       "4  Oh happy day, finally have a Canes near my cas...    4.0   \n",
       "\n",
       "                  user_id  \n",
       "0  OwjRMXRC0KyPrIlcjaXeFQ  \n",
       "1  nIJD_7ZXHq-FX8byPMOkMQ  \n",
       "2  V34qejxNsCbcgD8C0HVk-Q  \n",
       "3  ofKDkJKXSKZXu5xJNGiiBQ  \n",
       "4  UgMW8bLE0QMJDCkQ1Ax5Mg  "
      ]
     },
     "execution_count": 11,
     "metadata": {},
     "output_type": "execute_result"
    }
   ],
   "source": [
    "review.head()"
   ]
  },
  {
   "cell_type": "code",
   "execution_count": 10,
   "metadata": {},
   "outputs": [],
   "source": [
    "review = pd.read_csv('data/reviews_1.csv')"
   ]
  },
  {
   "cell_type": "code",
   "execution_count": 15,
   "metadata": {},
   "outputs": [
    {
     "data": {
      "text/html": [
       "<div>\n",
       "<style scoped>\n",
       "    .dataframe tbody tr th:only-of-type {\n",
       "        vertical-align: middle;\n",
       "    }\n",
       "\n",
       "    .dataframe tbody tr th {\n",
       "        vertical-align: top;\n",
       "    }\n",
       "\n",
       "    .dataframe thead th {\n",
       "        text-align: right;\n",
       "    }\n",
       "</style>\n",
       "<table border=\"1\" class=\"dataframe\">\n",
       "  <thead>\n",
       "    <tr style=\"text-align: right;\">\n",
       "      <th></th>\n",
       "      <th>review_id</th>\n",
       "      <th>business_id</th>\n",
       "      <th>text</th>\n",
       "      <th>stars</th>\n",
       "      <th>user_id</th>\n",
       "    </tr>\n",
       "  </thead>\n",
       "  <tbody>\n",
       "    <tr>\n",
       "      <th>0</th>\n",
       "      <td>xQY8N_XvtGbearJ5X4QryQ</td>\n",
       "      <td>-MhfebM0QIsKt87iDN-FNw</td>\n",
       "      <td>As someone who has worked with many museums, I...</td>\n",
       "      <td>2.0</td>\n",
       "      <td>OwjRMXRC0KyPrIlcjaXeFQ</td>\n",
       "    </tr>\n",
       "    <tr>\n",
       "      <th>1</th>\n",
       "      <td>UmFMZ8PyXZTY2QcwzsfQYA</td>\n",
       "      <td>lbrU8StCq3yDfr-QMnGrmQ</td>\n",
       "      <td>I am actually horrified this place is still in...</td>\n",
       "      <td>1.0</td>\n",
       "      <td>nIJD_7ZXHq-FX8byPMOkMQ</td>\n",
       "    </tr>\n",
       "    <tr>\n",
       "      <th>2</th>\n",
       "      <td>LG2ZaYiOgpr2DK_90pYjNw</td>\n",
       "      <td>HQl28KMwrEKHqhFrrDqVNQ</td>\n",
       "      <td>I love Deagan's. I do. I really do. The atmosp...</td>\n",
       "      <td>5.0</td>\n",
       "      <td>V34qejxNsCbcgD8C0HVk-Q</td>\n",
       "    </tr>\n",
       "    <tr>\n",
       "      <th>3</th>\n",
       "      <td>i6g_oA9Yf9Y31qt0wibXpw</td>\n",
       "      <td>5JxlZaqCnk1MnbgRirs40Q</td>\n",
       "      <td>Dismal, lukewarm, defrosted-tasting \"TexMex\" g...</td>\n",
       "      <td>1.0</td>\n",
       "      <td>ofKDkJKXSKZXu5xJNGiiBQ</td>\n",
       "    </tr>\n",
       "    <tr>\n",
       "      <th>4</th>\n",
       "      <td>6TdNDKywdbjoTkizeMce8A</td>\n",
       "      <td>IS4cv902ykd8wj1TR0N3-A</td>\n",
       "      <td>Oh happy day, finally have a Canes near my cas...</td>\n",
       "      <td>4.0</td>\n",
       "      <td>UgMW8bLE0QMJDCkQ1Ax5Mg</td>\n",
       "    </tr>\n",
       "    <tr>\n",
       "      <th>...</th>\n",
       "      <td>...</td>\n",
       "      <td>...</td>\n",
       "      <td>...</td>\n",
       "      <td>...</td>\n",
       "      <td>...</td>\n",
       "    </tr>\n",
       "    <tr>\n",
       "      <th>4995</th>\n",
       "      <td>C3ca5SRS2CdTJRkNwGCkSQ</td>\n",
       "      <td>Ws8V970-mQt2X9CwCuT5zw</td>\n",
       "      <td>Introduced another newbie to the Tea Loft. Sti...</td>\n",
       "      <td>5.0</td>\n",
       "      <td>wxeTtPILiMl1L-yBB-D2HA</td>\n",
       "    </tr>\n",
       "    <tr>\n",
       "      <th>4996</th>\n",
       "      <td>WLiseHe8i1D2boxJ7z8onw</td>\n",
       "      <td>ZlJNQ3SmgvJU0FiwJY92YQ</td>\n",
       "      <td>Wanted to try out a new nail place, and wish I...</td>\n",
       "      <td>2.0</td>\n",
       "      <td>-fu8pFYiPI0o5yZtcBUu1A</td>\n",
       "    </tr>\n",
       "    <tr>\n",
       "      <th>4997</th>\n",
       "      <td>R0S39Ntc8fq5fccT1gc4Dw</td>\n",
       "      <td>sfd19Wo_7g2TwaoJmA9B8A</td>\n",
       "      <td>How unfortunate. \\n\\nI recently moved into the...</td>\n",
       "      <td>1.0</td>\n",
       "      <td>M6v37Q3fCL0rxUXT-pNvFQ</td>\n",
       "    </tr>\n",
       "    <tr>\n",
       "      <th>4998</th>\n",
       "      <td>mXFo3CznXTR55OITvmyVXg</td>\n",
       "      <td>SZEFE5hL7aN5nM-A44iPwQ</td>\n",
       "      <td>Gorgeous and romantic interiors.  Spectacular ...</td>\n",
       "      <td>5.0</td>\n",
       "      <td>CWetXz9zo91-Jh1QzE3BZg</td>\n",
       "    </tr>\n",
       "    <tr>\n",
       "      <th>4999</th>\n",
       "      <td>CGp680tH6atO_ylAeOQuKw</td>\n",
       "      <td>uhTA_bf42wO5-mkSPNEl3g</td>\n",
       "      <td>Dr. BeeCroft is great, but unfortunately you w...</td>\n",
       "      <td>2.0</td>\n",
       "      <td>vtuX5FGlD2Mcu0OUHgCQPg</td>\n",
       "    </tr>\n",
       "  </tbody>\n",
       "</table>\n",
       "<p>5000 rows × 5 columns</p>\n",
       "</div>"
      ],
      "text/plain": [
       "                   review_id             business_id  \\\n",
       "0     xQY8N_XvtGbearJ5X4QryQ  -MhfebM0QIsKt87iDN-FNw   \n",
       "1     UmFMZ8PyXZTY2QcwzsfQYA  lbrU8StCq3yDfr-QMnGrmQ   \n",
       "2     LG2ZaYiOgpr2DK_90pYjNw  HQl28KMwrEKHqhFrrDqVNQ   \n",
       "3     i6g_oA9Yf9Y31qt0wibXpw  5JxlZaqCnk1MnbgRirs40Q   \n",
       "4     6TdNDKywdbjoTkizeMce8A  IS4cv902ykd8wj1TR0N3-A   \n",
       "...                      ...                     ...   \n",
       "4995  C3ca5SRS2CdTJRkNwGCkSQ  Ws8V970-mQt2X9CwCuT5zw   \n",
       "4996  WLiseHe8i1D2boxJ7z8onw  ZlJNQ3SmgvJU0FiwJY92YQ   \n",
       "4997  R0S39Ntc8fq5fccT1gc4Dw  sfd19Wo_7g2TwaoJmA9B8A   \n",
       "4998  mXFo3CznXTR55OITvmyVXg  SZEFE5hL7aN5nM-A44iPwQ   \n",
       "4999  CGp680tH6atO_ylAeOQuKw  uhTA_bf42wO5-mkSPNEl3g   \n",
       "\n",
       "                                                   text  stars  \\\n",
       "0     As someone who has worked with many museums, I...    2.0   \n",
       "1     I am actually horrified this place is still in...    1.0   \n",
       "2     I love Deagan's. I do. I really do. The atmosp...    5.0   \n",
       "3     Dismal, lukewarm, defrosted-tasting \"TexMex\" g...    1.0   \n",
       "4     Oh happy day, finally have a Canes near my cas...    4.0   \n",
       "...                                                 ...    ...   \n",
       "4995  Introduced another newbie to the Tea Loft. Sti...    5.0   \n",
       "4996  Wanted to try out a new nail place, and wish I...    2.0   \n",
       "4997  How unfortunate. \\n\\nI recently moved into the...    1.0   \n",
       "4998  Gorgeous and romantic interiors.  Spectacular ...    5.0   \n",
       "4999  Dr. BeeCroft is great, but unfortunately you w...    2.0   \n",
       "\n",
       "                     user_id  \n",
       "0     OwjRMXRC0KyPrIlcjaXeFQ  \n",
       "1     nIJD_7ZXHq-FX8byPMOkMQ  \n",
       "2     V34qejxNsCbcgD8C0HVk-Q  \n",
       "3     ofKDkJKXSKZXu5xJNGiiBQ  \n",
       "4     UgMW8bLE0QMJDCkQ1Ax5Mg  \n",
       "...                      ...  \n",
       "4995  wxeTtPILiMl1L-yBB-D2HA  \n",
       "4996  -fu8pFYiPI0o5yZtcBUu1A  \n",
       "4997  M6v37Q3fCL0rxUXT-pNvFQ  \n",
       "4998  CWetXz9zo91-Jh1QzE3BZg  \n",
       "4999  vtuX5FGlD2Mcu0OUHgCQPg  \n",
       "\n",
       "[5000 rows x 5 columns]"
      ]
     },
     "execution_count": 15,
     "metadata": {},
     "output_type": "execute_result"
    }
   ],
   "source": [
    "test = review.head(5000)\n",
    "test"
   ]
  },
  {
   "cell_type": "code",
   "execution_count": 16,
   "metadata": {},
   "outputs": [],
   "source": [
    "test.to_csv('test_review',index = False)"
   ]
  },
  {
   "cell_type": "code",
   "execution_count": 17,
   "metadata": {},
   "outputs": [
    {
     "data": {
      "text/plain": [
       "['CxDOIDnH8gp9KXzpBHJYXw', '1O638BDK_fWuxgTVJwff-A', 'BxV2pTVmYCW15gSZAPMFKQ']"
      ]
     },
     "execution_count": 17,
     "metadata": {},
     "output_type": "execute_result"
    }
   ],
   "source": [
    "user_df = test.user_id.value_counts().sort_values(ascending=False)\n",
    "[user_df.index[0], user_df.index[1], user_df.index[len(user_df) // 2]]"
   ]
  },
  {
   "cell_type": "code",
   "execution_count": 26,
   "metadata": {},
   "outputs": [
    {
     "data": {
      "text/plain": [
       "'CxDOIDnH8gp9KXzpBHJYXw'"
      ]
     },
     "execution_count": 26,
     "metadata": {},
     "output_type": "execute_result"
    }
   ],
   "source": [
    "user_df.index[0]"
   ]
  },
  {
   "cell_type": "code",
   "execution_count": 27,
   "metadata": {},
   "outputs": [
    {
     "data": {
      "text/html": [
       "<div>\n",
       "<style scoped>\n",
       "    .dataframe tbody tr th:only-of-type {\n",
       "        vertical-align: middle;\n",
       "    }\n",
       "\n",
       "    .dataframe tbody tr th {\n",
       "        vertical-align: top;\n",
       "    }\n",
       "\n",
       "    .dataframe thead th {\n",
       "        text-align: right;\n",
       "    }\n",
       "</style>\n",
       "<table border=\"1\" class=\"dataframe\">\n",
       "  <thead>\n",
       "    <tr style=\"text-align: right;\">\n",
       "      <th></th>\n",
       "      <th>review_id</th>\n",
       "      <th>business_id</th>\n",
       "      <th>text</th>\n",
       "      <th>stars</th>\n",
       "      <th>user_id</th>\n",
       "    </tr>\n",
       "  </thead>\n",
       "  <tbody>\n",
       "    <tr>\n",
       "      <th>1222</th>\n",
       "      <td>IQ7s_l5jjclIqkREXvBL4g</td>\n",
       "      <td>w9pwbsusI9DI637UYqMctQ</td>\n",
       "      <td>Blood Brothers Brewing is worth the trek to at...</td>\n",
       "      <td>5.0</td>\n",
       "      <td>CxDOIDnH8gp9KXzpBHJYXw</td>\n",
       "    </tr>\n",
       "    <tr>\n",
       "      <th>2060</th>\n",
       "      <td>1WduO2WTk1Ya5n-4mZJRaw</td>\n",
       "      <td>ZI8Aa41WiFj1XYJRUC54ug</td>\n",
       "      <td>Thang Long is another Vietnamese Restaurant wi...</td>\n",
       "      <td>3.0</td>\n",
       "      <td>CxDOIDnH8gp9KXzpBHJYXw</td>\n",
       "    </tr>\n",
       "    <tr>\n",
       "      <th>2886</th>\n",
       "      <td>YU6Npv4PH5cbNPos0Eg8Mw</td>\n",
       "      <td>FaCxpKgHPgUO9vqyOny5CA</td>\n",
       "      <td>Montreal's bagels. everyone telling me about h...</td>\n",
       "      <td>4.0</td>\n",
       "      <td>CxDOIDnH8gp9KXzpBHJYXw</td>\n",
       "    </tr>\n",
       "    <tr>\n",
       "      <th>3835</th>\n",
       "      <td>qS7D3jwLxkQ8Z6Yo36enog</td>\n",
       "      <td>i6TgZAX3733aPIMnzje5-g</td>\n",
       "      <td>2.5 star\\n\\nMy experience with Arepa is limite...</td>\n",
       "      <td>2.0</td>\n",
       "      <td>CxDOIDnH8gp9KXzpBHJYXw</td>\n",
       "    </tr>\n",
       "    <tr>\n",
       "      <th>3987</th>\n",
       "      <td>OzTT0fo8xpYXtVp3Ud7Tkw</td>\n",
       "      <td>nGAw4TZ8pBT7ZQxi-Mxf8Q</td>\n",
       "      <td>I am reviewing Asian King based on their Lunch...</td>\n",
       "      <td>2.0</td>\n",
       "      <td>CxDOIDnH8gp9KXzpBHJYXw</td>\n",
       "    </tr>\n",
       "    <tr>\n",
       "      <th>4455</th>\n",
       "      <td>LPoBaMLQZOId0LQbfQQ9Ng</td>\n",
       "      <td>5KL1oii9wm4PGDo5TEMHuA</td>\n",
       "      <td>This is one of the nicest library in the area ...</td>\n",
       "      <td>4.0</td>\n",
       "      <td>CxDOIDnH8gp9KXzpBHJYXw</td>\n",
       "    </tr>\n",
       "  </tbody>\n",
       "</table>\n",
       "</div>"
      ],
      "text/plain": [
       "                   review_id             business_id  \\\n",
       "1222  IQ7s_l5jjclIqkREXvBL4g  w9pwbsusI9DI637UYqMctQ   \n",
       "2060  1WduO2WTk1Ya5n-4mZJRaw  ZI8Aa41WiFj1XYJRUC54ug   \n",
       "2886  YU6Npv4PH5cbNPos0Eg8Mw  FaCxpKgHPgUO9vqyOny5CA   \n",
       "3835  qS7D3jwLxkQ8Z6Yo36enog  i6TgZAX3733aPIMnzje5-g   \n",
       "3987  OzTT0fo8xpYXtVp3Ud7Tkw  nGAw4TZ8pBT7ZQxi-Mxf8Q   \n",
       "4455  LPoBaMLQZOId0LQbfQQ9Ng  5KL1oii9wm4PGDo5TEMHuA   \n",
       "\n",
       "                                                   text  stars  \\\n",
       "1222  Blood Brothers Brewing is worth the trek to at...    5.0   \n",
       "2060  Thang Long is another Vietnamese Restaurant wi...    3.0   \n",
       "2886  Montreal's bagels. everyone telling me about h...    4.0   \n",
       "3835  2.5 star\\n\\nMy experience with Arepa is limite...    2.0   \n",
       "3987  I am reviewing Asian King based on their Lunch...    2.0   \n",
       "4455  This is one of the nicest library in the area ...    4.0   \n",
       "\n",
       "                     user_id  \n",
       "1222  CxDOIDnH8gp9KXzpBHJYXw  \n",
       "2060  CxDOIDnH8gp9KXzpBHJYXw  \n",
       "2886  CxDOIDnH8gp9KXzpBHJYXw  \n",
       "3835  CxDOIDnH8gp9KXzpBHJYXw  \n",
       "3987  CxDOIDnH8gp9KXzpBHJYXw  \n",
       "4455  CxDOIDnH8gp9KXzpBHJYXw  "
      ]
     },
     "execution_count": 27,
     "metadata": {},
     "output_type": "execute_result"
    }
   ],
   "source": [
    "test.loc[test['user_id'] == user_df.index[0]]"
   ]
  },
  {
   "cell_type": "code",
   "execution_count": null,
   "metadata": {},
   "outputs": [],
   "source": [
    "Phoenix = pd.read_csv('data/Phoenix_reviews.csv')"
   ]
  },
  {
   "cell_type": "code",
   "execution_count": null,
   "metadata": {},
   "outputs": [],
   "source": [
    "def generate_rest_txt(business_id):\n",
    "    rest = Phoenix.loc[Phoenix['business_id'] == business_id]\n",
    "    df = rest[['text']].copy()\n",
    "    file_path = 'src/restaurant_reviews/' + rest.name.values[0]+'.txt'\n",
    "    df.to_csv(file_path, header=None, index=None, sep=',', mode='a')\n",
    "    return"
   ]
  },
  {
   "cell_type": "code",
   "execution_count": null,
   "metadata": {},
   "outputs": [],
   "source": [
    "Phoenix.head(5)"
   ]
  },
  {
   "cell_type": "code",
   "execution_count": null,
   "metadata": {},
   "outputs": [],
   "source": [
    "for i in Phoenix.business_id.value_counts().index[:5].values:\n",
    "    generate_rest_txt(i)"
   ]
  },
  {
   "cell_type": "code",
   "execution_count": null,
   "metadata": {},
   "outputs": [],
   "source": [
    "pd.read_csv('src/restaurant_reviews//Snooze, An A.M. Eatery.txt', sep=\",\", header=None)"
   ]
  },
  {
   "cell_type": "code",
   "execution_count": null,
   "metadata": {},
   "outputs": [],
   "source": [
    "Phoenix.business_id.value_counts()"
   ]
  },
  {
   "cell_type": "code",
   "execution_count": null,
   "metadata": {},
   "outputs": [],
   "source": [
    "r = review.user_id.value_counts().to_frame()\n",
    "r.head(5)"
   ]
  },
  {
   "cell_type": "code",
   "execution_count": null,
   "metadata": {},
   "outputs": [],
   "source": [
    "r[r.user_id<100]"
   ]
  },
  {
   "cell_type": "code",
   "execution_count": null,
   "metadata": {},
   "outputs": [],
   "source": [
    "def generate_user_txt(user_id):\n",
    "    user = review.loc[review['user_id'] == user_id]\n",
    "    df = user[['text']].copy()\n",
    "    file_path = 'src/user_reviews/3.txt'\n",
    "    df.to_csv(file_path, header=None, index=None, sep=',', mode='a')\n",
    "    return"
   ]
  },
  {
   "cell_type": "code",
   "execution_count": null,
   "metadata": {},
   "outputs": [],
   "source": [
    "generate_user_txt('CxDOIDnH8gp9KXzpBHJYXw')"
   ]
  },
  {
   "cell_type": "code",
   "execution_count": null,
   "metadata": {},
   "outputs": [],
   "source": [
    "generate_user_txt('nPQb2Modp08EAxZDUaPKdw')"
   ]
  },
  {
   "cell_type": "code",
   "execution_count": 46,
   "metadata": {},
   "outputs": [
    {
     "name": "stderr",
     "output_type": "stream",
     "text": [
      "/opt/anaconda3/lib/python3.8/site-packages/seaborn/_decorators.py:36: FutureWarning: Pass the following variables as keyword args: x, y. From version 0.12, the only valid positional argument will be `data`, and passing other arguments without an explicit keyword will result in an error or misinterpretation.\n",
      "  warnings.warn(\n"
     ]
    },
    {
     "data": {
      "image/png": "[encoded data removed]",
      "text/plain": [
       "<Figure size 1152x288 with 1 Axes>"
      ]
     },
     "metadata": {
      "needs_background": "light"
     },
     "output_type": "display_data"
    }
   ],
   "source": [
    "x = review.user_id.value_counts()\n",
    "x = x.sort_values(ascending=False)\n",
    "x = x.iloc[0:20]\n",
    "\n",
    "plt.figure(figsize=(16,4))\n",
    "ax = sns.barplot(x.index, x.values, alpha=0.8)\n",
    "plt.title(\"user reviews number\")\n",
    "locs, labels = plt.xticks()\n",
    "plt.setp(labels, rotation=45)\n",
    "plt.ylabel('number of reviews', fontsize=12)\n",
    "plt.xlabel('User', fontsize=12)\n",
    "\n",
    "#adding the text labels\n",
    "rects = ax.patches\n",
    "labels = x.values\n",
    "for rect, label in zip(rects, labels):\n",
    "    height = rect.get_height()\n",
    "    ax.text(rect.get_x() + rect.get_width()/2, height + 5, label, ha='center', va='bottom')\n",
    "\n",
    "plt.savefig(\"most_20_user.png\")"
   ]
  },
  {
   "cell_type": "code",
   "execution_count": 42,
   "metadata": {},
   "outputs": [],
   "source": [
    "y = review.user_id.value_counts().sort_values(ascending=False)"
   ]
  },
  {
   "cell_type": "code",
   "execution_count": 45,
   "metadata": {},
   "outputs": [
    {
     "data": {
      "text/html": [
       "<div>\n",
       "<style scoped>\n",
       "    .dataframe tbody tr th:only-of-type {\n",
       "        vertical-align: middle;\n",
       "    }\n",
       "\n",
       "    .dataframe tbody tr th {\n",
       "        vertical-align: top;\n",
       "    }\n",
       "\n",
       "    .dataframe thead th {\n",
       "        text-align: right;\n",
       "    }\n",
       "</style>\n",
       "<table border=\"1\" class=\"dataframe\">\n",
       "  <thead>\n",
       "    <tr style=\"text-align: right;\">\n",
       "      <th></th>\n",
       "      <th>user_id</th>\n",
       "      <th>count</th>\n",
       "    </tr>\n",
       "  </thead>\n",
       "  <tbody>\n",
       "    <tr>\n",
       "      <th>0</th>\n",
       "      <td>CxDOIDnH8gp9KXzpBHJYXw</td>\n",
       "      <td>4331</td>\n",
       "    </tr>\n",
       "    <tr>\n",
       "      <th>1</th>\n",
       "      <td>bLbSNkLggFnqwNNzzq-Ijw</td>\n",
       "      <td>2555</td>\n",
       "    </tr>\n",
       "    <tr>\n",
       "      <th>2</th>\n",
       "      <td>ELcQDlf69kb-ihJfxZyL0A</td>\n",
       "      <td>2039</td>\n",
       "    </tr>\n",
       "    <tr>\n",
       "      <th>3</th>\n",
       "      <td>PKEzKWv_FktMm2mGPjwd0Q</td>\n",
       "      <td>1972</td>\n",
       "    </tr>\n",
       "    <tr>\n",
       "      <th>4</th>\n",
       "      <td>DK57YibC5ShBmqQl97CKog</td>\n",
       "      <td>1817</td>\n",
       "    </tr>\n",
       "    <tr>\n",
       "      <th>...</th>\n",
       "      <td>...</td>\n",
       "      <td>...</td>\n",
       "    </tr>\n",
       "    <tr>\n",
       "      <th>1968698</th>\n",
       "      <td>Jq1rL37-2MeM08z_NQXKQg</td>\n",
       "      <td>1</td>\n",
       "    </tr>\n",
       "    <tr>\n",
       "      <th>1968699</th>\n",
       "      <td>28obOLTFtD8saZI8djSELg</td>\n",
       "      <td>1</td>\n",
       "    </tr>\n",
       "    <tr>\n",
       "      <th>1968700</th>\n",
       "      <td>RlNSNDe6z9T96w-oqvX4oA</td>\n",
       "      <td>1</td>\n",
       "    </tr>\n",
       "    <tr>\n",
       "      <th>1968701</th>\n",
       "      <td>xQoYkqKgsP9SDeBa9dEsBw</td>\n",
       "      <td>1</td>\n",
       "    </tr>\n",
       "    <tr>\n",
       "      <th>1968702</th>\n",
       "      <td>I4IDYzSJe2JEoVZ1uI0sPw</td>\n",
       "      <td>1</td>\n",
       "    </tr>\n",
       "  </tbody>\n",
       "</table>\n",
       "<p>1968703 rows × 2 columns</p>\n",
       "</div>"
      ],
      "text/plain": [
       "                        user_id  count\n",
       "0        CxDOIDnH8gp9KXzpBHJYXw   4331\n",
       "1        bLbSNkLggFnqwNNzzq-Ijw   2555\n",
       "2        ELcQDlf69kb-ihJfxZyL0A   2039\n",
       "3        PKEzKWv_FktMm2mGPjwd0Q   1972\n",
       "4        DK57YibC5ShBmqQl97CKog   1817\n",
       "...                         ...    ...\n",
       "1968698  Jq1rL37-2MeM08z_NQXKQg      1\n",
       "1968699  28obOLTFtD8saZI8djSELg      1\n",
       "1968700  RlNSNDe6z9T96w-oqvX4oA      1\n",
       "1968701  xQoYkqKgsP9SDeBa9dEsBw      1\n",
       "1968702  I4IDYzSJe2JEoVZ1uI0sPw      1\n",
       "\n",
       "[1968703 rows x 2 columns]"
      ]
     },
     "execution_count": 45,
     "metadata": {},
     "output_type": "execute_result"
    }
   ],
   "source": [
    "pd.DataFrame({'user_id':y.index, 'count':y.values})"
   ]
  },
  {
   "cell_type": "code",
   "execution_count": 15,
   "metadata": {},
   "outputs": [
    {
     "data": {
      "image/png": "[encoded data removed]",
      "text/plain": [
       "<Figure size 432x288 with 1 Axes>"
      ]
     },
     "metadata": {
      "needs_background": "light"
     },
     "output_type": "display_data"
    }
   ],
   "source": [
    "plt.hist(y, bins = [0,100,500,1000,5000]) \n",
    "plt.title(\"histogram\") \n",
    "plt.show()"
   ]
  },
  {
   "cell_type": "code",
   "execution_count": 19,
   "metadata": {},
   "outputs": [
    {
     "data": {
      "text/plain": [
       "CxDOIDnH8gp9KXzpBHJYXw    4331\n",
       "bLbSNkLggFnqwNNzzq-Ijw    2555\n",
       "ELcQDlf69kb-ihJfxZyL0A    2039\n",
       "PKEzKWv_FktMm2mGPjwd0Q    1972\n",
       "DK57YibC5ShBmqQl97CKog    1817\n",
       "                          ... \n",
       "Jq1rL37-2MeM08z_NQXKQg       1\n",
       "28obOLTFtD8saZI8djSELg       1\n",
       "RlNSNDe6z9T96w-oqvX4oA       1\n",
       "xQoYkqKgsP9SDeBa9dEsBw       1\n",
       "I4IDYzSJe2JEoVZ1uI0sPw       1\n",
       "Name: user_id, Length: 1968703, dtype: int64"
      ]
     },
     "execution_count": 19,
     "metadata": {},
     "output_type": "execute_result"
    }
   ],
   "source": [
    "review.user_id.value_counts().sort_values(ascending=False)"
   ]
  },
  {
   "cell_type": "code",
   "execution_count": 28,
   "metadata": {},
   "outputs": [],
   "source": [
    "a = review.user_id.value_counts().sort_values(ascending=False)"
   ]
  },
  {
   "cell_type": "code",
   "execution_count": 41,
   "metadata": {},
   "outputs": [
    {
     "data": {
      "text/plain": [
       "'3mwqzfJCBbYSi_0Tpc_Abg'"
      ]
     },
     "execution_count": 41,
     "metadata": {},
     "output_type": "execute_result"
    }
   ],
   "source": [
    "a[(a.values <= 100)].index[0]"
   ]
  },
  {
   "cell_type": "code",
   "execution_count": 26,
   "metadata": {},
   "outputs": [
    {
     "data": {
      "text/plain": [
       "CxDOIDnH8gp9KXzpBHJYXw    4331\n",
       "bLbSNkLggFnqwNNzzq-Ijw    2555\n",
       "ELcQDlf69kb-ihJfxZyL0A    2039\n",
       "PKEzKWv_FktMm2mGPjwd0Q    1972\n",
       "DK57YibC5ShBmqQl97CKog    1817\n",
       "                          ... \n",
       "Jq1rL37-2MeM08z_NQXKQg       1\n",
       "28obOLTFtD8saZI8djSELg       1\n",
       "RlNSNDe6z9T96w-oqvX4oA       1\n",
       "xQoYkqKgsP9SDeBa9dEsBw       1\n",
       "I4IDYzSJe2JEoVZ1uI0sPw       1\n",
       "Name: user_id, Length: 1968703, dtype: int64"
      ]
     },
     "execution_count": 26,
     "metadata": {},
     "output_type": "execute_result"
    }
   ],
   "source": [
    "review.user_id.value_counts().sort_values(ascending=False)"
   ]
  },
  {
   "cell_type": "code",
   "execution_count": null,
   "metadata": {},
   "outputs": [],
   "source": []
  }
 ],
 "metadata": {
  "kernelspec": {
   "display_name": "Python 3",
   "language": "python",
   "name": "python3"
  },
  "language_info": {
   "codemirror_mode": {
    "name": "ipython",
    "version": 3
   },
   "file_extension": ".py",
   "mimetype": "text/x-python",
   "name": "python",
   "nbconvert_exporter": "python",
   "pygments_lexer": "ipython3",
   "version": "3.8.5"
  }
 },
 "nbformat": 4,
 "nbformat_minor": 4
}
