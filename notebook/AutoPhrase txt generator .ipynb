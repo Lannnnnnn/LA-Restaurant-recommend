{
 "cells": [
  {
   "cell_type": "code",
   "execution_count": 1,
   "metadata": {},
   "outputs": [],
   "source": [
    "import numpy as np\n",
    "import pandas as pd"
   ]
  },
  {
   "cell_type": "code",
   "execution_count": 3,
   "metadata": {},
   "outputs": [
    {
     "name": "stderr",
     "output_type": "stream",
     "text": [
      "/opt/anaconda3/lib/python3.8/site-packages/IPython/core/interactiveshell.py:3146: DtypeWarning: Columns (0) have mixed types.Specify dtype option on import or set low_memory=False.\n",
      "  has_raised = await self.run_ast_nodes(code_ast.body, cell_name,\n"
     ]
    }
   ],
   "source": [
    "review = pd.read_csv('data/reviews.csv')"
   ]
  },
  {
   "cell_type": "code",
   "execution_count": 2,
   "metadata": {},
   "outputs": [],
   "source": [
    "Phoenix = pd.read_csv('data/Phoenix_reviews.csv')"
   ]
  },
  {
   "cell_type": "code",
   "execution_count": 5,
   "metadata": {},
   "outputs": [],
   "source": [
    "def generate_rest_txt(business_id):\n",
    "    rest = Phoenix.loc[Phoenix['business_id'] == business_id]\n",
    "    df = rest[['text']].copy()\n",
    "    file_path = 'src/restaurant_reviews/' + rest.name.values[0]+'.txt'\n",
    "    df.to_csv(file_path, header=None, index=None, sep=',', mode='a')\n",
    "    return"
   ]
  },
  {
   "cell_type": "code",
   "execution_count": 6,
   "metadata": {},
   "outputs": [
    {
     "data": {
      "text/html": [
       "<div>\n",
       "<style scoped>\n",
       "    .dataframe tbody tr th:only-of-type {\n",
       "        vertical-align: middle;\n",
       "    }\n",
       "\n",
       "    .dataframe tbody tr th {\n",
       "        vertical-align: top;\n",
       "    }\n",
       "\n",
       "    .dataframe thead th {\n",
       "        text-align: right;\n",
       "    }\n",
       "</style>\n",
       "<table border=\"1\" class=\"dataframe\">\n",
       "  <thead>\n",
       "    <tr style=\"text-align: right;\">\n",
       "      <th></th>\n",
       "      <th>Unnamed: 0</th>\n",
       "      <th>name</th>\n",
       "      <th>business_id</th>\n",
       "      <th>city</th>\n",
       "      <th>categories</th>\n",
       "      <th>review_id</th>\n",
       "      <th>text</th>\n",
       "      <th>stars</th>\n",
       "    </tr>\n",
       "  </thead>\n",
       "  <tbody>\n",
       "    <tr>\n",
       "      <th>0</th>\n",
       "      <td>0</td>\n",
       "      <td>Wetzel's Pretzels</td>\n",
       "      <td>vjTVxnsQEZ34XjYNS-XUpA</td>\n",
       "      <td>Phoenix</td>\n",
       "      <td>Food, Pretzels, Bakeries, Fast Food, Restaurants</td>\n",
       "      <td>LyxX4jQXCj6p7ood9Y_ung</td>\n",
       "      <td>Love Wetzel's pretzels! I always get them when...</td>\n",
       "      <td>5.0</td>\n",
       "    </tr>\n",
       "    <tr>\n",
       "      <th>1</th>\n",
       "      <td>1</td>\n",
       "      <td>Wetzel's Pretzels</td>\n",
       "      <td>vjTVxnsQEZ34XjYNS-XUpA</td>\n",
       "      <td>Phoenix</td>\n",
       "      <td>Food, Pretzels, Bakeries, Fast Food, Restaurants</td>\n",
       "      <td>WqQkmdfkcvQZNGpI6Xzfow</td>\n",
       "      <td>Wetzels's Pretzels is definitely amazing and v...</td>\n",
       "      <td>5.0</td>\n",
       "    </tr>\n",
       "    <tr>\n",
       "      <th>2</th>\n",
       "      <td>2</td>\n",
       "      <td>Wetzel's Pretzels</td>\n",
       "      <td>vjTVxnsQEZ34XjYNS-XUpA</td>\n",
       "      <td>Phoenix</td>\n",
       "      <td>Food, Pretzels, Bakeries, Fast Food, Restaurants</td>\n",
       "      <td>lJsEaUqx_iS-IsPD3SHWlg</td>\n",
       "      <td>I love Wetzel's Pretzels. And I can't imagine ...</td>\n",
       "      <td>5.0</td>\n",
       "    </tr>\n",
       "    <tr>\n",
       "      <th>3</th>\n",
       "      <td>3</td>\n",
       "      <td>Wetzel's Pretzels</td>\n",
       "      <td>vjTVxnsQEZ34XjYNS-XUpA</td>\n",
       "      <td>Phoenix</td>\n",
       "      <td>Food, Pretzels, Bakeries, Fast Food, Restaurants</td>\n",
       "      <td>PfyDflR_hCtMsqR19KkNsg</td>\n",
       "      <td>Never heard of the cheese meltdown pretzel, bu...</td>\n",
       "      <td>4.0</td>\n",
       "    </tr>\n",
       "    <tr>\n",
       "      <th>4</th>\n",
       "      <td>4</td>\n",
       "      <td>Wetzel's Pretzels</td>\n",
       "      <td>vjTVxnsQEZ34XjYNS-XUpA</td>\n",
       "      <td>Phoenix</td>\n",
       "      <td>Food, Pretzels, Bakeries, Fast Food, Restaurants</td>\n",
       "      <td>RcsBd87ZxdI6h9A-E80X1A</td>\n",
       "      <td>PV Mall's food court needs updating, but that ...</td>\n",
       "      <td>4.0</td>\n",
       "    </tr>\n",
       "  </tbody>\n",
       "</table>\n",
       "</div>"
      ],
      "text/plain": [
       "   Unnamed: 0               name             business_id     city  \\\n",
       "0           0  Wetzel's Pretzels  vjTVxnsQEZ34XjYNS-XUpA  Phoenix   \n",
       "1           1  Wetzel's Pretzels  vjTVxnsQEZ34XjYNS-XUpA  Phoenix   \n",
       "2           2  Wetzel's Pretzels  vjTVxnsQEZ34XjYNS-XUpA  Phoenix   \n",
       "3           3  Wetzel's Pretzels  vjTVxnsQEZ34XjYNS-XUpA  Phoenix   \n",
       "4           4  Wetzel's Pretzels  vjTVxnsQEZ34XjYNS-XUpA  Phoenix   \n",
       "\n",
       "                                         categories               review_id  \\\n",
       "0  Food, Pretzels, Bakeries, Fast Food, Restaurants  LyxX4jQXCj6p7ood9Y_ung   \n",
       "1  Food, Pretzels, Bakeries, Fast Food, Restaurants  WqQkmdfkcvQZNGpI6Xzfow   \n",
       "2  Food, Pretzels, Bakeries, Fast Food, Restaurants  lJsEaUqx_iS-IsPD3SHWlg   \n",
       "3  Food, Pretzels, Bakeries, Fast Food, Restaurants  PfyDflR_hCtMsqR19KkNsg   \n",
       "4  Food, Pretzels, Bakeries, Fast Food, Restaurants  RcsBd87ZxdI6h9A-E80X1A   \n",
       "\n",
       "                                                text  stars  \n",
       "0  Love Wetzel's pretzels! I always get them when...    5.0  \n",
       "1  Wetzels's Pretzels is definitely amazing and v...    5.0  \n",
       "2  I love Wetzel's Pretzels. And I can't imagine ...    5.0  \n",
       "3  Never heard of the cheese meltdown pretzel, bu...    4.0  \n",
       "4  PV Mall's food court needs updating, but that ...    4.0  "
      ]
     },
     "execution_count": 6,
     "metadata": {},
     "output_type": "execute_result"
    }
   ],
   "source": [
    "Phoenix.head(5)"
   ]
  },
  {
   "cell_type": "code",
   "execution_count": 7,
   "metadata": {},
   "outputs": [],
   "source": [
    "for i in Phoenix.business_id.value_counts().index[:5].values:\n",
    "    generate_rest_txt(i)"
   ]
  },
  {
   "cell_type": "code",
   "execution_count": 8,
   "metadata": {},
   "outputs": [
    {
     "data": {
      "text/html": [
       "<div>\n",
       "<style scoped>\n",
       "    .dataframe tbody tr th:only-of-type {\n",
       "        vertical-align: middle;\n",
       "    }\n",
       "\n",
       "    .dataframe tbody tr th {\n",
       "        vertical-align: top;\n",
       "    }\n",
       "\n",
       "    .dataframe thead th {\n",
       "        text-align: right;\n",
       "    }\n",
       "</style>\n",
       "<table border=\"1\" class=\"dataframe\">\n",
       "  <thead>\n",
       "    <tr style=\"text-align: right;\">\n",
       "      <th></th>\n",
       "      <th>0</th>\n",
       "    </tr>\n",
       "  </thead>\n",
       "  <tbody>\n",
       "    <tr>\n",
       "      <th>0</th>\n",
       "      <td>Cute place. 30 minute wait, but I was solo so ...</td>\n",
       "    </tr>\n",
       "    <tr>\n",
       "      <th>1</th>\n",
       "      <td>Retro meets modern twist on breakfast...where ...</td>\n",
       "    </tr>\n",
       "    <tr>\n",
       "      <th>2</th>\n",
       "      <td>James is the guy to get as your server when yo...</td>\n",
       "    </tr>\n",
       "    <tr>\n",
       "      <th>3</th>\n",
       "      <td>Three of us headed for Sunday breakfast after ...</td>\n",
       "    </tr>\n",
       "    <tr>\n",
       "      <th>4</th>\n",
       "      <td>Solid food. I got half and half if bella bella...</td>\n",
       "    </tr>\n",
       "    <tr>\n",
       "      <th>...</th>\n",
       "      <td>...</td>\n",
       "    </tr>\n",
       "    <tr>\n",
       "      <th>3603</th>\n",
       "      <td>Breakfast here is so refreshing and unique.  I...</td>\n",
       "    </tr>\n",
       "    <tr>\n",
       "      <th>3604</th>\n",
       "      <td>On our arrival, the parking lot was crazy full...</td>\n",
       "    </tr>\n",
       "    <tr>\n",
       "      <th>3605</th>\n",
       "      <td>This was a surprise find and glad to have this...</td>\n",
       "    </tr>\n",
       "    <tr>\n",
       "      <th>3606</th>\n",
       "      <td>Who doesn't love a breakfast cocktail!? Menu i...</td>\n",
       "    </tr>\n",
       "    <tr>\n",
       "      <th>3607</th>\n",
       "      <td>The place doesn't have an hour wait because th...</td>\n",
       "    </tr>\n",
       "  </tbody>\n",
       "</table>\n",
       "<p>3608 rows × 1 columns</p>\n",
       "</div>"
      ],
      "text/plain": [
       "                                                      0\n",
       "0     Cute place. 30 minute wait, but I was solo so ...\n",
       "1     Retro meets modern twist on breakfast...where ...\n",
       "2     James is the guy to get as your server when yo...\n",
       "3     Three of us headed for Sunday breakfast after ...\n",
       "4     Solid food. I got half and half if bella bella...\n",
       "...                                                 ...\n",
       "3603  Breakfast here is so refreshing and unique.  I...\n",
       "3604  On our arrival, the parking lot was crazy full...\n",
       "3605  This was a surprise find and glad to have this...\n",
       "3606  Who doesn't love a breakfast cocktail!? Menu i...\n",
       "3607  The place doesn't have an hour wait because th...\n",
       "\n",
       "[3608 rows x 1 columns]"
      ]
     },
     "execution_count": 8,
     "metadata": {},
     "output_type": "execute_result"
    }
   ],
   "source": [
    "pd.read_csv('src/restaurant_reviews//Snooze, An A.M. Eatery.txt', sep=\",\", header=None)"
   ]
  },
  {
   "cell_type": "code",
   "execution_count": 9,
   "metadata": {},
   "outputs": [
    {
     "data": {
      "text/plain": [
       "utIA0LyQmwP-9DRyxUe6qQ    3608\n",
       "VyVIneSU7XAWgMBllI6LnQ    3453\n",
       "pSQFynH1VxkfSmehRXlZWw    2575\n",
       "yNPh5SO-7wr8HPpVCDPbXQ    2399\n",
       "Xg5qEQiB-7L6kGJ5F4K3bQ    2387\n",
       "                          ... \n",
       "RJETnHYxNV_2iPWDesBFRA       3\n",
       "l1104J5-U2nGGcuiG5xadQ       3\n",
       "JNG9jHOlE4Ilv02Tnlh7YA       3\n",
       "F53MSa5SYzO9BG8c_JhskQ       3\n",
       "lM406tzHK0HlKtyQxz85EA       3\n",
       "Name: business_id, Length: 4217, dtype: int64"
      ]
     },
     "execution_count": 9,
     "metadata": {},
     "output_type": "execute_result"
    }
   ],
   "source": [
    "Phoenix.business_id.value_counts()"
   ]
  },
  {
   "cell_type": "code",
   "execution_count": 4,
   "metadata": {},
   "outputs": [
    {
     "data": {
      "text/plain": [
       "CxDOIDnH8gp9KXzpBHJYXw    4331\n",
       "bLbSNkLggFnqwNNzzq-Ijw    2555\n",
       "ELcQDlf69kb-ihJfxZyL0A    2039\n",
       "PKEzKWv_FktMm2mGPjwd0Q    1972\n",
       "DK57YibC5ShBmqQl97CKog    1817\n",
       "                          ... \n",
       "SAAtqICHgApForG2PMZLKA       1\n",
       "Eo9mFOrBox_CTbz256V_Qw       1\n",
       "Gpxxn0lCH3ob8Bn453OrIQ       1\n",
       "LB1NKYxQG-SJt1fde2AbdQ       1\n",
       "mZzT2M4NuC6u6DjB6IJJjg       1\n",
       "Name: user_id, Length: 1968703, dtype: int64"
      ]
     },
     "execution_count": 4,
     "metadata": {},
     "output_type": "execute_result"
    }
   ],
   "source": [
    "review.user_id.value_counts()"
   ]
  },
  {
   "cell_type": "code",
   "execution_count": 10,
   "metadata": {},
   "outputs": [],
   "source": [
    "def generate_user_txt(user_id):\n",
    "    user = review.loc[review['user_id'] == user_id]\n",
    "    df = user[['text']].copy()\n",
    "    file_path = 'src/user_reviews/first.txt'\n",
    "    df.to_csv(file_path, header=None, index=None, sep=',', mode='a')\n",
    "    return"
   ]
  },
  {
   "cell_type": "code",
   "execution_count": 11,
   "metadata": {},
   "outputs": [],
   "source": [
    "generate_user_txt('CxDOIDnH8gp9KXzpBHJYXw')"
   ]
  },
  {
   "cell_type": "code",
   "execution_count": null,
   "metadata": {},
   "outputs": [],
   "source": []
  }
 ],
 "metadata": {
  "kernelspec": {
   "display_name": "Python 3",
   "language": "python",
   "name": "python3"
  },
  "language_info": {
   "codemirror_mode": {
    "name": "ipython",
    "version": 3
   },
   "file_extension": ".py",
   "mimetype": "text/x-python",
   "name": "python",
   "nbconvert_exporter": "python",
   "pygments_lexer": "ipython3",
   "version": "3.8.5"
  }
 },
 "nbformat": 4,
 "nbformat_minor": 4
}
