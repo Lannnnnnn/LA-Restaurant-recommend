{
 "cells": [
  {
   "cell_type": "code",
   "execution_count": 3,
   "metadata": {},
   "outputs": [],
   "source": [
    "import json\n",
    "import os\n",
    "import numpy as np\n",
    "import pandas as pd"
   ]
  },
  {
   "cell_type": "code",
   "execution_count": 6,
   "metadata": {},
   "outputs": [],
   "source": [
    "#Keep Json Format\n",
    "#Removes newlines from the json file\n",
    "with open('yelp_academic_dataset_review.json', encoding=\"utf-8\") as f, open(\"yelp_academic_dataset_review_no_newline.json\", \"a\", encoding=\"utf-8\") as out:\n",
    "    i = 0\n",
    "    for line in f:\n",
    "        i += 1\n",
    "        json_line = json.loads(line)\n",
    "        json_line['text'] = json_line['text'].replace(\"\\n\\n\", \"\\n\").replace(\"\\n\", \" \")\n",
    "        json.dump(json_line, out)\n",
    "        out.write('\\n')\n",
    "        #Limits the output file to 100,000 lines\n",
    "        if i == 100000:\n",
    "            break"
   ]
  },
  {
   "cell_type": "code",
   "execution_count": null,
   "metadata": {},
   "outputs": [],
   "source": []
  }
 ],
 "metadata": {
  "kernelspec": {
   "display_name": "Python 3",
   "language": "python",
   "name": "python3"
  },
  "language_info": {
   "codemirror_mode": {
    "name": "ipython",
    "version": 3
   },
   "file_extension": ".py",
   "mimetype": "text/x-python",
   "name": "python",
   "nbconvert_exporter": "python",
   "pygments_lexer": "ipython3",
   "version": "3.9.1"
  }
 },
 "nbformat": 4,
 "nbformat_minor": 4
}
