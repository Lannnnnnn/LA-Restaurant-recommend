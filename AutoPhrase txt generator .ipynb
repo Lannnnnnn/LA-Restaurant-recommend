{
 "cells": [
  {
   "cell_type": "code",
   "execution_count": 1,
   "metadata": {},
   "outputs": [],
   "source": [
    "import numpy as np\n",
    "import pandas as pd"
   ]
  },
  {
   "cell_type": "code",
   "execution_count": 4,
   "metadata": {},
   "outputs": [],
   "source": [
    "Phoenix = pd.read_csv('data/Phoenix_reviews.csv')"
   ]
  },
  {
   "cell_type": "code",
   "execution_count": 5,
   "metadata": {},
   "outputs": [],
   "source": [
    "def generate_txt(business_id):\n",
    "    rest = Phoenix.loc[Phoenix['business_id'] == business_id]\n",
    "    df = rest[['text']].copy()\n",
    "    file_path = 'src/restaurant_reviews/' + rest.name.values[0]+'.txt'\n",
    "    df.to_csv(file_path, header=None, index=None, sep=',', mode='a')\n",
    "    return"
   ]
  },
  {
   "cell_type": "code",
   "execution_count": 6,
   "metadata": {},
   "outputs": [
    {
     "data": {
      "text/html": [
       "<div>\n",
       "<style scoped>\n",
       "    .dataframe tbody tr th:only-of-type {\n",
       "        vertical-align: middle;\n",
       "    }\n",
       "\n",
       "    .dataframe tbody tr th {\n",
       "        vertical-align: top;\n",
       "    }\n",
       "\n",
       "    .dataframe thead th {\n",
       "        text-align: right;\n",
       "    }\n",
       "</style>\n",
       "<table border=\"1\" class=\"dataframe\">\n",
       "  <thead>\n",
       "    <tr style=\"text-align: right;\">\n",
       "      <th></th>\n",
       "      <th>Unnamed: 0</th>\n",
       "      <th>name</th>\n",
       "      <th>business_id</th>\n",
       "      <th>city</th>\n",
       "      <th>categories</th>\n",
       "      <th>review_id</th>\n",
       "      <th>text</th>\n",
       "      <th>stars</th>\n",
       "    </tr>\n",
       "  </thead>\n",
       "  <tbody>\n",
       "    <tr>\n",
       "      <th>0</th>\n",
       "      <td>0</td>\n",
       "      <td>Wetzel's Pretzels</td>\n",
       "      <td>vjTVxnsQEZ34XjYNS-XUpA</td>\n",
       "      <td>Phoenix</td>\n",
       "      <td>Food, Pretzels, Bakeries, Fast Food, Restaurants</td>\n",
       "      <td>LyxX4jQXCj6p7ood9Y_ung</td>\n",
       "      <td>Love Wetzel's pretzels! I always get them when...</td>\n",
       "      <td>5.0</td>\n",
       "    </tr>\n",
       "    <tr>\n",
       "      <th>1</th>\n",
       "      <td>1</td>\n",
       "      <td>Wetzel's Pretzels</td>\n",
       "      <td>vjTVxnsQEZ34XjYNS-XUpA</td>\n",
       "      <td>Phoenix</td>\n",
       "      <td>Food, Pretzels, Bakeries, Fast Food, Restaurants</td>\n",
       "      <td>WqQkmdfkcvQZNGpI6Xzfow</td>\n",
       "      <td>Wetzels's Pretzels is definitely amazing and v...</td>\n",
       "      <td>5.0</td>\n",
       "    </tr>\n",
       "    <tr>\n",
       "      <th>2</th>\n",
       "      <td>2</td>\n",
       "      <td>Wetzel's Pretzels</td>\n",
       "      <td>vjTVxnsQEZ34XjYNS-XUpA</td>\n",
       "      <td>Phoenix</td>\n",
       "      <td>Food, Pretzels, Bakeries, Fast Food, Restaurants</td>\n",
       "      <td>lJsEaUqx_iS-IsPD3SHWlg</td>\n",
       "      <td>I love Wetzel's Pretzels. And I can't imagine ...</td>\n",
       "      <td>5.0</td>\n",
       "    </tr>\n",
       "    <tr>\n",
       "      <th>3</th>\n",
       "      <td>3</td>\n",
       "      <td>Wetzel's Pretzels</td>\n",
       "      <td>vjTVxnsQEZ34XjYNS-XUpA</td>\n",
       "      <td>Phoenix</td>\n",
       "      <td>Food, Pretzels, Bakeries, Fast Food, Restaurants</td>\n",
       "      <td>PfyDflR_hCtMsqR19KkNsg</td>\n",
       "      <td>Never heard of the cheese meltdown pretzel, bu...</td>\n",
       "      <td>4.0</td>\n",
       "    </tr>\n",
       "    <tr>\n",
       "      <th>4</th>\n",
       "      <td>4</td>\n",
       "      <td>Wetzel's Pretzels</td>\n",
       "      <td>vjTVxnsQEZ34XjYNS-XUpA</td>\n",
       "      <td>Phoenix</td>\n",
       "      <td>Food, Pretzels, Bakeries, Fast Food, Restaurants</td>\n",
       "      <td>RcsBd87ZxdI6h9A-E80X1A</td>\n",
       "      <td>PV Mall's food court needs updating, but that ...</td>\n",
       "      <td>4.0</td>\n",
       "    </tr>\n",
       "  </tbody>\n",
       "</table>\n",
       "</div>"
      ],
      "text/plain": [
       "   Unnamed: 0               name             business_id     city  \\\n",
       "0           0  Wetzel's Pretzels  vjTVxnsQEZ34XjYNS-XUpA  Phoenix   \n",
       "1           1  Wetzel's Pretzels  vjTVxnsQEZ34XjYNS-XUpA  Phoenix   \n",
       "2           2  Wetzel's Pretzels  vjTVxnsQEZ34XjYNS-XUpA  Phoenix   \n",
       "3           3  Wetzel's Pretzels  vjTVxnsQEZ34XjYNS-XUpA  Phoenix   \n",
       "4           4  Wetzel's Pretzels  vjTVxnsQEZ34XjYNS-XUpA  Phoenix   \n",
       "\n",
       "                                         categories               review_id  \\\n",
       "0  Food, Pretzels, Bakeries, Fast Food, Restaurants  LyxX4jQXCj6p7ood9Y_ung   \n",
       "1  Food, Pretzels, Bakeries, Fast Food, Restaurants  WqQkmdfkcvQZNGpI6Xzfow   \n",
       "2  Food, Pretzels, Bakeries, Fast Food, Restaurants  lJsEaUqx_iS-IsPD3SHWlg   \n",
       "3  Food, Pretzels, Bakeries, Fast Food, Restaurants  PfyDflR_hCtMsqR19KkNsg   \n",
       "4  Food, Pretzels, Bakeries, Fast Food, Restaurants  RcsBd87ZxdI6h9A-E80X1A   \n",
       "\n",
       "                                                text  stars  \n",
       "0  Love Wetzel's pretzels! I always get them when...    5.0  \n",
       "1  Wetzels's Pretzels is definitely amazing and v...    5.0  \n",
       "2  I love Wetzel's Pretzels. And I can't imagine ...    5.0  \n",
       "3  Never heard of the cheese meltdown pretzel, bu...    4.0  \n",
       "4  PV Mall's food court needs updating, but that ...    4.0  "
      ]
     },
     "execution_count": 6,
     "metadata": {},
     "output_type": "execute_result"
    }
   ],
   "source": [
    "Phoenix.head(5)"
   ]
  },
  {
   "cell_type": "code",
   "execution_count": 7,
   "metadata": {},
   "outputs": [],
   "source": [
    "for i in Phoenix.business_id.value_counts().index[:5].values:\n",
    "    generate_txt(i)"
   ]
  },
  {
   "cell_type": "code",
   "execution_count": null,
   "metadata": {},
   "outputs": [],
   "source": []
  },
  {
   "cell_type": "code",
   "execution_count": null,
   "metadata": {},
   "outputs": [],
   "source": [
    "generate_txt('VyVIneSU7XAWgMBllI6LnQ')"
   ]
  },
  {
   "cell_type": "code",
   "execution_count": null,
   "metadata": {},
   "outputs": [],
   "source": [
    "pd.read_csv('data/Snooze, An A.M. Eatery.txt', sep=\",\", header=None)"
   ]
  },
  {
   "cell_type": "code",
   "execution_count": null,
   "metadata": {},
   "outputs": [],
   "source": []
  }
 ],
 "metadata": {
  "kernelspec": {
   "display_name": "Python 3",
   "language": "python",
   "name": "python3"
  },
  "language_info": {
   "codemirror_mode": {
    "name": "ipython",
    "version": 3
   },
   "file_extension": ".py",
   "mimetype": "text/x-python",
   "name": "python",
   "nbconvert_exporter": "python",
   "pygments_lexer": "ipython3",
   "version": "3.8.5"
  }
 },
 "nbformat": 4,
 "nbformat_minor": 4
}
